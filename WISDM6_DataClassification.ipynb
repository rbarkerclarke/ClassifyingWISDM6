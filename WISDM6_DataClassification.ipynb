{
 "cells": [
  {
   "cell_type": "code",
   "execution_count": 4,
   "id": "d87f6644",
   "metadata": {},
   "outputs": [
    {
     "name": "stdout",
     "output_type": "stream",
     "text": [
      "\u001b[33mDEPRECATION: Configuring installation scheme with distutils config files is deprecated and will no longer work in the near future. If you are using a Homebrew or Linuxbrew Python, please see discussion at https://github.com/Homebrew/homebrew-core/issues/76621\u001b[0m\u001b[33m\n",
      "\u001b[0mRequirement already satisfied: imblearn in /usr/local/lib/python3.9/site-packages (0.0)\n",
      "Requirement already satisfied: imbalanced-learn in /usr/local/lib/python3.9/site-packages (from imblearn) (0.12.4)\n",
      "Requirement already satisfied: numpy>=1.17.3 in /usr/local/lib/python3.9/site-packages (from imbalanced-learn->imblearn) (1.26.4)\n",
      "Requirement already satisfied: scipy>=1.5.0 in /usr/local/lib/python3.9/site-packages (from imbalanced-learn->imblearn) (1.13.1)\n",
      "Requirement already satisfied: scikit-learn>=1.0.2 in /usr/local/lib/python3.9/site-packages (from imbalanced-learn->imblearn) (1.5.1)\n",
      "Requirement already satisfied: joblib>=1.1.1 in /usr/local/lib/python3.9/site-packages (from imbalanced-learn->imblearn) (1.4.2)\n",
      "Requirement already satisfied: threadpoolctl>=2.0.0 in /usr/local/lib/python3.9/site-packages (from imbalanced-learn->imblearn) (3.5.0)\n",
      "\u001b[33mWARNING: Error parsing dependencies of pytorch-lightning: .* suffix can only be used with `==` or `!=` operators\n",
      "    torch (>=1.7.*)\n",
      "           ~~~~~~^\u001b[0m\u001b[33m\n",
      "\u001b[0m\u001b[33mDEPRECATION: Configuring installation scheme with distutils config files is deprecated and will no longer work in the near future. If you are using a Homebrew or Linuxbrew Python, please see discussion at https://github.com/Homebrew/homebrew-core/issues/76621\u001b[0m\u001b[33m\n",
      "\u001b[0m\n",
      "\u001b[1m[\u001b[0m\u001b[34;49mnotice\u001b[0m\u001b[1;39;49m]\u001b[0m\u001b[39;49m A new release of pip is available: \u001b[0m\u001b[31;49m24.3.1\u001b[0m\u001b[39;49m -> \u001b[0m\u001b[32;49m25.0\u001b[0m\n",
      "\u001b[1m[\u001b[0m\u001b[34;49mnotice\u001b[0m\u001b[1;39;49m]\u001b[0m\u001b[39;49m To update, run: \u001b[0m\u001b[32;49mpython3.9 -m pip install --upgrade pip\u001b[0m\n",
      "Note: you may need to restart the kernel to use updated packages.\n"
     ]
    }
   ],
   "source": [
    "%pip install imblearn"
   ]
  },
  {
   "cell_type": "code",
   "execution_count": 5,
   "id": "40fe3e2c",
   "metadata": {},
   "outputs": [],
   "source": [
    "# importing libraries\n",
    "%matplotlib inline\n",
    "import numpy as np \n",
    "import pandas as pd\n",
    "import matplotlib.pyplot as plt\n",
    "import seaborn as sns\n",
    "from scipy import stats\n",
    "from scipy.signal import find_peaks\n",
    "import warnings\n",
    "warnings.filterwarnings('ignore')\n",
    "import imblearn\n",
    "\n",
    "import gausslink\n",
    "\n",
    "import tqdm\n",
    "import time\n",
    "\n",
    "\n",
    "from scipy import signal\n"
   ]
  },
  {
   "cell_type": "code",
   "execution_count": 51,
   "id": "e4bc9c1a",
   "metadata": {
    "scrolled": true
   },
   "outputs": [],
   "source": [
    "# reading raw data file\n",
    "columns = ['user','activity','timestamp', 'x-axis', 'y-axis', 'z-axis']"
   ]
  },
  {
   "cell_type": "code",
   "execution_count": 94,
   "id": "7a8b99da",
   "metadata": {},
   "outputs": [],
   "source": [
    "har_df = pd.read_csv('./WISDM_ar_v1.1/WISDM_ar_v1.1_raw.txt',names = columns, on_bad_lines='skip')"
   ]
  },
  {
   "cell_type": "code",
   "execution_count": 95,
   "id": "19b7af65",
   "metadata": {},
   "outputs": [],
   "source": [
    "# removing null values\n",
    "har_df = har_df.dropna()\n",
    "har_df.shape\n",
    "\n",
    "# transforming the z-axis to float\n",
    "har_df['z-axis'] = har_df['z-axis'].str.replace(';', '')\n",
    "har_df['z-axis'] = har_df['z-axis'].apply(lambda x:float(x))\n",
    "\n",
    "# drop the rows where timestamp is 0\n",
    "df = har_df[har_df['timestamp'] != 0]\n",
    "\n",
    "# now arrange data in ascending order of the user and timestamp\n",
    "df = df.sort_values(by = ['user', 'timestamp'], ignore_index=True)"
   ]
  },
  {
   "cell_type": "code",
   "execution_count": 55,
   "id": "72173d61",
   "metadata": {},
   "outputs": [
    {
     "data": {
      "text/html": [
       "<div>\n",
       "<style scoped>\n",
       "    .dataframe tbody tr th:only-of-type {\n",
       "        vertical-align: middle;\n",
       "    }\n",
       "\n",
       "    .dataframe tbody tr th {\n",
       "        vertical-align: top;\n",
       "    }\n",
       "\n",
       "    .dataframe thead th {\n",
       "        text-align: right;\n",
       "    }\n",
       "</style>\n",
       "<table border=\"1\" class=\"dataframe\">\n",
       "  <thead>\n",
       "    <tr style=\"text-align: right;\">\n",
       "      <th></th>\n",
       "      <th>user</th>\n",
       "      <th>activity</th>\n",
       "      <th>timestamp</th>\n",
       "      <th>x-axis</th>\n",
       "      <th>y-axis</th>\n",
       "      <th>z-axis</th>\n",
       "    </tr>\n",
       "  </thead>\n",
       "  <tbody>\n",
       "    <tr>\n",
       "      <th>792622</th>\n",
       "      <td>28</td>\n",
       "      <td>Walking</td>\n",
       "      <td>1506362316000</td>\n",
       "      <td>-0.08</td>\n",
       "      <td>7.40</td>\n",
       "      <td>3.173541</td>\n",
       "    </tr>\n",
       "    <tr>\n",
       "      <th>792623</th>\n",
       "      <td>28</td>\n",
       "      <td>Walking</td>\n",
       "      <td>1506412243000</td>\n",
       "      <td>-0.04</td>\n",
       "      <td>8.62</td>\n",
       "      <td>2.873893</td>\n",
       "    </tr>\n",
       "    <tr>\n",
       "      <th>792624</th>\n",
       "      <td>28</td>\n",
       "      <td>Walking</td>\n",
       "      <td>1506462292000</td>\n",
       "      <td>0.69</td>\n",
       "      <td>9.53</td>\n",
       "      <td>4.181447</td>\n",
       "    </tr>\n",
       "    <tr>\n",
       "      <th>792625</th>\n",
       "      <td>28</td>\n",
       "      <td>Walking</td>\n",
       "      <td>1506512249000</td>\n",
       "      <td>-0.76</td>\n",
       "      <td>8.92</td>\n",
       "      <td>4.140586</td>\n",
       "    </tr>\n",
       "    <tr>\n",
       "      <th>792626</th>\n",
       "      <td>28</td>\n",
       "      <td>Walking</td>\n",
       "      <td>1506562328000</td>\n",
       "      <td>-1.57</td>\n",
       "      <td>8.58</td>\n",
       "      <td>3.636633</td>\n",
       "    </tr>\n",
       "  </tbody>\n",
       "</table>\n",
       "</div>"
      ],
      "text/plain": [
       "        user activity      timestamp  x-axis  y-axis    z-axis\n",
       "792622    28  Walking  1506362316000   -0.08    7.40  3.173541\n",
       "792623    28  Walking  1506412243000   -0.04    8.62  2.873893\n",
       "792624    28  Walking  1506462292000    0.69    9.53  4.181447\n",
       "792625    28  Walking  1506512249000   -0.76    8.92  4.140586\n",
       "792626    28  Walking  1506562328000   -1.57    8.58  3.636633"
      ]
     },
     "execution_count": 55,
     "metadata": {},
     "output_type": "execute_result"
    }
   ],
   "source": [
    "df_test.head()"
   ]
  },
  {
   "cell_type": "code",
   "execution_count": 96,
   "id": "fcad7785",
   "metadata": {},
   "outputs": [],
   "source": [
    "# train data -> Users upto User ID = 27 (i.e. 27 users)\n",
    "df_train = df[df['user']<28]\n",
    "# test data -> Users from User ID = 28 to 36 (i.e. 9 users)\n",
    "df_test = df[df['user']>27]"
   ]
  },
  {
   "cell_type": "markdown",
   "id": "6bd00733",
   "metadata": {},
   "source": [
    "Downsample Bigger Classes!"
   ]
  },
  {
   "cell_type": "code",
   "execution_count": 47,
   "id": "0b2666f4",
   "metadata": {},
   "outputs": [
    {
     "data": {
      "text/plain": [
       "array(['Walking', 'Jogging', 'Upstairs', 'Downstairs', 'Sitting',\n",
       "       'Standing'], dtype=object)"
      ]
     },
     "execution_count": 47,
     "metadata": {},
     "output_type": "execute_result"
    }
   ],
   "source": [
    "df_train['activity'].unique()"
   ]
  },
  {
   "cell_type": "raw",
   "id": "0577d9a3",
   "metadata": {},
   "source": [
    "import pandas as pd\n",
    "from sklearn.utils import resample\n",
    "\n",
    "# Assuming 'df' is your DataFrame and 'target' is the column with class labels\n",
    "df = df_train\n",
    "\n",
    "# Separate majority and minority classes\n",
    "df_walking = df[df['activity'] == 'Walking']  # Assuming 0 is the majority class\n",
    "df_jogging = df[df['activity'] == 'Jogging']\n",
    "df_upstairs = df[df['activity'] == 'Upstairs']\n",
    "df_downstairs = df[df['activity'] == 'Downstairs']\n",
    "df_sitting = df[df['activity'] == 'Sitting']\n",
    "\n",
    "print(df_walking['activity'].value_counts())\n",
    "print(df_jogging['activity'].value_counts())\n",
    "print(df_upstairs['activity'].value_counts())\n",
    "print(df_downstairs['activity'].value_counts())\n",
    "print(df_sitting['activity'].value_counts())\n"
   ]
  },
  {
   "cell_type": "code",
   "execution_count": 97,
   "id": "19267025",
   "metadata": {},
   "outputs": [],
   "source": [
    "# Statistical Features on raw x, y and z in time domain\n",
    "X_train = pd.DataFrame()\n",
    "x_list = []\n",
    "y_list = []\n",
    "z_list = []\n",
    "train_labels = []\n",
    "\n",
    "window_size = 50 #2s\n",
    "step_size = 50 #2s\n",
    "ds=2"
   ]
  },
  {
   "cell_type": "code",
   "execution_count": 98,
   "id": "b599b434",
   "metadata": {},
   "outputs": [],
   "source": [
    "user_list = df_train.user.unique()\n",
    "activity_list = df_train.activity.unique()"
   ]
  },
  {
   "cell_type": "code",
   "execution_count": 99,
   "id": "6f06067b",
   "metadata": {},
   "outputs": [],
   "source": [
    "for j in user_list:\n",
    "    for k in activity_list:\n",
    "        df_sub = df_train.query(f\"activity=='{k}'\").query(f\"user=={j}\")\n",
    "        df_sub=df_sub.reset_index()\n",
    "        #df_train.query(\"activity=='Walking'\").query(\"user==1\")\n",
    "        for i in range(0, df_sub.shape[0] - window_size, step_size):\n",
    "            #print(i)\n",
    "            xs = df_sub['x-axis'].values[i: i + window_size]\n",
    "            xs = signal.decimate(xs,ds)\n",
    "            ys = df_sub['y-axis'].values[i: i + window_size]\n",
    "            ys = signal.decimate(ys,ds)\n",
    "            zs = df_sub['z-axis'].values[i: i + window_size]\n",
    "            zs = signal.decimate(zs,ds)\n",
    "            label = df_sub['activity'][i: i + window_size][i]\n",
    "\n",
    "            x_list.append(xs)\n",
    "            y_list.append(ys)\n",
    "            z_list.append(zs)\n",
    "            train_labels.append(label)"
   ]
  },
  {
   "cell_type": "code",
   "execution_count": 100,
   "id": "366b1659",
   "metadata": {},
   "outputs": [
    {
     "data": {
      "text/plain": [
       "15790"
      ]
     },
     "execution_count": 100,
     "metadata": {},
     "output_type": "execute_result"
    }
   ],
   "source": [
    "len(train_labels)"
   ]
  },
  {
   "cell_type": "code",
   "execution_count": 101,
   "id": "a9ac3a8c",
   "metadata": {},
   "outputs": [
    {
     "data": {
      "text/plain": [
       "15790"
      ]
     },
     "execution_count": 101,
     "metadata": {},
     "output_type": "execute_result"
    }
   ],
   "source": [
    "Xtr = list(zip(x_list, y_list))\n",
    "len(Xtr)"
   ]
  },
  {
   "cell_type": "code",
   "execution_count": 140,
   "id": "4e3107f7",
   "metadata": {},
   "outputs": [],
   "source": [
    "# creating overlaping windows of size window-size 100\n",
    "\n",
    "# mean\n",
    "X_train['x_mean'] = pd.Series(x_list).apply(lambda x: x.mean())\n",
    "X_train['y_mean'] = pd.Series(y_list).apply(lambda x: x.mean())\n",
    "X_train['z_mean'] = pd.Series(z_list).apply(lambda x: x.mean())\n",
    "\n",
    "# argmin \n",
    "X_train['x_argmin'] = pd.Series(x_list).apply(lambda x: x.argmin())\n",
    "X_train['y_argmin'] = pd.Series(y_list).apply(lambda x: x.argmin())\n",
    "X_train['z_argmin'] = pd.Series(z_list).apply(lambda x: x.argmin())\n",
    "\n",
    "# std dev\n",
    "X_train['x_std'] = pd.Series(x_list).apply(lambda x: x.std())\n",
    "X_train['y_std'] = pd.Series(y_list).apply(lambda x: x.std())\n",
    "X_train['z_std'] = pd.Series(z_list).apply(lambda x: x.std())\n",
    "\n",
    "# avg absolute diff\n",
    "X_train['x_aad'] = pd.Series(x_list).apply(lambda x: np.mean(np.absolute(x - np.mean(x))))\n",
    "X_train['y_aad'] = pd.Series(y_list).apply(lambda x: np.mean(np.absolute(x - np.mean(x))))\n",
    "X_train['z_aad'] = pd.Series(z_list).apply(lambda x: np.mean(np.absolute(x - np.mean(x))))\n",
    "\n",
    "# min\n",
    "X_train['x_min'] = pd.Series(x_list).apply(lambda x: x.min())\n",
    "X_train['y_min'] = pd.Series(y_list).apply(lambda x: x.min())\n",
    "X_train['z_min'] = pd.Series(z_list).apply(lambda x: x.min())\n",
    "\n",
    "# max\n",
    "X_train['x_max'] = pd.Series(x_list).apply(lambda x: x.max())\n",
    "X_train['y_max'] = pd.Series(y_list).apply(lambda x: x.max())\n",
    "X_train['z_max'] = pd.Series(z_list).apply(lambda x: x.max())\n",
    "\n",
    "# skewness\n",
    "X_train['x_skewness'] = pd.Series(x_list).apply(lambda x: stats.skew(x))\n",
    "X_train['y_skewness'] = pd.Series(y_list).apply(lambda x: stats.skew(x))\n",
    "X_train['z_skewness'] = pd.Series(z_list).apply(lambda x: stats.skew(x))\n",
    "\n",
    "#location min ?\n",
    "X_train['x_skewness'] = pd.Series(x_list).apply(lambda x: stats.skew(x))\n",
    "X_train['y_skewness'] = pd.Series(y_list).apply(lambda x: stats.skew(x))\n",
    "X_train['z_skewness'] = pd.Series(z_list).apply(lambda x: stats.skew(x))\n"
   ]
  },
  {
   "cell_type": "code",
   "execution_count": 71,
   "id": "67bcb1b3",
   "metadata": {},
   "outputs": [],
   "source": [
    "y_train = train_labels"
   ]
  },
  {
   "cell_type": "code",
   "execution_count": 141,
   "id": "1b1e84a8",
   "metadata": {},
   "outputs": [
    {
     "name": "stderr",
     "output_type": "stream",
     "text": [
      "  1%|▎                                      | 123/15790 [00:09<19:57, 13.09it/s]\n"
     ]
    },
    {
     "ename": "KeyboardInterrupt",
     "evalue": "",
     "output_type": "error",
     "traceback": [
      "\u001b[0;31m---------------------------------------------------------------------------\u001b[0m",
      "\u001b[0;31mKeyboardInterrupt\u001b[0m                         Traceback (most recent call last)",
      "\u001b[0;32m/var/folders/sl/s42h4v1x3lb1wkpyy7b8gsw80000gn/T/ipykernel_93624/3726563356.py\u001b[0m in \u001b[0;36m<module>\u001b[0;34m\u001b[0m\n\u001b[1;32m      6\u001b[0m     \u001b[0mxyz\u001b[0m \u001b[0;34m=\u001b[0m \u001b[0mnp\u001b[0m\u001b[0;34m.\u001b[0m\u001b[0marray\u001b[0m\u001b[0;34m(\u001b[0m\u001b[0;34m[\u001b[0m\u001b[0mxs\u001b[0m\u001b[0;34m,\u001b[0m\u001b[0mys\u001b[0m\u001b[0;34m,\u001b[0m\u001b[0mzs\u001b[0m\u001b[0;34m]\u001b[0m\u001b[0;34m)\u001b[0m\u001b[0;34m\u001b[0m\u001b[0;34m\u001b[0m\u001b[0m\n\u001b[1;32m      7\u001b[0m     \u001b[0mcoords\u001b[0m \u001b[0;34m=\u001b[0m \u001b[0mnp\u001b[0m\u001b[0;34m.\u001b[0m\u001b[0mswapaxes\u001b[0m\u001b[0;34m(\u001b[0m\u001b[0mxyz\u001b[0m\u001b[0;34m,\u001b[0m\u001b[0;36m0\u001b[0m\u001b[0;34m,\u001b[0m\u001b[0;36m1\u001b[0m\u001b[0;34m)\u001b[0m\u001b[0;34m\u001b[0m\u001b[0;34m\u001b[0m\u001b[0m\n\u001b[0;32m----> 8\u001b[0;31m     \u001b[0mwrithe\u001b[0m \u001b[0;34m=\u001b[0m \u001b[0mgausslink\u001b[0m\u001b[0;34m.\u001b[0m\u001b[0mlinkage_integral\u001b[0m\u001b[0;34m(\u001b[0m\u001b[0mcoords\u001b[0m\u001b[0;34m,\u001b[0m\u001b[0mcoords\u001b[0m\u001b[0;34m)\u001b[0m\u001b[0;34m\u001b[0m\u001b[0;34m\u001b[0m\u001b[0m\n\u001b[0m\u001b[1;32m      9\u001b[0m     \u001b[0mwr\u001b[0m\u001b[0;34m.\u001b[0m\u001b[0mappend\u001b[0m\u001b[0;34m(\u001b[0m\u001b[0mwrithe\u001b[0m\u001b[0;34m)\u001b[0m\u001b[0;34m\u001b[0m\u001b[0;34m\u001b[0m\u001b[0m\n\u001b[1;32m     10\u001b[0m \u001b[0;34m\u001b[0m\u001b[0m\n",
      "\u001b[0;32m~/WritheWearables/gausslink.py\u001b[0m in \u001b[0;36mlinkage_integral\u001b[0;34m(coords0, coords1)\u001b[0m\n\u001b[1;32m     15\u001b[0m \u001b[0;34m\u001b[0m\u001b[0m\n\u001b[1;32m     16\u001b[0m                 \u001b[0;32mif\u001b[0m \u001b[0;34m(\u001b[0m\u001b[0mnp\u001b[0m\u001b[0;34m.\u001b[0m\u001b[0mlinalg\u001b[0m\u001b[0;34m.\u001b[0m\u001b[0mnorm\u001b[0m\u001b[0;34m(\u001b[0m\u001b[0mdiff\u001b[0m\u001b[0;34m)\u001b[0m\u001b[0;34m)\u001b[0m\u001b[0;34m>\u001b[0m\u001b[0;36m0\u001b[0m\u001b[0;34m:\u001b[0m\u001b[0;34m\u001b[0m\u001b[0;34m\u001b[0m\u001b[0m\n\u001b[0;32m---> 17\u001b[0;31m                     \u001b[0mnorm\u001b[0m \u001b[0;34m=\u001b[0m \u001b[0mdiff\u001b[0m\u001b[0;34m/\u001b[0m\u001b[0;34m(\u001b[0m\u001b[0mnp\u001b[0m\u001b[0;34m.\u001b[0m\u001b[0mlinalg\u001b[0m\u001b[0;34m.\u001b[0m\u001b[0mnorm\u001b[0m\u001b[0;34m(\u001b[0m\u001b[0mdiff\u001b[0m\u001b[0;34m)\u001b[0m\u001b[0;34m**\u001b[0m\u001b[0;36m3\u001b[0m\u001b[0;34m)\u001b[0m\u001b[0;34m\u001b[0m\u001b[0;34m\u001b[0m\u001b[0m\n\u001b[0m\u001b[1;32m     18\u001b[0m                     \u001b[0mdr1\u001b[0m \u001b[0;34m=\u001b[0m \u001b[0mcoords0\u001b[0m\u001b[0;34m[\u001b[0m\u001b[0mi\u001b[0m\u001b[0;34m]\u001b[0m\u001b[0;34m-\u001b[0m\u001b[0mcoords0\u001b[0m\u001b[0;34m[\u001b[0m\u001b[0mi\u001b[0m\u001b[0;34m-\u001b[0m\u001b[0;36m1\u001b[0m\u001b[0;34m]\u001b[0m\u001b[0;34m\u001b[0m\u001b[0;34m\u001b[0m\u001b[0m\n\u001b[1;32m     19\u001b[0m                     \u001b[0mdr2\u001b[0m \u001b[0;34m=\u001b[0m \u001b[0mcoords1\u001b[0m\u001b[0;34m[\u001b[0m\u001b[0mj\u001b[0m\u001b[0;34m]\u001b[0m\u001b[0;34m-\u001b[0m\u001b[0mcoords1\u001b[0m\u001b[0;34m[\u001b[0m\u001b[0mj\u001b[0m\u001b[0;34m-\u001b[0m\u001b[0;36m1\u001b[0m\u001b[0;34m]\u001b[0m\u001b[0;34m\u001b[0m\u001b[0;34m\u001b[0m\u001b[0m\n",
      "\u001b[0;32m/usr/local/lib/python3.9/site-packages/numpy/linalg/linalg.py\u001b[0m in \u001b[0;36mnorm\u001b[0;34m(x, ord, axis, keepdims)\u001b[0m\n\u001b[1;32m   2550\u001b[0m                 \u001b[0msqnorm\u001b[0m \u001b[0;34m=\u001b[0m \u001b[0mx_real\u001b[0m\u001b[0;34m.\u001b[0m\u001b[0mdot\u001b[0m\u001b[0;34m(\u001b[0m\u001b[0mx_real\u001b[0m\u001b[0;34m)\u001b[0m \u001b[0;34m+\u001b[0m \u001b[0mx_imag\u001b[0m\u001b[0;34m.\u001b[0m\u001b[0mdot\u001b[0m\u001b[0;34m(\u001b[0m\u001b[0mx_imag\u001b[0m\u001b[0;34m)\u001b[0m\u001b[0;34m\u001b[0m\u001b[0;34m\u001b[0m\u001b[0m\n\u001b[1;32m   2551\u001b[0m             \u001b[0;32melse\u001b[0m\u001b[0;34m:\u001b[0m\u001b[0;34m\u001b[0m\u001b[0;34m\u001b[0m\u001b[0m\n\u001b[0;32m-> 2552\u001b[0;31m                 \u001b[0msqnorm\u001b[0m \u001b[0;34m=\u001b[0m \u001b[0mx\u001b[0m\u001b[0;34m.\u001b[0m\u001b[0mdot\u001b[0m\u001b[0;34m(\u001b[0m\u001b[0mx\u001b[0m\u001b[0;34m)\u001b[0m\u001b[0;34m\u001b[0m\u001b[0;34m\u001b[0m\u001b[0m\n\u001b[0m\u001b[1;32m   2553\u001b[0m             \u001b[0mret\u001b[0m \u001b[0;34m=\u001b[0m \u001b[0msqrt\u001b[0m\u001b[0;34m(\u001b[0m\u001b[0msqnorm\u001b[0m\u001b[0;34m)\u001b[0m\u001b[0;34m\u001b[0m\u001b[0;34m\u001b[0m\u001b[0m\n\u001b[1;32m   2554\u001b[0m             \u001b[0;32mif\u001b[0m \u001b[0mkeepdims\u001b[0m\u001b[0;34m:\u001b[0m\u001b[0;34m\u001b[0m\u001b[0;34m\u001b[0m\u001b[0m\n",
      "\u001b[0;31mKeyboardInterrupt\u001b[0m: "
     ]
    }
   ],
   "source": [
    "wr = []\n",
    "for i in  tqdm.tqdm(range(len(x_list))):\n",
    "    xs = x_list[i]\n",
    "    ys = y_list[i]\n",
    "    zs = z_list[i]\n",
    "    xyz = np.array([xs,ys,zs])\n",
    "    coords = np.swapaxes(xyz,0,1)\n",
    "    writhe = gausslink.linkage_integral(coords,coords)\n",
    "    wr.append(writhe)\n",
    "    \n",
    "X_train['writhe']=wr\n"
   ]
  },
  {
   "cell_type": "code",
   "execution_count": null,
   "id": "b1ad91de",
   "metadata": {},
   "outputs": [],
   "source": [
    "walkingTF = [i for i, string in enumerate(train_labels) if string=='Walking']\n",
    "joggingTF = [i=='Jogging' for i in train_labels]"
   ]
  },
  {
   "cell_type": "code",
   "execution_count": null,
   "id": "291a0ba3",
   "metadata": {},
   "outputs": [],
   "source": [
    "wr_max = []\n",
    "for i in  tqdm.tqdm(range(len(x_list))):\n",
    "    xs = x_list[i]\n",
    "    ys = y_list[i]\n",
    "    zs = z_list[i]\n",
    "    xyz = np.array([xs,ys,zs])\n",
    "    coords = np.swapaxes(xyz,0,1)\n",
    "    writhe_max = linkage_max(coords,coords)\n",
    "    wr_max.append(writhe_max)\n",
    "    \n",
    "X_train['writhe_max']=wr_max\n"
   ]
  },
  {
   "cell_type": "code",
   "execution_count": 73,
   "id": "897e832f",
   "metadata": {},
   "outputs": [],
   "source": [
    "# converting the signals from time domain to frequency domain using FFT\n",
    "wds= len(x_list[0])\n",
    "x_list_fft = pd.Series(x_list).apply(lambda x: np.abs(np.fft.fft(x))[1:wds+1])\n",
    "y_list_fft = pd.Series(y_list).apply(lambda x: np.abs(np.fft.fft(x))[1:wds+1])\n",
    "z_list_fft = pd.Series(z_list).apply(lambda x: np.abs(np.fft.fft(x))[1:wds+1])\n",
    "\n",
    "# Statistical Features on raw x, y and z in frequency domain\n",
    "# FFT mean\n",
    "X_train['x_mean_fft'] = pd.Series(x_list_fft).apply(lambda x: x.mean())\n",
    "X_train['y_mean_fft'] = pd.Series(y_list_fft).apply(lambda x: x.mean())\n",
    "X_train['z_mean_fft'] = pd.Series(z_list_fft).apply(lambda x: x.mean())\n",
    "\n",
    "# FFT std dev\n",
    "X_train['x_std_fft'] = pd.Series(x_list_fft).apply(lambda x: x.std())\n",
    "X_train['y_std_fft'] = pd.Series(y_list_fft).apply(lambda x: x.std())\n",
    "X_train['z_std_fft'] = pd.Series(z_list_fft).apply(lambda x: x.std())\n",
    "\n",
    "# FFT avg absolute diff\n",
    "X_train['x_aad_fft'] = pd.Series(x_list_fft).apply(lambda x: np.mean(np.absolute(x - np.mean(x))))\n",
    "X_train['y_aad_fft'] = pd.Series(y_list_fft).apply(lambda x: np.mean(np.absolute(x - np.mean(x))))\n",
    "X_train['z_aad_fft'] = pd.Series(z_list_fft).apply(lambda x: np.mean(np.absolute(x - np.mean(x))))\n",
    "\n",
    "# FFT min\n",
    "X_train['x_min_fft'] = pd.Series(x_list_fft).apply(lambda x: x.min())\n",
    "X_train['y_min_fft'] = pd.Series(y_list_fft).apply(lambda x: x.min())\n",
    "X_train['z_min_fft'] = pd.Series(z_list_fft).apply(lambda x: x.min())\n",
    "\n",
    "# FFT number of peaks\n",
    "X_train['x_peak_count_fft'] = pd.Series(x_list_fft).apply(lambda x: len(find_peaks(x)[0]))\n",
    "X_train['y_peak_count_fft'] = pd.Series(y_list_fft).apply(lambda x: len(find_peaks(x)[0]))\n",
    "X_train['z_peak_count_fft'] = pd.Series(z_list_fft).apply(lambda x: len(find_peaks(x)[0]))\n",
    "\n",
    "# FFT skewness\n",
    "X_train['x_skewness_fft'] = pd.Series(x_list_fft).apply(lambda x: stats.skew(x))\n",
    "X_train['y_skewness_fft'] = pd.Series(y_list_fft).apply(lambda x: stats.skew(x))\n",
    "X_train['z_skewness_fft'] = pd.Series(z_list_fft).apply(lambda x: stats.skew(x))\n",
    "\n",
    "# FFT kurtosis\n",
    "X_train['x_kurtosis_fft'] = pd.Series(x_list_fft).apply(lambda x: stats.kurtosis(x))\n",
    "X_train['y_kurtosis_fft'] = pd.Series(y_list_fft).apply(lambda x: stats.kurtosis(x))\n",
    "X_train['z_kurtosis_fft'] = pd.Series(z_list_fft).apply(lambda x: stats.kurtosis(x))\n",
    "\n",
    "# FFT energy\n",
    "X_train['x_energy_fft'] = pd.Series(x_list_fft).apply(lambda x: np.sum(x**2)/50)\n",
    "X_train['y_energy_fft'] = pd.Series(y_list_fft).apply(lambda x: np.sum(x**2)/50)\n",
    "X_train['z_energy_fft'] = pd.Series(z_list_fft).apply(lambda x: np.sum(x**2/50))\n",
    "\n",
    "# FFT avg resultant\n",
    "#X_train['avg_result_accl_fft'] = [i.mean() for i in ((pd.Series(x_list_fft)**2 + pd.Series(y_list_fft)**2 + pd.Series(z_list_fft)**2)**0.5)]\n",
    "\n",
    "# FFT Signal magnitude area\n",
    "X_train['sma_fft'] = pd.Series(x_list_fft).apply(lambda x: np.sum(abs(x)/50)) + pd.Series(y_list_fft).apply(lambda x: np.sum(abs(x)/50)) \\\n",
    "                     + pd.Series(z_list_fft).apply(lambda x: np.sum(abs(x)/50))"
   ]
  },
  {
   "cell_type": "code",
   "execution_count": 74,
   "id": "7f9a062c",
   "metadata": {},
   "outputs": [],
   "source": [
    "X_train.to_csv(\"X_fulltrain_downsampled\"+str(window_size)+\"_\"+str(step_size)+\".csv\")"
   ]
  },
  {
   "cell_type": "markdown",
   "id": "ad946fe1",
   "metadata": {},
   "source": [
    "### Create test dataframe\n"
   ]
  },
  {
   "cell_type": "code",
   "execution_count": 56,
   "id": "54ee80c9",
   "metadata": {},
   "outputs": [],
   "source": [
    "# Statistical Features on raw x, y and z in time domain\n",
    "X_test = pd.DataFrame()"
   ]
  },
  {
   "cell_type": "code",
   "execution_count": 57,
   "id": "c3050c52",
   "metadata": {},
   "outputs": [
    {
     "data": {
      "text/html": [
       "<div>\n",
       "<style scoped>\n",
       "    .dataframe tbody tr th:only-of-type {\n",
       "        vertical-align: middle;\n",
       "    }\n",
       "\n",
       "    .dataframe tbody tr th {\n",
       "        vertical-align: top;\n",
       "    }\n",
       "\n",
       "    .dataframe thead th {\n",
       "        text-align: right;\n",
       "    }\n",
       "</style>\n",
       "<table border=\"1\" class=\"dataframe\">\n",
       "  <thead>\n",
       "    <tr style=\"text-align: right;\">\n",
       "      <th></th>\n",
       "      <th>user</th>\n",
       "      <th>activity</th>\n",
       "      <th>timestamp</th>\n",
       "      <th>x-axis</th>\n",
       "      <th>y-axis</th>\n",
       "      <th>z-axis</th>\n",
       "    </tr>\n",
       "  </thead>\n",
       "  <tbody>\n",
       "    <tr>\n",
       "      <th>792622</th>\n",
       "      <td>28</td>\n",
       "      <td>Walking</td>\n",
       "      <td>1506362316000</td>\n",
       "      <td>-0.08</td>\n",
       "      <td>7.40</td>\n",
       "      <td>3.173541</td>\n",
       "    </tr>\n",
       "    <tr>\n",
       "      <th>792623</th>\n",
       "      <td>28</td>\n",
       "      <td>Walking</td>\n",
       "      <td>1506412243000</td>\n",
       "      <td>-0.04</td>\n",
       "      <td>8.62</td>\n",
       "      <td>2.873893</td>\n",
       "    </tr>\n",
       "    <tr>\n",
       "      <th>792624</th>\n",
       "      <td>28</td>\n",
       "      <td>Walking</td>\n",
       "      <td>1506462292000</td>\n",
       "      <td>0.69</td>\n",
       "      <td>9.53</td>\n",
       "      <td>4.181447</td>\n",
       "    </tr>\n",
       "    <tr>\n",
       "      <th>792625</th>\n",
       "      <td>28</td>\n",
       "      <td>Walking</td>\n",
       "      <td>1506512249000</td>\n",
       "      <td>-0.76</td>\n",
       "      <td>8.92</td>\n",
       "      <td>4.140586</td>\n",
       "    </tr>\n",
       "    <tr>\n",
       "      <th>792626</th>\n",
       "      <td>28</td>\n",
       "      <td>Walking</td>\n",
       "      <td>1506562328000</td>\n",
       "      <td>-1.57</td>\n",
       "      <td>8.58</td>\n",
       "      <td>3.636633</td>\n",
       "    </tr>\n",
       "  </tbody>\n",
       "</table>\n",
       "</div>"
      ],
      "text/plain": [
       "        user activity      timestamp  x-axis  y-axis    z-axis\n",
       "792622    28  Walking  1506362316000   -0.08    7.40  3.173541\n",
       "792623    28  Walking  1506412243000   -0.04    8.62  2.873893\n",
       "792624    28  Walking  1506462292000    0.69    9.53  4.181447\n",
       "792625    28  Walking  1506512249000   -0.76    8.92  4.140586\n",
       "792626    28  Walking  1506562328000   -1.57    8.58  3.636633"
      ]
     },
     "execution_count": 57,
     "metadata": {},
     "output_type": "execute_result"
    }
   ],
   "source": [
    "df_test.head()"
   ]
  },
  {
   "cell_type": "code",
   "execution_count": 86,
   "id": "9b3f6e0f",
   "metadata": {},
   "outputs": [],
   "source": [
    "df_test = df_test.drop('level_0',axis=1)"
   ]
  },
  {
   "cell_type": "code",
   "execution_count": 77,
   "id": "22634056",
   "metadata": {},
   "outputs": [],
   "source": [
    "#df_test= df_test.reset_index()\n",
    "user_list = df_test.user.unique()\n",
    "x_list = []\n",
    "y_list = []\n",
    "z_list = []\n",
    "test_labels = []\n",
    "\n",
    "window_size = 50\n",
    "step_size = 50\n",
    "\n",
    "for j in user_list:\n",
    "    for k in activity_list:\n",
    "        df_sub = df_test.query(f\"activity=='{k}'\").query(f\"user=={j}\")\n",
    "        df_sub=df_sub.reset_index()\n",
    "        #df_train.query(\"activity=='Walking'\").query(\"user==1\")\n",
    "        for i in range(0, df_sub.shape[0] - window_size, step_size):\n",
    "            #print(i)\n",
    "            xs = df_sub['x-axis'].values[i: i + window_size]\n",
    "            xs = signal.decimate(xs,ds)\n",
    "            ys = df_sub['y-axis'].values[i: i + window_size]\n",
    "            ys = signal.decimate(ys,ds)\n",
    "            zs = df_sub['z-axis'].values[i: i + window_size]\n",
    "            zs = signal.decimate(zs,ds)\n",
    "            label = df_sub['activity'][i: i + window_size][i]\n",
    "\n",
    "            x_list.append(xs)\n",
    "            y_list.append(ys)\n",
    "            z_list.append(zs)\n",
    "            test_labels.append(label)\n",
    "\n",
    "\n"
   ]
  },
  {
   "cell_type": "code",
   "execution_count": 102,
   "id": "eb6a3748",
   "metadata": {},
   "outputs": [
    {
     "data": {
      "text/plain": [
       "5593"
      ]
     },
     "execution_count": 102,
     "metadata": {},
     "output_type": "execute_result"
    }
   ],
   "source": [
    "len(Xte)"
   ]
  },
  {
   "cell_type": "code",
   "execution_count": 78,
   "id": "2b885e59",
   "metadata": {},
   "outputs": [],
   "source": [
    "Xte = list(zip(x_list, y_list))"
   ]
  },
  {
   "cell_type": "code",
   "execution_count": 58,
   "id": "2f3cd47d",
   "metadata": {},
   "outputs": [],
   "source": [
    "# mean\n",
    "X_test['x_mean'] = pd.Series(x_list).apply(lambda x: x.mean())\n",
    "X_test['y_mean'] = pd.Series(y_list).apply(lambda x: x.mean())\n",
    "X_test['z_mean'] = pd.Series(z_list).apply(lambda x: x.mean())\n",
    "\n",
    "# argmin \n",
    "X_test['x_argmin'] = pd.Series(x_list).apply(lambda x: x.argmin())\n",
    "X_test['y_argmin'] = pd.Series(y_list).apply(lambda x: x.argmin())\n",
    "X_test['z_argmin'] = pd.Series(z_list).apply(lambda x: x.argmin())\n",
    "\n",
    "# std dev\n",
    "X_test['x_std'] = pd.Series(x_list).apply(lambda x: x.std())\n",
    "X_test['y_std'] = pd.Series(y_list).apply(lambda x: x.std())\n",
    "X_test['z_std'] = pd.Series(z_list).apply(lambda x: x.std())\n",
    "\n",
    "# avg absolute diff\n",
    "X_test['x_aad'] = pd.Series(x_list).apply(lambda x: np.mean(np.absolute(x - np.mean(x))))\n",
    "X_test['y_aad'] = pd.Series(y_list).apply(lambda x: np.mean(np.absolute(x - np.mean(x))))\n",
    "X_test['z_aad'] = pd.Series(z_list).apply(lambda x: np.mean(np.absolute(x - np.mean(x))))\n",
    "\n",
    "# min\n",
    "X_test['x_min'] = pd.Series(x_list).apply(lambda x: x.min())\n",
    "X_test['y_min'] = pd.Series(y_list).apply(lambda x: x.min())\n",
    "X_test['z_min'] = pd.Series(z_list).apply(lambda x: x.min())\n",
    "\n",
    "# max\n",
    "X_test['x_max'] = pd.Series(x_list).apply(lambda x: x.max())\n",
    "X_test['y_max'] = pd.Series(y_list).apply(lambda x: x.max())\n",
    "X_test['z_max'] = pd.Series(z_list).apply(lambda x: x.max())\n",
    "\n",
    "# skewness\n",
    "X_test['x_skewness'] = pd.Series(x_list).apply(lambda x: stats.skew(x))\n",
    "X_test['y_skewness'] = pd.Series(y_list).apply(lambda x: stats.skew(x))\n",
    "X_test['z_skewness'] = pd.Series(z_list).apply(lambda x: stats.skew(x))\n"
   ]
  },
  {
   "cell_type": "code",
   "execution_count": 88,
   "id": "64982505",
   "metadata": {
    "scrolled": true
   },
   "outputs": [
    {
     "name": "stderr",
     "output_type": "stream",
     "text": [
      "100%|███████████████████████████████████████| 5593/5593 [02:35<00:00, 36.08it/s]\n"
     ]
    }
   ],
   "source": [
    "wr = []\n",
    "#wr_max = []\n",
    "for i in tqdm.tqdm(range(len(x_list))):\n",
    "    xs = x_list[i]\n",
    "    ys = y_list[i]\n",
    "    zs = z_list[i]\n",
    "    xyz = np.array([xs,ys,zs])\n",
    "    coords = np.swapaxes(xyz,0,1)\n",
    "    writhe = gausslink.linkage_integral(coords,coords)\n",
    "    #writhe_max = linkage_max(coords,coords)\n",
    "    wr.append(writhe)\n",
    "    #wr_max.append(writhe_max)\n",
    "\n",
    "X_test[\"writhe\"]=wr\n",
    "#X_test['writhe_max']=wr_max"
   ]
  },
  {
   "cell_type": "code",
   "execution_count": 89,
   "id": "a5569d1b",
   "metadata": {},
   "outputs": [],
   "source": [
    "X_train['abs_writhe']=np.abs(X_train[\"writhe\"])\n",
    "X_test['abs_writhe']=np.abs(X_test[\"writhe\"])\n",
    "\n",
    "X_train['log_writhe']=np.log10(X_train['abs_writhe'])\n",
    "X_test['log_writhe']=np.log10(X_test['abs_writhe'])"
   ]
  },
  {
   "cell_type": "code",
   "execution_count": 90,
   "id": "5addedae",
   "metadata": {},
   "outputs": [],
   "source": [
    "# converting the signals from time domain to frequency domain using FFT\n",
    "x_list_fft = pd.Series(x_list).apply(lambda x: np.abs(np.fft.fft(x))[1:wds+1])\n",
    "y_list_fft = pd.Series(y_list).apply(lambda x: np.abs(np.fft.fft(x))[1:wds+1])\n",
    "z_list_fft = pd.Series(z_list).apply(lambda x: np.abs(np.fft.fft(x))[1:wds+1])\n",
    "\n",
    "# Statistical Features on raw x, y and z in frequency domain\n",
    "# FFT mean\n",
    "X_test['x_mean_fft'] = pd.Series(x_list_fft).apply(lambda x: x.mean())\n",
    "X_test['y_mean_fft'] = pd.Series(y_list_fft).apply(lambda x: x.mean())\n",
    "X_test['z_mean_fft'] = pd.Series(z_list_fft).apply(lambda x: x.mean())\n",
    "\n",
    "# FFT std dev\n",
    "X_test['x_std_fft'] = pd.Series(x_list_fft).apply(lambda x: x.std())\n",
    "X_test['y_std_fft'] = pd.Series(y_list_fft).apply(lambda x: x.std())\n",
    "X_test['z_std_fft'] = pd.Series(z_list_fft).apply(lambda x: x.std())\n",
    "\n",
    "# FFT avg absolute diff\n",
    "X_test['x_aad_fft'] = pd.Series(x_list_fft).apply(lambda x: np.mean(np.absolute(x - np.mean(x))))\n",
    "X_test['y_aad_fft'] = pd.Series(y_list_fft).apply(lambda x: np.mean(np.absolute(x - np.mean(x))))\n",
    "X_test['z_aad_fft'] = pd.Series(z_list_fft).apply(lambda x: np.mean(np.absolute(x - np.mean(x))))\n",
    "\n",
    "# FFT min\n",
    "X_test['x_min_fft'] = pd.Series(x_list_fft).apply(lambda x: x.min())\n",
    "X_test['y_min_fft'] = pd.Series(y_list_fft).apply(lambda x: x.min())\n",
    "X_test['z_min_fft'] = pd.Series(z_list_fft).apply(lambda x: x.min())\n",
    "\n",
    "\n",
    "# FFT number of peaks\n",
    "X_test['x_peak_count_fft'] = pd.Series(x_list_fft).apply(lambda x: len(find_peaks(x)[0]))\n",
    "X_test['y_peak_count_fft'] = pd.Series(y_list_fft).apply(lambda x: len(find_peaks(x)[0]))\n",
    "X_test['z_peak_count_fft'] = pd.Series(z_list_fft).apply(lambda x: len(find_peaks(x)[0]))\n",
    "\n",
    "# FFT skewness\n",
    "X_test['x_skewness_fft'] = pd.Series(x_list_fft).apply(lambda x: stats.skew(x))\n",
    "X_test['y_skewness_fft'] = pd.Series(y_list_fft).apply(lambda x: stats.skew(x))\n",
    "X_test['z_skewness_fft'] = pd.Series(z_list_fft).apply(lambda x: stats.skew(x))\n",
    "\n",
    "# FFT kurtosis\n",
    "X_test['x_kurtosis_fft'] = pd.Series(x_list_fft).apply(lambda x: stats.kurtosis(x))\n",
    "X_test['y_kurtosis_fft'] = pd.Series(y_list_fft).apply(lambda x: stats.kurtosis(x))\n",
    "X_test['z_kurtosis_fft'] = pd.Series(z_list_fft).apply(lambda x: stats.kurtosis(x))\n",
    "\n",
    "# FFT energy\n",
    "X_test['x_energy_fft'] = pd.Series(x_list_fft).apply(lambda x: np.sum(x**2)/50)\n",
    "X_test['y_energy_fft'] = pd.Series(y_list_fft).apply(lambda x: np.sum(x**2)/50)\n",
    "X_test['z_energy_fft'] = pd.Series(z_list_fft).apply(lambda x: np.sum(x**2/50))\n",
    "\n",
    "# FFT avg resultant\n",
    "#X_train['avg_result_accl_fft'] = [i.mean() for i in ((pd.Series(x_list_fft)**2 + pd.Series(y_list_fft)**2 + pd.Series(z_list_fft)**2)**0.5)]\n",
    "\n",
    "# FFT Signal magnitude area\n",
    "X_test['sma_fft'] = pd.Series(x_list_fft).apply(lambda x: np.sum(abs(x)/50)) + pd.Series(y_list_fft).apply(lambda x: np.sum(abs(x)/50)) \\\n",
    "                     + pd.Series(z_list_fft).apply(lambda x: np.sum(abs(x)/50))"
   ]
  },
  {
   "cell_type": "code",
   "execution_count": 122,
   "id": "e2cd0264",
   "metadata": {},
   "outputs": [],
   "source": [
    "X_test['mean_aad']=(X_test['x_aad']+X_test['y_aad']+X_test['z_aad'])/3\n",
    "X_train['mean_aad']=(X_train['x_aad']+X_train['y_aad']+X_train['z_aad'])/3"
   ]
  },
  {
   "cell_type": "code",
   "execution_count": 91,
   "id": "10914396",
   "metadata": {},
   "outputs": [],
   "source": [
    "y_train = np.array(train_labels)\n",
    "y_test = np.array(test_labels)"
   ]
  },
  {
   "cell_type": "markdown",
   "id": "c31aae3a",
   "metadata": {},
   "source": [
    "## Under/Over Sampling "
   ]
  },
  {
   "cell_type": "code",
   "execution_count": 123,
   "id": "b4d3c6af",
   "metadata": {},
   "outputs": [
    {
     "data": {
      "text/plain": [
       "0         \n",
       "Downstairs    6145\n",
       "Jogging       6145\n",
       "Sitting       6145\n",
       "Standing      6145\n",
       "Upstairs      6145\n",
       "Walking       6145\n",
       "Name: count, dtype: int64"
      ]
     },
     "execution_count": 123,
     "metadata": {},
     "output_type": "execute_result"
    }
   ],
   "source": [
    "from imblearn.under_sampling import RandomUnderSampler\n",
    "from imblearn.over_sampling import RandomOverSampler\n",
    "rus = RandomUnderSampler(random_state=42)\n",
    "ros = RandomOverSampler(random_state=42)\n",
    "X_res, y_res = ros.fit_resample(X_train, y_train)\n",
    "\n",
    "pd.DataFrame(y_res).value_counts()"
   ]
  },
  {
   "cell_type": "code",
   "execution_count": null,
   "id": "dd08c33d",
   "metadata": {},
   "outputs": [],
   "source": [
    "#X_train['y_train']=train_labels"
   ]
  },
  {
   "cell_type": "markdown",
   "id": "9ed9b91b",
   "metadata": {},
   "source": [
    "## Train Models"
   ]
  },
  {
   "cell_type": "code",
   "execution_count": 124,
   "id": "af2e119d",
   "metadata": {
    "scrolled": true
   },
   "outputs": [
    {
     "name": "stdout",
     "output_type": "stream",
     "text": [
      "Accuracy: 0.7323440014303594\n",
      "\n",
      " -------------Classification Report-------------\n",
      "\n",
      "              precision    recall  f1-score   support\n",
      "\n",
      "  Downstairs       0.52      0.70      0.60       572\n",
      "     Jogging       0.80      0.78      0.79      1517\n",
      "     Sitting       0.78      0.99      0.87       355\n",
      "    Standing       0.96      0.74      0.84       320\n",
      "    Upstairs       0.39      0.51      0.44       634\n",
      "     Walking       0.89      0.73      0.80      2195\n",
      "\n",
      "    accuracy                           0.73      5593\n",
      "   macro avg       0.72      0.74      0.72      5593\n",
      "weighted avg       0.77      0.73      0.74      5593\n",
      "\n"
     ]
    }
   ],
   "source": [
    "from sklearn.preprocessing import StandardScaler\n",
    "from sklearn.linear_model import LogisticRegression\n",
    "from sklearn.metrics import accuracy_score\n",
    "from sklearn.metrics import classification_report\n",
    "from sklearn.metrics import confusion_matrix\n",
    "# standardization\n",
    "\n",
    "scaler = StandardScaler()\n",
    "scaler.fit(X_res[X_test.columns])\n",
    "X_train_data_lr = scaler.transform(X_res[X_test.columns])\n",
    "X_test_data_lr = scaler.transform(X_test)\n",
    "\n",
    "# logistic regression model\n",
    "lr = LogisticRegression(random_state = 21)\n",
    "lr.fit(X_train_data_lr, y_res)\n",
    "y_pred_lr = lr.predict(X_test_data_lr)\n",
    "print(\"Accuracy:\", accuracy_score(y_test, y_pred_lr))\n",
    "print(\"\\n -------------Classification Report-------------\\n\")\n",
    "print(classification_report(y_test, y_pred_lr))"
   ]
  },
  {
   "cell_type": "code",
   "execution_count": 125,
   "id": "4f72c392",
   "metadata": {
    "scrolled": true
   },
   "outputs": [
    {
     "name": "stdout",
     "output_type": "stream",
     "text": [
      "             feature  coefficient\n",
      "8              y_aad     5.066643\n",
      "43      y_energy_fft    -4.937823\n",
      "42      x_energy_fft    -3.788723\n",
      "46          mean_aad     3.277001\n",
      "9              z_aad     2.431060\n",
      "6              z_std    -2.300113\n",
      "14             y_max     1.864560\n",
      "12             z_min    -1.828111\n",
      "3             z_mean     1.760952\n",
      "11             y_min    -1.577521\n",
      "7              x_aad     1.390665\n",
      "23        z_mean_fft    -1.210355\n",
      "28         y_aad_fft    -1.207138\n",
      "26         z_std_fft    -1.202978\n",
      "24         x_std_fft    -1.198786\n",
      "21        x_mean_fft     0.929860\n",
      "13             x_max     0.877061\n",
      "27         x_aad_fft     0.849509\n",
      "15             z_max     0.576450\n",
      "5              y_std    -0.485183\n",
      "37    y_skewness_fft     0.435492\n",
      "20        log_writhe     0.409366\n",
      "22        y_mean_fft     0.374973\n",
      "41    z_kurtosis_fft    -0.354498\n",
      "18        z_skewness    -0.311779\n",
      "40    y_kurtosis_fft    -0.307292\n",
      "36    x_skewness_fft     0.295256\n",
      "2             y_mean    -0.280158\n",
      "44      z_energy_fft     0.227537\n",
      "17        y_skewness     0.197568\n",
      "45           sma_fft     0.178947\n",
      "33  x_peak_count_fft    -0.160683\n",
      "4              x_std     0.154318\n",
      "19        abs_writhe    -0.142624\n",
      "34  y_peak_count_fft    -0.125166\n",
      "31         y_min_fft    -0.113603\n",
      "16        x_skewness    -0.108109\n",
      "10             x_min     0.107938\n",
      "29         z_aad_fft     0.085533\n",
      "25         y_std_fft    -0.077013\n",
      "1             x_mean     0.069447\n",
      "0             writhe     0.051562\n",
      "35  z_peak_count_fft    -0.029767\n",
      "32         z_min_fft    -0.027209\n",
      "38    z_skewness_fft     0.019316\n",
      "39    x_kurtosis_fft     0.012012\n",
      "30         x_min_fft     0.007765\n"
     ]
    }
   ],
   "source": [
    "# Get the coefficients\n",
    "coefficients = lr.coef_[0]\n",
    "\n",
    "# Create a dataframe to display the coefficients\n",
    "feature_importance = pd.DataFrame({'feature': X_test.columns, 'coefficient': coefficients})\n",
    "\n",
    "# Sort the dataframe by the absolute value of the coefficients\n",
    "feature_importance = feature_importance.sort_values('coefficient', key=abs, ascending=False)\n",
    "\n",
    "print(feature_importance)"
   ]
  },
  {
   "cell_type": "code",
   "execution_count": null,
   "id": "0b2d57cf",
   "metadata": {},
   "outputs": [],
   "source": []
  },
  {
   "cell_type": "code",
   "execution_count": 126,
   "id": "807c324e",
   "metadata": {},
   "outputs": [],
   "source": [
    "# Data Processing\n",
    "import pandas as pd\n",
    "import numpy as np\n",
    "\n",
    "# Modelling\n",
    "from sklearn.ensemble import RandomForestClassifier\n",
    "from sklearn.metrics import accuracy_score, confusion_matrix, precision_score, recall_score, ConfusionMatrixDisplay\n",
    "from sklearn.model_selection import RandomizedSearchCV, train_test_split\n",
    "from scipy.stats import randint"
   ]
  },
  {
   "cell_type": "code",
   "execution_count": 127,
   "id": "cc4374fc",
   "metadata": {},
   "outputs": [
    {
     "name": "stdout",
     "output_type": "stream",
     "text": [
      "Accuracy: 0.7602360092973359\n"
     ]
    }
   ],
   "source": [
    "rf = RandomForestClassifier()\n",
    "rf.fit(X_train_data_lr, y_res)\n",
    "y_pred_rf = rf.predict(X_test_data_lr)\n",
    "\n",
    "accuracy = accuracy_score(y_test, y_pred_rf)\n",
    "print(\"Accuracy:\", accuracy)"
   ]
  },
  {
   "cell_type": "code",
   "execution_count": 128,
   "id": "67daa846",
   "metadata": {},
   "outputs": [
    {
     "data": {
      "image/png": "[encoded data removed]",
      "text/plain": [
       "<Figure size 432x288 with 2 Axes>"
      ]
     },
     "metadata": {
      "needs_background": "light"
     },
     "output_type": "display_data"
    },
    {
     "data": {
      "image/png": "[encoded data removed]",
      "text/plain": [
       "<Figure size 432x288 with 2 Axes>"
      ]
     },
     "metadata": {
      "needs_background": "light"
     },
     "output_type": "display_data"
    }
   ],
   "source": [
    "# Create the confusion matrix\n",
    "cm = confusion_matrix(y_test, y_pred_rf)\n",
    "labels = ['Downstairs', 'Jogging', 'Sitting', 'Standing', 'Upstairs', 'Walking']\n",
    "sns.heatmap(cm, xticklabels=labels, yticklabels=labels, annot=True,linewidths = 0.1, fmt='d', cmap = 'YlGnBu')\n",
    "plt.title('CM Random Forest', fontsize = 15)\n",
    "plt.ylabel('True label')\n",
    "plt.xlabel('Predicted label')\n",
    "plt.show()\n",
    "\n",
    "cm = confusion_matrix(y_test, y_pred_lr)\n",
    "labels = ['Downstairs', 'Jogging', 'Sitting', 'Standing', 'Upstairs', 'Walking']\n",
    "sns.heatmap(cm, xticklabels=labels, yticklabels=labels, annot=True,linewidths = 0.1, fmt='d', cmap = 'YlGnBu')\n",
    "plt.title('CM Random Logistic Regression', fontsize = 15)\n",
    "plt.ylabel('True label')\n",
    "plt.xlabel('Predicted label')\n",
    "plt.show()\n"
   ]
  },
  {
   "cell_type": "code",
   "execution_count": 129,
   "id": "9b1ac176",
   "metadata": {},
   "outputs": [
    {
     "data": {
      "image/png": "[encoded data removed]",
      "text/plain": [
       "<Figure size 432x288 with 1 Axes>"
      ]
     },
     "metadata": {
      "needs_background": "light"
     },
     "output_type": "display_data"
    }
   ],
   "source": [
    "# Create a series containing feature importances from the model and feature names from the training data\n",
    "feature_importances = pd.Series(rf.feature_importances_, index=X_test.columns).sort_values(ascending=False)\n",
    "\n",
    "# Plot a simple bar chart\n",
    "feature_importances.plot.bar();"
   ]
  },
  {
   "cell_type": "code",
   "execution_count": 131,
   "id": "eb90c4ee",
   "metadata": {},
   "outputs": [
    {
     "data": {
      "text/plain": [
       "Index(['x_mean', 'y_mean', 'z_mean', 'x_std', 'y_std', 'z_std', 'x_aad',\n",
       "       'y_aad', 'z_aad', 'x_min', 'y_min', 'z_min', 'x_max', 'y_max', 'z_max',\n",
       "       'x_skewness', 'y_skewness', 'z_skewness', 'writhe', 'x_mean_fft',\n",
       "       'y_mean_fft', 'z_mean_fft', 'x_std_fft', 'y_std_fft', 'z_std_fft',\n",
       "       'x_aad_fft', 'y_aad_fft', 'z_aad_fft', 'x_min_fft', 'y_min_fft',\n",
       "       'z_min_fft', 'x_peak_count_fft', 'y_peak_count_fft', 'z_peak_count_fft',\n",
       "       'x_skewness_fft', 'y_skewness_fft', 'z_skewness_fft', 'x_kurtosis_fft',\n",
       "       'y_kurtosis_fft', 'z_kurtosis_fft', 'x_energy_fft', 'y_energy_fft',\n",
       "       'z_energy_fft', 'sma_fft', 'abs_writhe', 'log_writhe', 'y_train',\n",
       "       'mean_aad'],\n",
       "      dtype='object')"
      ]
     },
     "execution_count": 131,
     "metadata": {},
     "output_type": "execute_result"
    }
   ],
   "source": [
    "X_train.columns"
   ]
  },
  {
   "cell_type": "markdown",
   "id": "54bd6b73",
   "metadata": {},
   "source": [
    "## Feature Correlation "
   ]
  },
  {
   "cell_type": "code",
   "execution_count": 135,
   "id": "d830df21",
   "metadata": {},
   "outputs": [
    {
     "data": {
      "image/png": "[encoded data removed]",
      "text/plain": [
       "<Figure size 864x864 with 2 Axes>"
      ]
     },
     "metadata": {
      "needs_background": "light"
     },
     "output_type": "display_data"
    }
   ],
   "source": [
    "plt.figure(figsize=(12, 12))\n",
    "\n",
    "corr_m = X_train.drop('y_train',axis=1).corr()\n",
    "sns.heatmap(corr_m)\n",
    "plt.show()"
   ]
  },
  {
   "cell_type": "code",
   "execution_count": null,
   "id": "7ce715b6",
   "metadata": {},
   "outputs": [],
   "source": []
  },
  {
   "cell_type": "code",
   "execution_count": 53,
   "id": "211f25b3",
   "metadata": {},
   "outputs": [
    {
     "data": {
      "image/png": "[encoded data removed]",
      "text/plain": [
       "<Figure size 432x288 with 2 Axes>"
      ]
     },
     "metadata": {
      "needs_background": "light"
     },
     "output_type": "display_data"
    }
   ],
   "source": [
    "labels = ['Downstairs', 'Jogging', 'Sitting', 'Standing', 'Upstairs', 'Walking']\n",
    "confusion_matrix = confusion_matrix(y_test, y_pred)\n",
    "sns.heatmap(confusion_matrix, xticklabels=labels, yticklabels=labels, annot=True,linewidths = 0.1, fmt='d', cmap = 'YlGnBu')\n",
    "plt.title('Confusion matrix', fontsize = 15)\n",
    "plt.ylabel('True label')\n",
    "plt.xlabel('Predicted label')\n",
    "plt.show()"
   ]
  },
  {
   "cell_type": "markdown",
   "id": "4f166b33",
   "metadata": {},
   "source": [
    "## Writhe features by activity"
   ]
  },
  {
   "cell_type": "code",
   "execution_count": 100,
   "id": "13439133",
   "metadata": {},
   "outputs": [],
   "source": [
    "X_test['writhe']=np.abs(X_test['writhe'])"
   ]
  },
  {
   "cell_type": "code",
   "execution_count": 101,
   "id": "6abe76eb",
   "metadata": {},
   "outputs": [],
   "source": [
    "X_train['log_writhe'] = np.log10(X_train['abs_writhe'])\n",
    "#X_train['log_writhe_mean'] = np.log10(X_train['writhe_mean'])"
   ]
  },
  {
   "cell_type": "code",
   "execution_count": 102,
   "id": "5c85db33",
   "metadata": {},
   "outputs": [],
   "source": [
    "X_train['abs_writhe']=np.abs(X_train['writhe'])\n",
    "#X_train['writhe_mean']=X_train['abs_writhe']*np.abs(X_train['x_max'])"
   ]
  },
  {
   "cell_type": "code",
   "execution_count": 103,
   "id": "4e008c9f",
   "metadata": {},
   "outputs": [
    {
     "ename": "KeyError",
     "evalue": "'writhe_max'",
     "output_type": "error",
     "traceback": [
      "\u001b[0;31m---------------------------------------------------------------------------\u001b[0m",
      "\u001b[0;31mKeyError\u001b[0m                                  Traceback (most recent call last)",
      "\u001b[0;32m/usr/local/lib/python3.9/site-packages/pandas/core/indexes/base.py\u001b[0m in \u001b[0;36mget_loc\u001b[0;34m(self, key)\u001b[0m\n\u001b[1;32m   3804\u001b[0m         \u001b[0;32mtry\u001b[0m\u001b[0;34m:\u001b[0m\u001b[0;34m\u001b[0m\u001b[0;34m\u001b[0m\u001b[0m\n\u001b[0;32m-> 3805\u001b[0;31m             \u001b[0;32mreturn\u001b[0m \u001b[0mself\u001b[0m\u001b[0;34m.\u001b[0m\u001b[0m_engine\u001b[0m\u001b[0;34m.\u001b[0m\u001b[0mget_loc\u001b[0m\u001b[0;34m(\u001b[0m\u001b[0mcasted_key\u001b[0m\u001b[0;34m)\u001b[0m\u001b[0;34m\u001b[0m\u001b[0;34m\u001b[0m\u001b[0m\n\u001b[0m\u001b[1;32m   3806\u001b[0m         \u001b[0;32mexcept\u001b[0m \u001b[0mKeyError\u001b[0m \u001b[0;32mas\u001b[0m \u001b[0merr\u001b[0m\u001b[0;34m:\u001b[0m\u001b[0;34m\u001b[0m\u001b[0;34m\u001b[0m\u001b[0m\n",
      "\u001b[0;32mindex.pyx\u001b[0m in \u001b[0;36mpandas._libs.index.IndexEngine.get_loc\u001b[0;34m()\u001b[0m\n",
      "\u001b[0;32mindex.pyx\u001b[0m in \u001b[0;36mpandas._libs.index.IndexEngine.get_loc\u001b[0;34m()\u001b[0m\n",
      "\u001b[0;32mpandas/_libs/hashtable_class_helper.pxi\u001b[0m in \u001b[0;36mpandas._libs.hashtable.PyObjectHashTable.get_item\u001b[0;34m()\u001b[0m\n",
      "\u001b[0;32mpandas/_libs/hashtable_class_helper.pxi\u001b[0m in \u001b[0;36mpandas._libs.hashtable.PyObjectHashTable.get_item\u001b[0;34m()\u001b[0m\n",
      "\u001b[0;31mKeyError\u001b[0m: 'writhe_max'",
      "\nThe above exception was the direct cause of the following exception:\n",
      "\u001b[0;31mKeyError\u001b[0m                                  Traceback (most recent call last)",
      "\u001b[0;32m/var/folders/sl/s42h4v1x3lb1wkpyy7b8gsw80000gn/T/ipykernel_93624/3331793289.py\u001b[0m in \u001b[0;36m<module>\u001b[0;34m\u001b[0m\n\u001b[0;32m----> 1\u001b[0;31m \u001b[0mX_train\u001b[0m\u001b[0;34m[\u001b[0m\u001b[0;34m'logmax_writhe'\u001b[0m\u001b[0;34m]\u001b[0m\u001b[0;34m=\u001b[0m\u001b[0mnp\u001b[0m\u001b[0;34m.\u001b[0m\u001b[0mlog10\u001b[0m\u001b[0;34m(\u001b[0m\u001b[0mX_train\u001b[0m\u001b[0;34m[\u001b[0m\u001b[0;34m'writhe_max'\u001b[0m\u001b[0;34m]\u001b[0m\u001b[0;34m)\u001b[0m\u001b[0;34m\u001b[0m\u001b[0;34m\u001b[0m\u001b[0m\n\u001b[0m",
      "\u001b[0;32m/usr/local/lib/python3.9/site-packages/pandas/core/frame.py\u001b[0m in \u001b[0;36m__getitem__\u001b[0;34m(self, key)\u001b[0m\n\u001b[1;32m   4100\u001b[0m             \u001b[0;32mif\u001b[0m \u001b[0mself\u001b[0m\u001b[0;34m.\u001b[0m\u001b[0mcolumns\u001b[0m\u001b[0;34m.\u001b[0m\u001b[0mnlevels\u001b[0m \u001b[0;34m>\u001b[0m \u001b[0;36m1\u001b[0m\u001b[0;34m:\u001b[0m\u001b[0;34m\u001b[0m\u001b[0;34m\u001b[0m\u001b[0m\n\u001b[1;32m   4101\u001b[0m                 \u001b[0;32mreturn\u001b[0m \u001b[0mself\u001b[0m\u001b[0;34m.\u001b[0m\u001b[0m_getitem_multilevel\u001b[0m\u001b[0;34m(\u001b[0m\u001b[0mkey\u001b[0m\u001b[0;34m)\u001b[0m\u001b[0;34m\u001b[0m\u001b[0;34m\u001b[0m\u001b[0m\n\u001b[0;32m-> 4102\u001b[0;31m             \u001b[0mindexer\u001b[0m \u001b[0;34m=\u001b[0m \u001b[0mself\u001b[0m\u001b[0;34m.\u001b[0m\u001b[0mcolumns\u001b[0m\u001b[0;34m.\u001b[0m\u001b[0mget_loc\u001b[0m\u001b[0;34m(\u001b[0m\u001b[0mkey\u001b[0m\u001b[0;34m)\u001b[0m\u001b[0;34m\u001b[0m\u001b[0;34m\u001b[0m\u001b[0m\n\u001b[0m\u001b[1;32m   4103\u001b[0m             \u001b[0;32mif\u001b[0m \u001b[0mis_integer\u001b[0m\u001b[0;34m(\u001b[0m\u001b[0mindexer\u001b[0m\u001b[0;34m)\u001b[0m\u001b[0;34m:\u001b[0m\u001b[0;34m\u001b[0m\u001b[0;34m\u001b[0m\u001b[0m\n\u001b[1;32m   4104\u001b[0m                 \u001b[0mindexer\u001b[0m \u001b[0;34m=\u001b[0m \u001b[0;34m[\u001b[0m\u001b[0mindexer\u001b[0m\u001b[0;34m]\u001b[0m\u001b[0;34m\u001b[0m\u001b[0;34m\u001b[0m\u001b[0m\n",
      "\u001b[0;32m/usr/local/lib/python3.9/site-packages/pandas/core/indexes/base.py\u001b[0m in \u001b[0;36mget_loc\u001b[0;34m(self, key)\u001b[0m\n\u001b[1;32m   3810\u001b[0m             ):\n\u001b[1;32m   3811\u001b[0m                 \u001b[0;32mraise\u001b[0m \u001b[0mInvalidIndexError\u001b[0m\u001b[0;34m(\u001b[0m\u001b[0mkey\u001b[0m\u001b[0;34m)\u001b[0m\u001b[0;34m\u001b[0m\u001b[0;34m\u001b[0m\u001b[0m\n\u001b[0;32m-> 3812\u001b[0;31m             \u001b[0;32mraise\u001b[0m \u001b[0mKeyError\u001b[0m\u001b[0;34m(\u001b[0m\u001b[0mkey\u001b[0m\u001b[0;34m)\u001b[0m \u001b[0;32mfrom\u001b[0m \u001b[0merr\u001b[0m\u001b[0;34m\u001b[0m\u001b[0;34m\u001b[0m\u001b[0m\n\u001b[0m\u001b[1;32m   3813\u001b[0m         \u001b[0;32mexcept\u001b[0m \u001b[0mTypeError\u001b[0m\u001b[0;34m:\u001b[0m\u001b[0;34m\u001b[0m\u001b[0;34m\u001b[0m\u001b[0m\n\u001b[1;32m   3814\u001b[0m             \u001b[0;31m# If we have a listlike key, _check_indexing_error will raise\u001b[0m\u001b[0;34m\u001b[0m\u001b[0;34m\u001b[0m\u001b[0m\n",
      "\u001b[0;31mKeyError\u001b[0m: 'writhe_max'"
     ]
    }
   ],
   "source": [
    "X_train['logmax_writhe']=np.log10(X_train['writhe_max'])"
   ]
  },
  {
   "cell_type": "code",
   "execution_count": null,
   "id": "f830169b",
   "metadata": {},
   "outputs": [],
   "source": [
    "X_train['logmaxwr_mean']=X_train['logmax_writhe']/np.abs(X_train['x_max'])"
   ]
  },
  {
   "cell_type": "code",
   "execution_count": 104,
   "id": "97d009cf",
   "metadata": {},
   "outputs": [],
   "source": [
    "X_train_y=X_train\n",
    "X_train_y['y_train']=y_train"
   ]
  },
  {
   "cell_type": "code",
   "execution_count": null,
   "id": "97da31ed",
   "metadata": {},
   "outputs": [],
   "source": [
    "X_train_y.columns"
   ]
  },
  {
   "cell_type": "code",
   "execution_count": 105,
   "id": "ae9ddecf",
   "metadata": {
    "scrolled": true
   },
   "outputs": [
    {
     "data": {
      "text/plain": [
       "<Axes: title={'center': 'log_writhe'}, xlabel='y_train'>"
      ]
     },
     "execution_count": 105,
     "metadata": {},
     "output_type": "execute_result"
    },
    {
     "data": {
      "image/png": "[encoded data removed]",
      "text/plain": [
       "<Figure size 432x288 with 1 Axes>"
      ]
     },
     "metadata": {
      "needs_background": "light"
     },
     "output_type": "display_data"
    }
   ],
   "source": [
    "X_train_y.boxplot(column='log_writhe',by='y_train')"
   ]
  },
  {
   "cell_type": "code",
   "execution_count": 106,
   "id": "2d112c68",
   "metadata": {},
   "outputs": [
    {
     "data": {
      "text/plain": [
       "<Axes: title={'center': 'abs_writhe'}, xlabel='y_train'>"
      ]
     },
     "execution_count": 106,
     "metadata": {},
     "output_type": "execute_result"
    },
    {
     "data": {
      "image/png": "[encoded data removed]",
      "text/plain": [
       "<Figure size 432x288 with 1 Axes>"
      ]
     },
     "metadata": {
      "needs_background": "light"
     },
     "output_type": "display_data"
    }
   ],
   "source": [
    "X_train['abs_writhe'] = np.abs(X_train['writhe'])\n",
    "X_train.boxplot(column='abs_writhe',by='y_train')"
   ]
  },
  {
   "cell_type": "code",
   "execution_count": 107,
   "id": "b404f296",
   "metadata": {},
   "outputs": [
    {
     "ename": "KeyError",
     "evalue": "'Column not found: writhe_mean'",
     "output_type": "error",
     "traceback": [
      "\u001b[0;31m---------------------------------------------------------------------------\u001b[0m",
      "\u001b[0;31mKeyError\u001b[0m                                  Traceback (most recent call last)",
      "\u001b[0;32m/var/folders/sl/s42h4v1x3lb1wkpyy7b8gsw80000gn/T/ipykernel_93624/2636776849.py\u001b[0m in \u001b[0;36m<module>\u001b[0;34m\u001b[0m\n\u001b[0;32m----> 1\u001b[0;31m \u001b[0mX_train\u001b[0m\u001b[0;34m.\u001b[0m\u001b[0mboxplot\u001b[0m\u001b[0;34m(\u001b[0m\u001b[0mcolumn\u001b[0m\u001b[0;34m=\u001b[0m\u001b[0;34m'writhe_mean'\u001b[0m\u001b[0;34m,\u001b[0m\u001b[0mby\u001b[0m\u001b[0;34m=\u001b[0m\u001b[0;34m'y_train'\u001b[0m\u001b[0;34m)\u001b[0m\u001b[0;34m\u001b[0m\u001b[0;34m\u001b[0m\u001b[0m\n\u001b[0m",
      "\u001b[0;32m/usr/local/lib/python3.9/site-packages/pandas/plotting/_core.py\u001b[0m in \u001b[0;36mboxplot_frame\u001b[0;34m(self, column, by, ax, fontsize, rot, grid, figsize, layout, return_type, backend, **kwargs)\u001b[0m\n\u001b[1;32m    531\u001b[0m ):\n\u001b[1;32m    532\u001b[0m     \u001b[0mplot_backend\u001b[0m \u001b[0;34m=\u001b[0m \u001b[0m_get_plot_backend\u001b[0m\u001b[0;34m(\u001b[0m\u001b[0mbackend\u001b[0m\u001b[0;34m)\u001b[0m\u001b[0;34m\u001b[0m\u001b[0;34m\u001b[0m\u001b[0m\n\u001b[0;32m--> 533\u001b[0;31m     return plot_backend.boxplot_frame(\n\u001b[0m\u001b[1;32m    534\u001b[0m         \u001b[0mself\u001b[0m\u001b[0;34m,\u001b[0m\u001b[0;34m\u001b[0m\u001b[0;34m\u001b[0m\u001b[0m\n\u001b[1;32m    535\u001b[0m         \u001b[0mcolumn\u001b[0m\u001b[0;34m=\u001b[0m\u001b[0mcolumn\u001b[0m\u001b[0;34m,\u001b[0m\u001b[0;34m\u001b[0m\u001b[0;34m\u001b[0m\u001b[0m\n",
      "\u001b[0;32m/usr/local/lib/python3.9/site-packages/pandas/plotting/_matplotlib/boxplot.py\u001b[0m in \u001b[0;36mboxplot_frame\u001b[0;34m(self, column, by, ax, fontsize, rot, grid, figsize, layout, return_type, **kwds)\u001b[0m\n\u001b[1;32m    490\u001b[0m     \u001b[0;32mimport\u001b[0m \u001b[0mmatplotlib\u001b[0m\u001b[0;34m.\u001b[0m\u001b[0mpyplot\u001b[0m \u001b[0;32mas\u001b[0m \u001b[0mplt\u001b[0m\u001b[0;34m\u001b[0m\u001b[0;34m\u001b[0m\u001b[0m\n\u001b[1;32m    491\u001b[0m \u001b[0;34m\u001b[0m\u001b[0m\n\u001b[0;32m--> 492\u001b[0;31m     ax = boxplot(\n\u001b[0m\u001b[1;32m    493\u001b[0m         \u001b[0mself\u001b[0m\u001b[0;34m,\u001b[0m\u001b[0;34m\u001b[0m\u001b[0;34m\u001b[0m\u001b[0m\n\u001b[1;32m    494\u001b[0m         \u001b[0mcolumn\u001b[0m\u001b[0;34m=\u001b[0m\u001b[0mcolumn\u001b[0m\u001b[0;34m,\u001b[0m\u001b[0;34m\u001b[0m\u001b[0;34m\u001b[0m\u001b[0m\n",
      "\u001b[0;32m/usr/local/lib/python3.9/site-packages/pandas/plotting/_matplotlib/boxplot.py\u001b[0m in \u001b[0;36mboxplot\u001b[0;34m(data, column, by, ax, fontsize, rot, grid, figsize, layout, return_type, **kwds)\u001b[0m\n\u001b[1;32m    436\u001b[0m         \u001b[0;31m# Prefer array return type for 2-D plots to match the subplot layout\u001b[0m\u001b[0;34m\u001b[0m\u001b[0;34m\u001b[0m\u001b[0m\n\u001b[1;32m    437\u001b[0m         \u001b[0;31m# https://github.com/pandas-dev/pandas/pull/12216#issuecomment-241175580\u001b[0m\u001b[0;34m\u001b[0m\u001b[0;34m\u001b[0m\u001b[0m\n\u001b[0;32m--> 438\u001b[0;31m         result = _grouped_plot_by_column(\n\u001b[0m\u001b[1;32m    439\u001b[0m             \u001b[0mplot_group\u001b[0m\u001b[0;34m,\u001b[0m\u001b[0;34m\u001b[0m\u001b[0;34m\u001b[0m\u001b[0m\n\u001b[1;32m    440\u001b[0m             \u001b[0mdata\u001b[0m\u001b[0;34m,\u001b[0m\u001b[0;34m\u001b[0m\u001b[0;34m\u001b[0m\u001b[0m\n",
      "\u001b[0;32m/usr/local/lib/python3.9/site-packages/pandas/plotting/_matplotlib/boxplot.py\u001b[0m in \u001b[0;36m_grouped_plot_by_column\u001b[0;34m(plotf, data, columns, by, numeric_only, grid, figsize, ax, layout, return_type, **kwargs)\u001b[0m\n\u001b[1;32m    325\u001b[0m     \u001b[0;32mfor\u001b[0m \u001b[0mi\u001b[0m\u001b[0;34m,\u001b[0m \u001b[0mcol\u001b[0m \u001b[0;32min\u001b[0m \u001b[0menumerate\u001b[0m\u001b[0;34m(\u001b[0m\u001b[0mcolumns\u001b[0m\u001b[0;34m)\u001b[0m\u001b[0;34m:\u001b[0m\u001b[0;34m\u001b[0m\u001b[0;34m\u001b[0m\u001b[0m\n\u001b[1;32m    326\u001b[0m         \u001b[0max\u001b[0m \u001b[0;34m=\u001b[0m \u001b[0m_axes\u001b[0m\u001b[0;34m[\u001b[0m\u001b[0mi\u001b[0m\u001b[0;34m]\u001b[0m\u001b[0;34m\u001b[0m\u001b[0;34m\u001b[0m\u001b[0m\n\u001b[0;32m--> 327\u001b[0;31m         \u001b[0mgp_col\u001b[0m \u001b[0;34m=\u001b[0m \u001b[0mgrouped\u001b[0m\u001b[0;34m[\u001b[0m\u001b[0mcol\u001b[0m\u001b[0;34m]\u001b[0m\u001b[0;34m\u001b[0m\u001b[0;34m\u001b[0m\u001b[0m\n\u001b[0m\u001b[1;32m    328\u001b[0m         \u001b[0mkeys\u001b[0m\u001b[0;34m,\u001b[0m \u001b[0mvalues\u001b[0m \u001b[0;34m=\u001b[0m \u001b[0mzip\u001b[0m\u001b[0;34m(\u001b[0m\u001b[0;34m*\u001b[0m\u001b[0mgp_col\u001b[0m\u001b[0;34m)\u001b[0m\u001b[0;34m\u001b[0m\u001b[0;34m\u001b[0m\u001b[0m\n\u001b[1;32m    329\u001b[0m         \u001b[0mre_plotf\u001b[0m \u001b[0;34m=\u001b[0m \u001b[0mplotf\u001b[0m\u001b[0;34m(\u001b[0m\u001b[0mkeys\u001b[0m\u001b[0;34m,\u001b[0m \u001b[0mvalues\u001b[0m\u001b[0;34m,\u001b[0m \u001b[0max\u001b[0m\u001b[0;34m,\u001b[0m \u001b[0mxlabel\u001b[0m\u001b[0;34m=\u001b[0m\u001b[0mxlabel\u001b[0m\u001b[0;34m,\u001b[0m \u001b[0mylabel\u001b[0m\u001b[0;34m=\u001b[0m\u001b[0mylabel\u001b[0m\u001b[0;34m,\u001b[0m \u001b[0;34m**\u001b[0m\u001b[0mkwargs\u001b[0m\u001b[0;34m)\u001b[0m\u001b[0;34m\u001b[0m\u001b[0;34m\u001b[0m\u001b[0m\n",
      "\u001b[0;32m/usr/local/lib/python3.9/site-packages/pandas/core/groupby/generic.py\u001b[0m in \u001b[0;36m__getitem__\u001b[0;34m(self, key)\u001b[0m\n\u001b[1;32m   1949\u001b[0m                 \u001b[0;34m\"Use a list instead.\"\u001b[0m\u001b[0;34m\u001b[0m\u001b[0;34m\u001b[0m\u001b[0m\n\u001b[1;32m   1950\u001b[0m             )\n\u001b[0;32m-> 1951\u001b[0;31m         \u001b[0;32mreturn\u001b[0m \u001b[0msuper\u001b[0m\u001b[0;34m(\u001b[0m\u001b[0;34m)\u001b[0m\u001b[0;34m.\u001b[0m\u001b[0m__getitem__\u001b[0m\u001b[0;34m(\u001b[0m\u001b[0mkey\u001b[0m\u001b[0;34m)\u001b[0m\u001b[0;34m\u001b[0m\u001b[0;34m\u001b[0m\u001b[0m\n\u001b[0m\u001b[1;32m   1952\u001b[0m \u001b[0;34m\u001b[0m\u001b[0m\n\u001b[1;32m   1953\u001b[0m     \u001b[0;32mdef\u001b[0m \u001b[0m_gotitem\u001b[0m\u001b[0;34m(\u001b[0m\u001b[0mself\u001b[0m\u001b[0;34m,\u001b[0m \u001b[0mkey\u001b[0m\u001b[0;34m,\u001b[0m \u001b[0mndim\u001b[0m\u001b[0;34m:\u001b[0m \u001b[0mint\u001b[0m\u001b[0;34m,\u001b[0m \u001b[0msubset\u001b[0m\u001b[0;34m=\u001b[0m\u001b[0;32mNone\u001b[0m\u001b[0;34m)\u001b[0m\u001b[0;34m:\u001b[0m\u001b[0;34m\u001b[0m\u001b[0;34m\u001b[0m\u001b[0m\n",
      "\u001b[0;32m/usr/local/lib/python3.9/site-packages/pandas/core/base.py\u001b[0m in \u001b[0;36m__getitem__\u001b[0;34m(self, key)\u001b[0m\n\u001b[1;32m    242\u001b[0m         \u001b[0;32melse\u001b[0m\u001b[0;34m:\u001b[0m\u001b[0;34m\u001b[0m\u001b[0;34m\u001b[0m\u001b[0m\n\u001b[1;32m    243\u001b[0m             \u001b[0;32mif\u001b[0m \u001b[0mkey\u001b[0m \u001b[0;32mnot\u001b[0m \u001b[0;32min\u001b[0m \u001b[0mself\u001b[0m\u001b[0;34m.\u001b[0m\u001b[0mobj\u001b[0m\u001b[0;34m:\u001b[0m\u001b[0;34m\u001b[0m\u001b[0;34m\u001b[0m\u001b[0m\n\u001b[0;32m--> 244\u001b[0;31m                 \u001b[0;32mraise\u001b[0m \u001b[0mKeyError\u001b[0m\u001b[0;34m(\u001b[0m\u001b[0;34mf\"Column not found: {key}\"\u001b[0m\u001b[0;34m)\u001b[0m\u001b[0;34m\u001b[0m\u001b[0;34m\u001b[0m\u001b[0m\n\u001b[0m\u001b[1;32m    245\u001b[0m             \u001b[0mndim\u001b[0m \u001b[0;34m=\u001b[0m \u001b[0mself\u001b[0m\u001b[0;34m.\u001b[0m\u001b[0mobj\u001b[0m\u001b[0;34m[\u001b[0m\u001b[0mkey\u001b[0m\u001b[0;34m]\u001b[0m\u001b[0;34m.\u001b[0m\u001b[0mndim\u001b[0m\u001b[0;34m\u001b[0m\u001b[0;34m\u001b[0m\u001b[0m\n\u001b[1;32m    246\u001b[0m             \u001b[0;32mreturn\u001b[0m \u001b[0mself\u001b[0m\u001b[0;34m.\u001b[0m\u001b[0m_gotitem\u001b[0m\u001b[0;34m(\u001b[0m\u001b[0mkey\u001b[0m\u001b[0;34m,\u001b[0m \u001b[0mndim\u001b[0m\u001b[0;34m=\u001b[0m\u001b[0mndim\u001b[0m\u001b[0;34m)\u001b[0m\u001b[0;34m\u001b[0m\u001b[0;34m\u001b[0m\u001b[0m\n",
      "\u001b[0;31mKeyError\u001b[0m: 'Column not found: writhe_mean'"
     ]
    },
    {
     "data": {
      "image/png": "[encoded data removed]",
      "text/plain": [
       "<Figure size 432x288 with 1 Axes>"
      ]
     },
     "metadata": {
      "needs_background": "light"
     },
     "output_type": "display_data"
    }
   ],
   "source": [
    "X_train.boxplot(column='writhe_mean',by='y_train')"
   ]
  },
  {
   "cell_type": "code",
   "execution_count": null,
   "id": "47c88c0e",
   "metadata": {},
   "outputs": [],
   "source": [
    "X_train.boxplot(column='log_writhe',by='y_train')"
   ]
  },
  {
   "cell_type": "code",
   "execution_count": 108,
   "id": "eceeee66",
   "metadata": {},
   "outputs": [
    {
     "data": {
      "text/plain": [
       "<Axes: title={'center': 'writhe'}, xlabel='y_train'>"
      ]
     },
     "execution_count": 108,
     "metadata": {},
     "output_type": "execute_result"
    },
    {
     "data": {
      "image/png": "[encoded data removed]",
      "text/plain": [
       "<Figure size 432x288 with 1 Axes>"
      ]
     },
     "metadata": {
      "needs_background": "light"
     },
     "output_type": "display_data"
    }
   ],
   "source": [
    "X_train.boxplot(column='writhe',by='y_train')"
   ]
  },
  {
   "cell_type": "code",
   "execution_count": 109,
   "id": "163a48b0",
   "metadata": {},
   "outputs": [
    {
     "data": {
      "text/plain": [
       "<Axes: title={'center': 'x_mean'}, xlabel='y_train'>"
      ]
     },
     "execution_count": 109,
     "metadata": {},
     "output_type": "execute_result"
    },
    {
     "data": {
      "image/png": "[encoded data removed]",
      "text/plain": [
       "<Figure size 432x288 with 1 Axes>"
      ]
     },
     "metadata": {
      "needs_background": "light"
     },
     "output_type": "display_data"
    }
   ],
   "source": [
    "X_train.boxplot(column='x_mean',by='y_train')"
   ]
  },
  {
   "cell_type": "markdown",
   "id": "fa3daa43",
   "metadata": {},
   "source": [
    "## LSTM Version"
   ]
  },
  {
   "cell_type": "code",
   "execution_count": 2,
   "id": "5a1950c8",
   "metadata": {},
   "outputs": [
    {
     "name": "stderr",
     "output_type": "stream",
     "text": [
      "/usr/local/lib/python3.9/site-packages/pandas/core/computation/expressions.py:21: UserWarning: Pandas requires version '2.8.4' or newer of 'numexpr' (version '2.7.3' currently installed).\n",
      "  from pandas.core.computation.check import NUMEXPR_INSTALLED\n",
      "2025-02-06 13:16:00.880633: I tensorflow/core/platform/cpu_feature_guard.cc:182] This TensorFlow binary is optimized to use available CPU instructions in performance-critical operations.\n",
      "To enable the following instructions: AVX2 FMA, in other operations, rebuild TensorFlow with the appropriate compiler flags.\n"
     ]
    }
   ],
   "source": [
    "\n",
    "import numpy as np\n",
    "import matplotlib.pyplot as plt\n",
    "import pandas as pd\n",
    "import tensorflow as tf\n",
    "from tensorflow.keras.models import Sequential\n",
    "from tensorflow.keras.layers import Dense\n",
    "from tensorflow.keras.layers import LSTM\n",
    "from sklearn.preprocessing import MinMaxScaler\n",
    "from sklearn.metrics import mean_squared_error"
   ]
  },
  {
   "cell_type": "code",
   "execution_count": 23,
   "id": "1ffa0724",
   "metadata": {},
   "outputs": [
    {
     "data": {
      "text/plain": [
       "(15790, 25)"
      ]
     },
     "execution_count": 23,
     "metadata": {},
     "output_type": "execute_result"
    }
   ],
   "source": [
    "x_list.shape"
   ]
  },
  {
   "cell_type": "code",
   "execution_count": 59,
   "id": "992b8e04",
   "metadata": {},
   "outputs": [],
   "source": [
    "XT=np.array(x_list)"
   ]
  },
  {
   "cell_type": "code",
   "execution_count": null,
   "id": "aac483dd",
   "metadata": {},
   "outputs": [],
   "source": []
  },
  {
   "cell_type": "code",
   "execution_count": 34,
   "id": "bac79781",
   "metadata": {},
   "outputs": [],
   "source": [
    "from sklearn.preprocessing import LabelBinarizer\n",
    "\n",
    "lb = LabelBinarizer()\n",
    "lb.fit(np.array(train_labels))\n",
    "onehot_trainlb = lb.transform(np.array(train_labels))"
   ]
  },
  {
   "cell_type": "code",
   "execution_count": 86,
   "id": "2885d8e5",
   "metadata": {},
   "outputs": [
    {
     "data": {
      "text/plain": [
       "5593"
      ]
     },
     "execution_count": 86,
     "metadata": {},
     "output_type": "execute_result"
    }
   ],
   "source": [
    "len(Xte)"
   ]
  },
  {
   "cell_type": "code",
   "execution_count": 104,
   "id": "3804a5df",
   "metadata": {},
   "outputs": [
    {
     "name": "stdout",
     "output_type": "stream",
     "text": [
      "Epoch 1/20\n",
      "790/790 [==============================] - 3s 2ms/step - loss: 0.0712\n",
      "Epoch 2/20\n",
      "790/790 [==============================] - 1s 2ms/step - loss: 0.0480\n",
      "Epoch 3/20\n",
      "790/790 [==============================] - 1s 2ms/step - loss: 0.0417\n",
      "Epoch 4/20\n",
      "790/790 [==============================] - 1s 2ms/step - loss: 0.0379\n",
      "Epoch 5/20\n",
      "790/790 [==============================] - 1s 2ms/step - loss: 0.0351\n",
      "Epoch 6/20\n",
      "790/790 [==============================] - 1s 2ms/step - loss: 0.0325\n",
      "Epoch 7/20\n",
      "790/790 [==============================] - 1s 2ms/step - loss: 0.0301\n",
      "Epoch 8/20\n",
      "790/790 [==============================] - 1s 2ms/step - loss: 0.0285\n",
      "Epoch 9/20\n",
      "790/790 [==============================] - 1s 2ms/step - loss: 0.0266\n",
      "Epoch 10/20\n",
      "790/790 [==============================] - 1s 2ms/step - loss: 0.0253\n",
      "Epoch 11/20\n",
      "790/790 [==============================] - 1s 2ms/step - loss: 0.0242\n",
      "Epoch 12/20\n",
      "790/790 [==============================] - 1s 2ms/step - loss: 0.0227\n",
      "Epoch 13/20\n",
      "790/790 [==============================] - 1s 2ms/step - loss: 0.0217\n",
      "Epoch 14/20\n",
      "790/790 [==============================] - 1s 2ms/step - loss: 0.0206\n",
      "Epoch 15/20\n",
      "790/790 [==============================] - 1s 2ms/step - loss: 0.0198\n",
      "Epoch 16/20\n",
      "790/790 [==============================] - 1s 2ms/step - loss: 0.0186\n",
      "Epoch 17/20\n",
      "790/790 [==============================] - 1s 2ms/step - loss: 0.0179\n",
      "Epoch 18/20\n",
      "790/790 [==============================] - 1s 2ms/step - loss: 0.0169\n",
      "Epoch 19/20\n",
      "790/790 [==============================] - 1s 2ms/step - loss: 0.0164\n",
      "Epoch 20/20\n",
      "790/790 [==============================] - 1s 2ms/step - loss: 0.0159\n"
     ]
    },
    {
     "data": {
      "text/plain": [
       "<keras.src.callbacks.History at 0x1579850a0>"
      ]
     },
     "execution_count": 104,
     "metadata": {},
     "output_type": "execute_result"
    }
   ],
   "source": [
    "# design network\n",
    "X=np.array(Xtr)\n",
    "XT = np.array(Xte)\n",
    "\n",
    "X = np.reshape(X, (X.shape[0], X.shape[1],  X.shape[2]))\n",
    "XT = np.reshape(XT, (XT.shape[0],XT.shape[1],  XT.shape[2]))\n",
    "\n",
    "model = Sequential()\n",
    "# Build the LSTM model\n",
    "model = Sequential()\n",
    "model.add(LSTM(50, input_shape=(X.shape[1], X.shape[2])))\n",
    "model.add(Dense(6, activation='softmax'))\n",
    "\n",
    "model.compile(loss='mean_squared_error', optimizer='adam')\n",
    "\n",
    "# Train the model\n",
    "model.fit(X, onehot_trainlb, epochs=20, batch_size=20)\n"
   ]
  },
  {
   "cell_type": "code",
   "execution_count": 105,
   "id": "4e0f0e70",
   "metadata": {},
   "outputs": [
    {
     "name": "stdout",
     "output_type": "stream",
     "text": [
      "175/175 [==============================] - 0s 983us/step\n",
      "[[4.0603012e-02 3.5540827e-04 7.6171820e-04 6.2082414e-05 9.5708674e-01\n",
      "  1.1310433e-03]\n",
      " [5.2578568e-01 1.1074193e-04 7.7189616e-04 7.4342836e-04 4.1239157e-01\n",
      "  6.0196687e-02]\n",
      " [6.3601953e-01 2.0603582e-03 5.9049875e-05 9.0883434e-05 2.4218540e-01\n",
      "  1.1958466e-01]\n",
      " ...\n",
      " [9.9869235e-04 4.8810915e-09 7.0399693e-03 9.8537987e-01 6.4671924e-03\n",
      "  1.1414995e-04]\n",
      " [7.6162780e-04 3.7812842e-09 5.4239742e-03 9.8948479e-01 4.2629228e-03\n",
      "  6.6660526e-05]\n",
      " [9.2283415e-04 4.3865223e-09 7.4393805e-03 9.8601568e-01 5.5457721e-03\n",
      "  7.6402132e-05]]\n"
     ]
    }
   ],
   "source": [
    "# Make predictions\n",
    "predictions = model.predict(XT)\n",
    "print(predictions)\n"
   ]
  },
  {
   "cell_type": "code",
   "execution_count": 106,
   "id": "a693c2d9",
   "metadata": {},
   "outputs": [
    {
     "name": "stdout",
     "output_type": "stream",
     "text": [
      "              precision    recall  f1-score   support\n",
      "\n",
      "  Downstairs       0.35      0.43      0.39       464\n",
      "     Jogging       0.91      0.93      0.92      1478\n",
      "     Sitting       1.00      0.73      0.84       485\n",
      "    Standing       0.53      0.86      0.66       199\n",
      "    Upstairs       0.54      0.54      0.54       637\n",
      "     Walking       0.88      0.83      0.85      2330\n",
      "\n",
      "    accuracy                           0.78      5593\n",
      "   macro avg       0.70      0.72      0.70      5593\n",
      "weighted avg       0.80      0.78      0.79      5593\n",
      "\n"
     ]
    }
   ],
   "source": [
    "from sklearn.metrics import confusion_matrix\n",
    "from sklearn.metrics import classification_report\n",
    "confusion_matrix(lb.inverse_transform(predictions), test_labels)\n",
    "\n",
    "print(classification_report(lb.inverse_transform(predictions), test_labels))"
   ]
  },
  {
   "cell_type": "code",
   "execution_count": null,
   "id": "af89c37a",
   "metadata": {},
   "outputs": [],
   "source": []
  },
  {
   "cell_type": "code",
   "execution_count": null,
   "id": "abe6c701",
   "metadata": {},
   "outputs": [],
   "source": []
  }
 ],
 "metadata": {
  "kernelspec": {
   "display_name": "Python 3 (ipykernel)",
   "language": "python",
   "name": "python3"
  },
  "language_info": {
   "codemirror_mode": {
    "name": "ipython",
    "version": 3
   },
   "file_extension": ".py",
   "mimetype": "text/x-python",
   "name": "python",
   "nbconvert_exporter": "python",
   "pygments_lexer": "ipython3",
   "version": "3.9.18"
  }
 },
 "nbformat": 4,
 "nbformat_minor": 5
}
