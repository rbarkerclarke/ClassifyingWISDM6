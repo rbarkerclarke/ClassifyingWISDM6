{
 "cells": [
  {
   "cell_type": "code",
   "execution_count": 4,
   "id": "d87f6644",
   "metadata": {},
   "outputs": [
    {
     "name": "stdout",
     "output_type": "stream",
     "text": [
      "\u001b[33mDEPRECATION: Configuring installation scheme with distutils config files is deprecated and will no longer work in the near future. If you are using a Homebrew or Linuxbrew Python, please see discussion at https://github.com/Homebrew/homebrew-core/issues/76621\u001b[0m\u001b[33m\n",
      "\u001b[0mRequirement already satisfied: imblearn in /usr/local/lib/python3.9/site-packages (0.0)\n",
      "Requirement already satisfied: imbalanced-learn in /usr/local/lib/python3.9/site-packages (from imblearn) (0.12.4)\n",
      "Requirement already satisfied: numpy>=1.17.3 in /usr/local/lib/python3.9/site-packages (from imbalanced-learn->imblearn) (1.26.4)\n",
      "Requirement already satisfied: scipy>=1.5.0 in /usr/local/lib/python3.9/site-packages (from imbalanced-learn->imblearn) (1.13.1)\n",
      "Requirement already satisfied: scikit-learn>=1.0.2 in /usr/local/lib/python3.9/site-packages (from imbalanced-learn->imblearn) (1.5.1)\n",
      "Requirement already satisfied: joblib>=1.1.1 in /usr/local/lib/python3.9/site-packages (from imbalanced-learn->imblearn) (1.4.2)\n",
      "Requirement already satisfied: threadpoolctl>=2.0.0 in /usr/local/lib/python3.9/site-packages (from imbalanced-learn->imblearn) (3.5.0)\n",
      "\u001b[33mWARNING: Error parsing dependencies of pytorch-lightning: .* suffix can only be used with `==` or `!=` operators\n",
      "    torch (>=1.7.*)\n",
      "           ~~~~~~^\u001b[0m\u001b[33m\n",
      "\u001b[0m\u001b[33mDEPRECATION: Configuring installation scheme with distutils config files is deprecated and will no longer work in the near future. If you are using a Homebrew or Linuxbrew Python, please see discussion at https://github.com/Homebrew/homebrew-core/issues/76621\u001b[0m\u001b[33m\n",
      "\u001b[0m\n",
      "\u001b[1m[\u001b[0m\u001b[34;49mnotice\u001b[0m\u001b[1;39;49m]\u001b[0m\u001b[39;49m A new release of pip is available: \u001b[0m\u001b[31;49m24.3.1\u001b[0m\u001b[39;49m -> \u001b[0m\u001b[32;49m25.0\u001b[0m\n",
      "\u001b[1m[\u001b[0m\u001b[34;49mnotice\u001b[0m\u001b[1;39;49m]\u001b[0m\u001b[39;49m To update, run: \u001b[0m\u001b[32;49mpython3.9 -m pip install --upgrade pip\u001b[0m\n",
      "Note: you may need to restart the kernel to use updated packages.\n"
     ]
    }
   ],
   "source": [
    "%pip install imblearn"
   ]
  },
  {
   "cell_type": "code",
   "execution_count": 297,
   "id": "40fe3e2c",
   "metadata": {},
   "outputs": [],
   "source": [
    "# importing libraries\n",
    "%matplotlib inline\n",
    "import numpy as np \n",
    "import pandas as pd\n",
    "import matplotlib.pyplot as plt\n",
    "import seaborn as sns\n",
    "from scipy import stats\n",
    "from scipy.signal import find_peaks\n",
    "import warnings\n",
    "warnings.filterwarnings('ignore')\n",
    "import imblearn\n",
    "\n",
    "import gausslink\n",
    "import tqdm\n",
    "import time\n",
    "\n",
    "from scipy import signal"
   ]
  },
  {
   "cell_type": "code",
   "execution_count": 2,
   "id": "7a8b99da",
   "metadata": {},
   "outputs": [],
   "source": [
    "# reading raw data file\n",
    "columns = ['user','activity','timestamp', 'x-axis', 'y-axis', 'z-axis']\n",
    "\n",
    "har_df = pd.read_csv('./WISDM_ar_v1.1/WISDM_ar_v1.1_raw.txt',names = columns, on_bad_lines='skip')\n",
    "\n",
    "# removing null values\n",
    "har_df = har_df.dropna()\n",
    "har_df.shape\n",
    "\n",
    "# transforming the z-axis to float\n",
    "har_df['z-axis'] = har_df['z-axis'].str.replace(';', '')\n",
    "har_df['z-axis'] = har_df['z-axis'].apply(lambda x:float(x))\n",
    "\n",
    "# drop the rows where timestamp is 0\n",
    "df = har_df[har_df['timestamp'] != 0]\n",
    "\n",
    "# now arrange data in ascending order of the user and timestamp\n",
    "df = df.sort_values(by = ['user', 'timestamp'], ignore_index=True)"
   ]
  },
  {
   "cell_type": "code",
   "execution_count": 5,
   "id": "fcad7785",
   "metadata": {},
   "outputs": [
    {
     "data": {
      "text/html": [
       "<div>\n",
       "<style scoped>\n",
       "    .dataframe tbody tr th:only-of-type {\n",
       "        vertical-align: middle;\n",
       "    }\n",
       "\n",
       "    .dataframe tbody tr th {\n",
       "        vertical-align: top;\n",
       "    }\n",
       "\n",
       "    .dataframe thead th {\n",
       "        text-align: right;\n",
       "    }\n",
       "</style>\n",
       "<table border=\"1\" class=\"dataframe\">\n",
       "  <thead>\n",
       "    <tr style=\"text-align: right;\">\n",
       "      <th></th>\n",
       "      <th>user</th>\n",
       "      <th>activity</th>\n",
       "      <th>timestamp</th>\n",
       "      <th>x-axis</th>\n",
       "      <th>y-axis</th>\n",
       "      <th>z-axis</th>\n",
       "    </tr>\n",
       "  </thead>\n",
       "  <tbody>\n",
       "    <tr>\n",
       "      <th>792622</th>\n",
       "      <td>28</td>\n",
       "      <td>Walking</td>\n",
       "      <td>1506362316000</td>\n",
       "      <td>-0.08</td>\n",
       "      <td>7.40</td>\n",
       "      <td>3.173541</td>\n",
       "    </tr>\n",
       "    <tr>\n",
       "      <th>792623</th>\n",
       "      <td>28</td>\n",
       "      <td>Walking</td>\n",
       "      <td>1506412243000</td>\n",
       "      <td>-0.04</td>\n",
       "      <td>8.62</td>\n",
       "      <td>2.873893</td>\n",
       "    </tr>\n",
       "    <tr>\n",
       "      <th>792624</th>\n",
       "      <td>28</td>\n",
       "      <td>Walking</td>\n",
       "      <td>1506462292000</td>\n",
       "      <td>0.69</td>\n",
       "      <td>9.53</td>\n",
       "      <td>4.181447</td>\n",
       "    </tr>\n",
       "    <tr>\n",
       "      <th>792625</th>\n",
       "      <td>28</td>\n",
       "      <td>Walking</td>\n",
       "      <td>1506512249000</td>\n",
       "      <td>-0.76</td>\n",
       "      <td>8.92</td>\n",
       "      <td>4.140586</td>\n",
       "    </tr>\n",
       "    <tr>\n",
       "      <th>792626</th>\n",
       "      <td>28</td>\n",
       "      <td>Walking</td>\n",
       "      <td>1506562328000</td>\n",
       "      <td>-1.57</td>\n",
       "      <td>8.58</td>\n",
       "      <td>3.636633</td>\n",
       "    </tr>\n",
       "  </tbody>\n",
       "</table>\n",
       "</div>"
      ],
      "text/plain": [
       "        user activity      timestamp  x-axis  y-axis    z-axis\n",
       "792622    28  Walking  1506362316000   -0.08    7.40  3.173541\n",
       "792623    28  Walking  1506412243000   -0.04    8.62  2.873893\n",
       "792624    28  Walking  1506462292000    0.69    9.53  4.181447\n",
       "792625    28  Walking  1506512249000   -0.76    8.92  4.140586\n",
       "792626    28  Walking  1506562328000   -1.57    8.58  3.636633"
      ]
     },
     "execution_count": 5,
     "metadata": {},
     "output_type": "execute_result"
    }
   ],
   "source": [
    "# train data -> Users upto User ID = 27 (i.e. 27 users)\n",
    "df_train = df[df['user']<28]\n",
    "# test data -> Users from User ID = 28 to 36 (i.e. 9 users)\n",
    "df_test = df[df['user']>27]\n",
    "\n",
    "df_test.head()"
   ]
  },
  {
   "cell_type": "markdown",
   "id": "bd612e8b",
   "metadata": {},
   "source": [
    "## Magnitude, pitch, roll\n",
    "\n",
    "Add features to dataframe based on xyz"
   ]
  },
  {
   "cell_type": "code",
   "execution_count": 209,
   "id": "6f265584",
   "metadata": {},
   "outputs": [
    {
     "data": {
      "text/plain": [
       "[<matplotlib.lines.Line2D at 0x14e0ab640>]"
      ]
     },
     "execution_count": 209,
     "metadata": {},
     "output_type": "execute_result"
    },
    {
     "data": {
      "image/png": "[encoded data removed]",
      "text/plain": [
       "<Figure size 432x288 with 1 Axes>"
      ]
     },
     "metadata": {
      "needs_background": "light"
     },
     "output_type": "display_data"
    },
    {
     "data": {
      "image/png": "[encoded data removed]",
      "text/plain": [
       "<Figure size 432x288 with 1 Axes>"
      ]
     },
     "metadata": {
      "needs_background": "light"
     },
     "output_type": "display_data"
    },
    {
     "data": {
      "image/png": "[encoded data removed]",
      "text/plain": [
       "<Figure size 432x288 with 1 Axes>"
      ]
     },
     "metadata": {
      "needs_background": "light"
     },
     "output_type": "display_data"
    },
    {
     "data": {
      "image/png": "[encoded data removed]",
      "text/plain": [
       "<Figure size 432x288 with 1 Axes>"
      ]
     },
     "metadata": {
      "needs_background": "light"
     },
     "output_type": "display_data"
    }
   ],
   "source": [
    "import numpy as np\n",
    "from scipy.signal import butter, filtfilt\n",
    "\n",
    "def highpass_filter(data, cutoff_freq, sampling_rate, order=10):\n",
    "    \"\"\"\n",
    "    Applies a low-pass filter to the given data.\n",
    "\n",
    "    Args:\n",
    "        data (array-like): The input data to be filtered.\n",
    "        cutoff_freq (float): The cutoff frequency of the filter in Hz.\n",
    "        sampling_rate (float): The sampling rate of the data in Hz.\n",
    "        order (int, optional): The order of the filter. Higher order filters \n",
    "                                have a sharper cutoff but can introduce more \n",
    "                                artifacts. Defaults to 2.\n",
    "\n",
    "    Returns:\n",
    "        numpy.ndarray: The filtered data.\n",
    "    \"\"\"\n",
    "    nyquist_rate = 0.5 * sampling_rate\n",
    "    normalized_cutoff = cutoff_freq / nyquist_rate\n",
    "    b, a = butter(order, normalized_cutoff, btype='high', analog=False)\n",
    "    filtered_data = filtfilt(b, a, data)\n",
    "    return filtered_data\n",
    "\n",
    "start=0\n",
    "end =100\n",
    "\n",
    "datax = df_train['x-axis'][start:end]\n",
    "datay = df_train['y-axis'][start:end]\n",
    "dataz = df_train['z-axis'][start:end]\n",
    "\n",
    "filtered_signalx = highpass_filter(datax, cutoff_freq, sampling_rate)\n",
    "filtered_signaly = highpass_filter(datay, cutoff_freq, sampling_rate)\n",
    "filtered_signalz = highpass_filter(dataz, cutoff_freq, sampling_rate)\n",
    "\n",
    "# Generate sample data \n",
    "sampling_rate = 50  # Hz\n",
    "duration = 2  # seconds\n",
    "time = np.arange(start, end, 1)\n",
    "\n",
    "# Signal with 2 frequencies\n",
    "    \n",
    "cutoff_freq = 0.5 # Hz\n",
    "\n",
    "plt.figure()\n",
    "plt.plot(datax)\n",
    "plt.plot(time, filtered_signalx)\n",
    "\n",
    "plt.figure()\n",
    "plt.plot(datay)\n",
    "plt.plot(time,filtered_signaly)\n",
    "\n",
    "plt.figure()\n",
    "plt.plot(dataz)\n",
    "plt.plot(time,filtered_signalx)\n",
    "\n",
    "plt.figure()\n",
    "plt.title(\"Magnitude of Removed and Resultant Signal\")\n",
    "plt.plot(time,np.sqrt((datax-filtered_signalx)**2 + (datay-filtered_signaly)**2+(dataz-filtered_signalz)**2))\n",
    "plt.plot(time,np.sqrt((filtered_signalx)**2 + (filtered_signaly)**2+(filtered_signalz)**2))\n",
    "\n",
    "\n",
    "\n",
    "\n"
   ]
  },
  {
   "cell_type": "code",
   "execution_count": 18,
   "id": "0e764368",
   "metadata": {},
   "outputs": [],
   "source": [
    "df_train['magnitude']=np.sqrt(df_train['x-axis']**2 + df_train['y-axis']**2 + df_train['z-axis']**2)\n",
    "df_test['magnitude']=np.sqrt(df_test['x-axis']**2 + df_test['y-axis']**2 + df_test['z-axis']**2)"
   ]
  },
  {
   "cell_type": "code",
   "execution_count": 27,
   "id": "bd854f5a",
   "metadata": {
    "scrolled": true
   },
   "outputs": [
    {
     "data": {
      "text/html": [
       "<div>\n",
       "<style scoped>\n",
       "    .dataframe tbody tr th:only-of-type {\n",
       "        vertical-align: middle;\n",
       "    }\n",
       "\n",
       "    .dataframe tbody tr th {\n",
       "        vertical-align: top;\n",
       "    }\n",
       "\n",
       "    .dataframe thead th {\n",
       "        text-align: right;\n",
       "    }\n",
       "</style>\n",
       "<table border=\"1\" class=\"dataframe\">\n",
       "  <thead>\n",
       "    <tr style=\"text-align: right;\">\n",
       "      <th></th>\n",
       "      <th>user</th>\n",
       "      <th>activity</th>\n",
       "      <th>timestamp</th>\n",
       "      <th>x-axis</th>\n",
       "      <th>y-axis</th>\n",
       "      <th>z-axis</th>\n",
       "      <th>magnitude</th>\n",
       "    </tr>\n",
       "  </thead>\n",
       "  <tbody>\n",
       "    <tr>\n",
       "      <th>79105</th>\n",
       "      <td>3</td>\n",
       "      <td>Standing</td>\n",
       "      <td>102539961524000</td>\n",
       "      <td>-0.76</td>\n",
       "      <td>9.62</td>\n",
       "      <td>1.460000</td>\n",
       "      <td>9.759795</td>\n",
       "    </tr>\n",
       "    <tr>\n",
       "      <th>79281</th>\n",
       "      <td>3</td>\n",
       "      <td>Standing</td>\n",
       "      <td>102548761603000</td>\n",
       "      <td>-0.95</td>\n",
       "      <td>9.72</td>\n",
       "      <td>-0.380000</td>\n",
       "      <td>9.773705</td>\n",
       "    </tr>\n",
       "    <tr>\n",
       "      <th>79754</th>\n",
       "      <td>3</td>\n",
       "      <td>Standing</td>\n",
       "      <td>102572421485000</td>\n",
       "      <td>-1.14</td>\n",
       "      <td>9.72</td>\n",
       "      <td>0.150000</td>\n",
       "      <td>9.787773</td>\n",
       "    </tr>\n",
       "    <tr>\n",
       "      <th>80478</th>\n",
       "      <td>3</td>\n",
       "      <td>Standing</td>\n",
       "      <td>102608621558000</td>\n",
       "      <td>-0.65</td>\n",
       "      <td>9.77</td>\n",
       "      <td>-0.080000</td>\n",
       "      <td>9.791925</td>\n",
       "    </tr>\n",
       "    <tr>\n",
       "      <th>80481</th>\n",
       "      <td>3</td>\n",
       "      <td>Standing</td>\n",
       "      <td>102608741523000</td>\n",
       "      <td>-1.18</td>\n",
       "      <td>9.70</td>\n",
       "      <td>-0.110000</td>\n",
       "      <td>9.772129</td>\n",
       "    </tr>\n",
       "    <tr>\n",
       "      <th>...</th>\n",
       "      <td>...</td>\n",
       "      <td>...</td>\n",
       "      <td>...</td>\n",
       "      <td>...</td>\n",
       "      <td>...</td>\n",
       "      <td>...</td>\n",
       "      <td>...</td>\n",
       "    </tr>\n",
       "    <tr>\n",
       "      <th>792569</th>\n",
       "      <td>27</td>\n",
       "      <td>Standing</td>\n",
       "      <td>12614712812000</td>\n",
       "      <td>0.31</td>\n",
       "      <td>9.70</td>\n",
       "      <td>-1.498238</td>\n",
       "      <td>9.819919</td>\n",
       "    </tr>\n",
       "    <tr>\n",
       "      <th>792583</th>\n",
       "      <td>27</td>\n",
       "      <td>Standing</td>\n",
       "      <td>12615412854000</td>\n",
       "      <td>0.34</td>\n",
       "      <td>9.70</td>\n",
       "      <td>-1.457377</td>\n",
       "      <td>9.814762</td>\n",
       "    </tr>\n",
       "    <tr>\n",
       "      <th>792599</th>\n",
       "      <td>27</td>\n",
       "      <td>Standing</td>\n",
       "      <td>12616212842000</td>\n",
       "      <td>0.80</td>\n",
       "      <td>9.66</td>\n",
       "      <td>-1.525479</td>\n",
       "      <td>9.812374</td>\n",
       "    </tr>\n",
       "    <tr>\n",
       "      <th>792605</th>\n",
       "      <td>27</td>\n",
       "      <td>Standing</td>\n",
       "      <td>12616512860000</td>\n",
       "      <td>0.08</td>\n",
       "      <td>9.70</td>\n",
       "      <td>-1.375655</td>\n",
       "      <td>9.797389</td>\n",
       "    </tr>\n",
       "    <tr>\n",
       "      <th>792607</th>\n",
       "      <td>27</td>\n",
       "      <td>Standing</td>\n",
       "      <td>12616612866000</td>\n",
       "      <td>0.93</td>\n",
       "      <td>9.77</td>\n",
       "      <td>-0.803601</td>\n",
       "      <td>9.847008</td>\n",
       "    </tr>\n",
       "  </tbody>\n",
       "</table>\n",
       "<p>4121 rows × 7 columns</p>\n",
       "</div>"
      ],
      "text/plain": [
       "        user  activity        timestamp  x-axis  y-axis    z-axis  magnitude\n",
       "79105      3  Standing  102539961524000   -0.76    9.62  1.460000   9.759795\n",
       "79281      3  Standing  102548761603000   -0.95    9.72 -0.380000   9.773705\n",
       "79754      3  Standing  102572421485000   -1.14    9.72  0.150000   9.787773\n",
       "80478      3  Standing  102608621558000   -0.65    9.77 -0.080000   9.791925\n",
       "80481      3  Standing  102608741523000   -1.18    9.70 -0.110000   9.772129\n",
       "...      ...       ...              ...     ...     ...       ...        ...\n",
       "792569    27  Standing   12614712812000    0.31    9.70 -1.498238   9.819919\n",
       "792583    27  Standing   12615412854000    0.34    9.70 -1.457377   9.814762\n",
       "792599    27  Standing   12616212842000    0.80    9.66 -1.525479   9.812374\n",
       "792605    27  Standing   12616512860000    0.08    9.70 -1.375655   9.797389\n",
       "792607    27  Standing   12616612866000    0.93    9.77 -0.803601   9.847008\n",
       "\n",
       "[4121 rows x 7 columns]"
      ]
     },
     "execution_count": 27,
     "metadata": {},
     "output_type": "execute_result"
    }
   ],
   "source": [
    "df_train.query(\"magnitude > 9.75 and magnitude <9.85 and activity=='Standing'\")"
   ]
  },
  {
   "cell_type": "code",
   "execution_count": null,
   "id": "537fdc8e",
   "metadata": {},
   "outputs": [],
   "source": []
  },
  {
   "cell_type": "markdown",
   "id": "6bd00733",
   "metadata": {},
   "source": [
    "Downsample Bigger Classes!"
   ]
  },
  {
   "cell_type": "code",
   "execution_count": 212,
   "id": "0b2666f4",
   "metadata": {},
   "outputs": [
    {
     "data": {
      "text/plain": [
       "array(['Walking', 'Jogging', 'Upstairs', 'Downstairs', 'Sitting',\n",
       "       'Standing'], dtype=object)"
      ]
     },
     "execution_count": 212,
     "metadata": {},
     "output_type": "execute_result"
    }
   ],
   "source": [
    "df_train['activity'].unique()"
   ]
  },
  {
   "cell_type": "raw",
   "id": "17a63802",
   "metadata": {},
   "source": [
    "import pandas as pd\n",
    "from sklearn.utils import resample\n",
    "\n",
    "# Assuming 'df' is your DataFrame and 'target' is the column with class labels\n",
    "df = df_train\n",
    "\n",
    "# Separate majority and minority classes\n",
    "df_walking = df[df['activity'] == 'Walking']  # Assuming 0 is the majority class\n",
    "df_jogging = df[df['activity'] == 'Jogging']\n",
    "df_upstairs = df[df['activity'] == 'Upstairs']\n",
    "df_downstairs = df[df['activity'] == 'Downstairs']\n",
    "df_sitting = df[df['activity'] == 'Sitting']\n",
    "\n",
    "print(df_walking['activity'].value_counts())\n",
    "print(df_jogging['activity'].value_counts())\n",
    "print(df_upstairs['activity'].value_counts())\n",
    "print(df_downstairs['activity'].value_counts())\n",
    "print(df_sitting['activity'].value_counts())\n"
   ]
  },
  {
   "cell_type": "code",
   "execution_count": 512,
   "id": "6f06067b",
   "metadata": {},
   "outputs": [],
   "source": [
    "# Statistical Features on raw x, y and z in time domain\n",
    "X_train = pd.DataFrame()\n",
    "x_list = []\n",
    "y_list = []\n",
    "z_list = []\n",
    "x0_list = []\n",
    "y0_list = []\n",
    "z0_list = []\n",
    "mag_list = []\n",
    "grav_list = []\n",
    "train_labels = []\n",
    "\n",
    "window_size = 150 #3s\n",
    "step_size = 50 #1s\n",
    "ds=2\n",
    "\n",
    "user_list = df_train.user.unique()\n",
    "activity_list = df_train.activity.unique()\n",
    "\n",
    "cutoff_freq = 0.5\n",
    "sampling_rate = 50\n",
    "highpass = True\n",
    "\n",
    "for j in user_list:\n",
    "    for k in activity_list:\n",
    "        df_sub = df_train.query(f\"activity=='{k}'\").query(f\"user=={j}\")\n",
    "        df_sub=df_sub.reset_index()\n",
    "        if df_sub.shape[0]>50:\n",
    "            df_sub['x-axis0'] = df_sub['x-axis']\n",
    "            df_sub['y-axis0'] = df_sub['y-axis']\n",
    "            df_sub['z-axis0'] = df_sub['z-axis']\n",
    "            if highpass:\n",
    "                df_sub['x-axis'] = highpass_filter(df_sub['x-axis'], cutoff_freq, sampling_rate)\n",
    "                df_sub['y-axis'] = highpass_filter(df_sub['y-axis'], cutoff_freq, sampling_rate)\n",
    "                df_sub['z-axis'] = highpass_filter(df_sub['z-axis'], cutoff_freq, sampling_rate)\n",
    "        #df_train.query(\"activity=='Walking'\").query(\"user==1\")\n",
    "        for i in range(0, df_sub.shape[0] - window_size, step_size):\n",
    "            if highpass:\n",
    "                x0s = df_sub['x-axis0'].values[i: i + window_size]\n",
    "                x0s = signal.decimate(x0s,ds)\n",
    "                \n",
    "                y0s = df_sub['y-axis0'].values[i: i + window_size]\n",
    "                y0s = signal.decimate(y0s,ds)\n",
    "                \n",
    "                z0s = df_sub['z-axis0'].values[i: i + window_size]\n",
    "                z0s = signal.decimate(z0s,ds)\n",
    "                \n",
    "            xs = df_sub['x-axis'].values[i: i + window_size]\n",
    "            xs = signal.decimate(xs,ds)\n",
    "            \n",
    "            ys = df_sub['y-axis'].values[i: i + window_size]\n",
    "            ys = signal.decimate(ys,ds)\n",
    "            \n",
    "            zs = df_sub['z-axis'].values[i: i + window_size]\n",
    "            zs = signal.decimate(zs,ds)\n",
    "            \n",
    "            mags=np.sqrt(xs**2 + ys**2 + zs**2)\n",
    "            grav = np.sqrt((df_sub['x-axis']-df_sub['x-axis0'])**2 +\n",
    "            (df_sub['y-axis']-df_sub['y-axis0'])**2 +\n",
    "            (df_sub['z-axis']-df_sub['z-axis0'])**2)\n",
    "            #mags = signal.decimate(mags,ds)\n",
    "            \n",
    "            label = df_sub['activity'][i: i + window_size][i]\n",
    "\n",
    "            x_list.append(xs)\n",
    "            y_list.append(ys)\n",
    "            z_list.append(zs)\n",
    "            x0_list.append(x0s)\n",
    "            y0_list.append(y0s)\n",
    "            z0_list.append(z0s)\n",
    "            \n",
    "            mag_list.append(mags)\n",
    "            grav_list.append(grav)\n",
    "            train_labels.append(label)\n",
    "            \n",
    "Xtr = list(zip(x_list, y_list, z_list, x0_list, y0_list, z0_list, mag_list))"
   ]
  },
  {
   "cell_type": "code",
   "execution_count": 513,
   "id": "87c1b7fa",
   "metadata": {},
   "outputs": [
    {
     "data": {
      "text/plain": [
       "15530"
      ]
     },
     "execution_count": 513,
     "metadata": {},
     "output_type": "execute_result"
    }
   ],
   "source": [
    "len(Xtr)"
   ]
  },
  {
   "cell_type": "code",
   "execution_count": 310,
   "id": "4e3107f7",
   "metadata": {},
   "outputs": [],
   "source": [
    "# creating features from windows\n",
    "\n",
    "# mean\n",
    "X_train['x_mean'] = pd.Series(x_list).apply(lambda x: x.mean())\n",
    "X_train['y_mean'] = pd.Series(y_list).apply(lambda x: x.mean())\n",
    "X_train['z_mean'] = pd.Series(z_list).apply(lambda x: x.mean())\n",
    "X_train['mag_mean'] = pd.Series(mag_list).apply(lambda x: x.mean())\n",
    "X_train['grav_mean'] = pd.Series(grav_list).apply(lambda x: x.mean())\n",
    "# magmean\n",
    "\n",
    "# argmin \n",
    "X_train['x_argmin'] = pd.Series(x_list).apply(lambda x: x.argmin())\n",
    "X_train['y_argmin'] = pd.Series(y_list).apply(lambda x: x.argmin())\n",
    "X_train['z_argmin'] = pd.Series(z_list).apply(lambda x: x.argmin())\n",
    "X_train['mag_argmin'] = pd.Series(mag_list).apply(lambda x: x.argmin())\n",
    "\n",
    "# std dev\n",
    "X_train['x_std'] = pd.Series(x_list).apply(lambda x: x.std())\n",
    "X_train['y_std'] = pd.Series(y_list).apply(lambda x: x.std())\n",
    "X_train['z_std'] = pd.Series(z_list).apply(lambda x: x.std())\n",
    "X_train['mag_std'] = pd.Series(mag_list).apply(lambda x: x.std())\n",
    "\n",
    "# avg absolute diff\n",
    "X_train['x_aad'] = pd.Series(x_list).apply(lambda x: np.mean(np.absolute(x - np.mean(x))))\n",
    "X_train['y_aad'] = pd.Series(y_list).apply(lambda x: np.mean(np.absolute(x - np.mean(x))))\n",
    "X_train['z_aad'] = pd.Series(z_list).apply(lambda x: np.mean(np.absolute(x - np.mean(x))))\n",
    "X_train['mag_aad'] = pd.Series(mag_list).apply(lambda x: np.mean(np.absolute(x - np.mean(x))))\n",
    "\n",
    "\n",
    "# min\n",
    "X_train['x_min'] = pd.Series(x_list).apply(lambda x: x.min())\n",
    "X_train['y_min'] = pd.Series(y_list).apply(lambda x: x.min())\n",
    "X_train['z_min'] = pd.Series(z_list).apply(lambda x: x.min())\n",
    "X_train['mag_min'] = pd.Series(mag_list).apply(lambda x: x.min())\n",
    "\n",
    "# max\n",
    "X_train['x_max'] = pd.Series(x_list).apply(lambda x: x.max())\n",
    "X_train['y_max'] = pd.Series(y_list).apply(lambda x: x.max())\n",
    "X_train['z_max'] = pd.Series(z_list).apply(lambda x: x.max())\n",
    "X_train['mag_max'] = pd.Series(mag_list).apply(lambda x: x.max())\n",
    "\n",
    "# skewness\n",
    "X_train['x_skewness'] = pd.Series(x_list).apply(lambda x: stats.skew(x))\n",
    "X_train['y_skewness'] = pd.Series(y_list).apply(lambda x: stats.skew(x))\n",
    "X_train['z_skewness'] = pd.Series(z_list).apply(lambda x: stats.skew(x))\n",
    "X_train['mag_skewness'] = pd.Series(mag_list).apply(lambda x: stats.skew(x))\n",
    "\n"
   ]
  },
  {
   "cell_type": "code",
   "execution_count": 119,
   "id": "67bcb1b3",
   "metadata": {},
   "outputs": [],
   "source": [
    "y_train = train_labels"
   ]
  },
  {
   "cell_type": "code",
   "execution_count": 218,
   "id": "1b1e84a8",
   "metadata": {},
   "outputs": [
    {
     "name": "stderr",
     "output_type": "stream",
     "text": [
      "100%|█████████████████████████████████████| 15790/15790 [06:48<00:00, 38.66it/s]\n"
     ]
    }
   ],
   "source": [
    "wr = []\n",
    "for i in  tqdm.tqdm(range(len(x_list))):\n",
    "    xs = x_list[i]\n",
    "    ys = y_list[i]\n",
    "    zs = z_list[i]\n",
    "    xyz = np.array([xs,ys,zs])\n",
    "    coords = np.swapaxes(xyz,0,1)\n",
    "    writhe = gausslink.linkage_integral(coords,coords)\n",
    "    wr.append(writhe)\n",
    "    \n",
    "X_train['writhe']=wr\n"
   ]
  },
  {
   "cell_type": "code",
   "execution_count": null,
   "id": "b1ad91de",
   "metadata": {},
   "outputs": [],
   "source": [
    "walkingTF = [i for i, string in enumerate(train_labels) if string=='Walking']\n",
    "joggingTF = [i=='Jogging' for i in train_labels]"
   ]
  },
  {
   "cell_type": "code",
   "execution_count": null,
   "id": "291a0ba3",
   "metadata": {},
   "outputs": [],
   "source": [
    "wr_max = []\n",
    "for i in  tqdm.tqdm(range(len(x_list))):\n",
    "    xs = x_list[i]\n",
    "    ys = y_list[i]\n",
    "    zs = z_list[i]\n",
    "    xyz = np.array([xs,ys,zs])\n",
    "    coords = np.swapaxes(xyz,0,1)\n",
    "    writhe_max = linkage_max(coords,coords)\n",
    "    wr_max.append(writhe_max)\n",
    "    \n",
    "X_train['writhe_max']=wr_max\n"
   ]
  },
  {
   "cell_type": "code",
   "execution_count": null,
   "id": "897e832f",
   "metadata": {},
   "outputs": [],
   "source": [
    "# converting the signals from time domain to frequency domain using FFT\n",
    "wds= len(x_list[0])\n",
    "x_list_fft = pd.Series(x_list).apply(lambda x: np.abs(np.fft.fft(x))[1:wds+1])\n",
    "y_list_fft = pd.Series(y_list).apply(lambda x: np.abs(np.fft.fft(x))[1:wds+1])\n",
    "z_list_fft = pd.Series(z_list).apply(lambda x: np.abs(np.fft.fft(x))[1:wds+1])\n",
    "\n",
    "# Statistical Features on raw x, y and z in frequency domain\n",
    "# FFT mean\n",
    "X_train['x_mean_fft'] = pd.Series(x_list_fft).apply(lambda x: x.mean())\n",
    "X_train['y_mean_fft'] = pd.Series(y_list_fft).apply(lambda x: x.mean())\n",
    "X_train['z_mean_fft'] = pd.Series(z_list_fft).apply(lambda x: x.mean())\n",
    "\n",
    "# FFT std dev\n",
    "X_train['x_std_fft'] = pd.Series(x_list_fft).apply(lambda x: x.std())\n",
    "X_train['y_std_fft'] = pd.Series(y_list_fft).apply(lambda x: x.std())\n",
    "X_train['z_std_fft'] = pd.Series(z_list_fft).apply(lambda x: x.std())\n",
    "\n",
    "# FFT avg absolute diff\n",
    "X_train['x_aad_fft'] = pd.Series(x_list_fft).apply(lambda x: np.mean(np.absolute(x - np.mean(x))))\n",
    "X_train['y_aad_fft'] = pd.Series(y_list_fft).apply(lambda x: np.mean(np.absolute(x - np.mean(x))))\n",
    "X_train['z_aad_fft'] = pd.Series(z_list_fft).apply(lambda x: np.mean(np.absolute(x - np.mean(x))))\n",
    "\n",
    "# FFT min\n",
    "X_train['x_min_fft'] = pd.Series(x_list_fft).apply(lambda x: x.min())\n",
    "X_train['y_min_fft'] = pd.Series(y_list_fft).apply(lambda x: x.min())\n",
    "X_train['z_min_fft'] = pd.Series(z_list_fft).apply(lambda x: x.min())\n",
    "\n",
    "# FFT number of peaks\n",
    "X_train['x_peak_count_fft'] = pd.Series(x_list_fft).apply(lambda x: len(find_peaks(x)[0]))\n",
    "X_train['y_peak_count_fft'] = pd.Series(y_list_fft).apply(lambda x: len(find_peaks(x)[0]))\n",
    "X_train['z_peak_count_fft'] = pd.Series(z_list_fft).apply(lambda x: len(find_peaks(x)[0]))\n",
    "\n",
    "# FFT skewness\n",
    "X_train['x_skewness_fft'] = pd.Series(x_list_fft).apply(lambda x: stats.skew(x))\n",
    "X_train['y_skewness_fft'] = pd.Series(y_list_fft).apply(lambda x: stats.skew(x))\n",
    "X_train['z_skewness_fft'] = pd.Series(z_list_fft).apply(lambda x: stats.skew(x))\n",
    "\n",
    "# FFT kurtosis\n",
    "X_train['x_kurtosis_fft'] = pd.Series(x_list_fft).apply(lambda x: stats.kurtosis(x))\n",
    "X_train['y_kurtosis_fft'] = pd.Series(y_list_fft).apply(lambda x: stats.kurtosis(x))\n",
    "X_train['z_kurtosis_fft'] = pd.Series(z_list_fft).apply(lambda x: stats.kurtosis(x))\n",
    "\n",
    "# FFT energy\n",
    "X_train['x_energy_fft'] = pd.Series(x_list_fft).apply(lambda x: np.sum(x**2)/50)\n",
    "X_train['y_energy_fft'] = pd.Series(y_list_fft).apply(lambda x: np.sum(x**2)/50)\n",
    "X_train['z_energy_fft'] = pd.Series(z_list_fft).apply(lambda x: np.sum(x**2/50))\n",
    "\n",
    "# FFT avg resultant\n",
    "#X_train['avg_result_accl_fft'] = [i.mean() for i in ((pd.Series(x_list_fft)**2 + pd.Series(y_list_fft)**2 + pd.Series(z_list_fft)**2)**0.5)]\n",
    "\n",
    "# FFT Signal magnitude area\n",
    "X_train['sma_fft'] = pd.Series(x_list_fft).apply(lambda x: np.sum(abs(x)/50)) + pd.Series(y_list_fft).apply(lambda x: np.sum(abs(x)/50)) \\\n",
    "                     + pd.Series(z_list_fft).apply(lambda x: np.sum(abs(x)/50))"
   ]
  },
  {
   "cell_type": "code",
   "execution_count": 182,
   "id": "7f9a062c",
   "metadata": {},
   "outputs": [],
   "source": [
    "X_train.to_csv(\"X_fulltrain_downsampled_highpassFILT\"+str(window_size)+\"_\"+str(step_size)+\".csv\")"
   ]
  },
  {
   "cell_type": "markdown",
   "id": "ad946fe1",
   "metadata": {},
   "source": [
    "### Create test dataframe\n"
   ]
  },
  {
   "cell_type": "code",
   "execution_count": 311,
   "id": "54ee80c9",
   "metadata": {},
   "outputs": [],
   "source": [
    "# Statistical Features on raw x, y and z in time domain\n",
    "X_test = pd.DataFrame()"
   ]
  },
  {
   "cell_type": "code",
   "execution_count": null,
   "id": "c3050c52",
   "metadata": {},
   "outputs": [],
   "source": [
    "df_test.head()"
   ]
  },
  {
   "cell_type": "code",
   "execution_count": 222,
   "id": "9b3f6e0f",
   "metadata": {},
   "outputs": [],
   "source": [
    "#df_test = df_test.drop('level_0',axis=1)"
   ]
  },
  {
   "cell_type": "code",
   "execution_count": 514,
   "id": "0f99714c",
   "metadata": {},
   "outputs": [],
   "source": [
    "#df_test= df_test.reset_index()\n",
    "user_list = df_test.user.unique()\n",
    "x_list = []\n",
    "y_list = []\n",
    "z_list = []\n",
    "x0_list = []\n",
    "y0_list = []\n",
    "z0_list = []\n",
    "mag_list = []\n",
    "grav_list =[]\n",
    "test_labels = []\n",
    "\n",
    "window_size = 150\n",
    "step_size = 50\n",
    "\n",
    "for j in user_list:\n",
    "    for k in activity_list:\n",
    "        df_sub = df_test.query(f\"activity=='{k}'\").query(f\"user=={j}\")\n",
    "        df_sub=df_sub.reset_index()\n",
    "        #print(k, j, df_sub.shape)\n",
    "        if df_sub.shape[0]>50:\n",
    "            df_sub['x-axis0'] = df_sub['x-axis']\n",
    "            df_sub['y-axis0'] = df_sub['y-axis']\n",
    "            df_sub['z-axis0'] = df_sub['z-axis']\n",
    "            if highpass:\n",
    "                df_sub['x-axis'] = highpass_filter(df_sub['x-axis'], cutoff_freq, sampling_rate)\n",
    "                df_sub['y-axis'] = highpass_filter(df_sub['y-axis'], cutoff_freq, sampling_rate)\n",
    "                df_sub['z-axis'] = highpass_filter(df_sub['z-axis'], cutoff_freq, sampling_rate)\n",
    "\n",
    "        #df_train.query(\"activity=='Walking'\").query(\"user==1\")\n",
    "        for i in range(0, df_sub.shape[0] - window_size, step_size):\n",
    "            if highpass:\n",
    "                x0s = df_sub['x-axis0'].values[i: i + window_size]\n",
    "                x0s = signal.decimate(x0s,ds)\n",
    "                \n",
    "                y0s = df_sub['y-axis0'].values[i: i + window_size]\n",
    "                y0s = signal.decimate(y0s,ds)\n",
    "                \n",
    "                z0s = df_sub['z-axis0'].values[i: i + window_size]\n",
    "                z0s = signal.decimate(z0s,ds)\n",
    "              \n",
    "            xs = df_sub['x-axis'].values[i: i + window_size]\n",
    "            xs = signal.decimate(xs,ds)\n",
    "            \n",
    "            ys = df_sub['y-axis'].values[i: i + window_size]\n",
    "            ys = signal.decimate(ys,ds)\n",
    "            \n",
    "            zs = df_sub['z-axis'].values[i: i + window_size]\n",
    "            zs = signal.decimate(zs,ds)\n",
    "            \n",
    "            mags=np.sqrt(xs**2 + ys**2 + zs**2)\n",
    "            \n",
    "            grav = np.sqrt((df_sub['x-axis']-df_sub['x-axis0'])**2 +\n",
    "            (df_sub['y-axis']-df_sub['y-axis0'])**2 +\n",
    "            (df_sub['z-axis']-df_sub['z-axis0'])**2)\n",
    "            \n",
    "            label = df_sub['activity'][i: i + window_size][i]\n",
    "\n",
    "            x_list.append(xs)\n",
    "            y_list.append(ys)\n",
    "            z_list.append(zs)\n",
    "            x0_list.append(x0s)\n",
    "            y0_list.append(y0s)\n",
    "            z0_list.append(z0s)\n",
    "            mag_list.append(mags)\n",
    "            grav_list.append(grav)\n",
    "            test_labels.append(label)\n"
   ]
  },
  {
   "cell_type": "code",
   "execution_count": 515,
   "id": "5bc0fd77",
   "metadata": {},
   "outputs": [
    {
     "data": {
      "text/plain": [
       "5495"
      ]
     },
     "execution_count": 515,
     "metadata": {},
     "output_type": "execute_result"
    }
   ],
   "source": [
    "Xte = list(zip(x_list, y_list, z_list, x0_list, y0_list, z0_list, mag_list))\n",
    "len(Xte)"
   ]
  },
  {
   "cell_type": "code",
   "execution_count": 313,
   "id": "2f3cd47d",
   "metadata": {},
   "outputs": [],
   "source": [
    "# mean\n",
    "X_test['x_mean'] = pd.Series(x_list).apply(lambda x: x.mean())\n",
    "X_test['y_mean'] = pd.Series(y_list).apply(lambda x: x.mean())\n",
    "X_test['z_mean'] = pd.Series(z_list).apply(lambda x: x.mean())\n",
    "X_test['mag_mean'] = pd.Series(mag_list).apply(lambda x: x.mean())\n",
    "X_test['grav_mean'] = pd.Series(grav_list).apply(lambda x: x.mean())\n",
    "\n",
    "\n",
    "# argmin \n",
    "X_test['x_argmin'] = pd.Series(x_list).apply(lambda x: x.argmin())\n",
    "X_test['y_argmin'] = pd.Series(y_list).apply(lambda x: x.argmin())\n",
    "X_test['z_argmin'] = pd.Series(z_list).apply(lambda x: x.argmin())\n",
    "X_test['mag_argmin'] = pd.Series(mag_list).apply(lambda x: x.argmin())\n",
    "\n",
    "# std dev\n",
    "X_test['x_std'] = pd.Series(x_list).apply(lambda x: x.std())\n",
    "X_test['y_std'] = pd.Series(y_list).apply(lambda x: x.std())\n",
    "X_test['z_std'] = pd.Series(z_list).apply(lambda x: x.std())\n",
    "X_test['mag_std'] = pd.Series(mag_list).apply(lambda x: x.std())\n",
    "\n",
    "# avg absolute diff\n",
    "X_test['x_aad'] = pd.Series(x_list).apply(lambda x: np.mean(np.absolute(x - np.mean(x))))\n",
    "X_test['y_aad'] = pd.Series(y_list).apply(lambda x: np.mean(np.absolute(x - np.mean(x))))\n",
    "X_test['z_aad'] = pd.Series(z_list).apply(lambda x: np.mean(np.absolute(x - np.mean(x))))\n",
    "X_test['mag_aad'] = pd.Series(mag_list).apply(lambda x: np.mean(np.absolute(x - np.mean(x))))\n",
    "\n",
    "\n",
    "# min\n",
    "X_test['x_min'] = pd.Series(x_list).apply(lambda x: x.min())\n",
    "X_test['y_min'] = pd.Series(y_list).apply(lambda x: x.min())\n",
    "X_test['z_min'] = pd.Series(z_list).apply(lambda x: x.min())\n",
    "X_test['mag_min'] = pd.Series(mag_list).apply(lambda x: x.min())\n",
    "\n",
    "# max\n",
    "X_test['x_max'] = pd.Series(x_list).apply(lambda x: x.max())\n",
    "X_test['y_max'] = pd.Series(y_list).apply(lambda x: x.max())\n",
    "X_test['z_max'] = pd.Series(z_list).apply(lambda x: x.max())\n",
    "X_test['mag_max'] = pd.Series(mag_list).apply(lambda x: x.max())\n",
    "X_test['grav_max'] = pd.Series(grav_list).apply(lambda x: x.max())\n",
    "\n",
    "# skewness\n",
    "X_test['x_skewness'] = pd.Series(x_list).apply(lambda x: stats.skew(x))\n",
    "X_test['y_skewness'] = pd.Series(y_list).apply(lambda x: stats.skew(x))\n",
    "X_test['z_skewness'] = pd.Series(z_list).apply(lambda x: stats.skew(x))\n",
    "X_test['mag_skewness'] = pd.Series(mag_list).apply(lambda x: stats.skew(x))\n"
   ]
  },
  {
   "cell_type": "code",
   "execution_count": 273,
   "id": "74f83367",
   "metadata": {},
   "outputs": [
    {
     "data": {
      "text/plain": [
       "10.769752512021658"
      ]
     },
     "execution_count": 273,
     "metadata": {},
     "output_type": "execute_result"
    }
   ],
   "source": []
  },
  {
   "cell_type": "code",
   "execution_count": 88,
   "id": "64982505",
   "metadata": {
    "scrolled": true
   },
   "outputs": [
    {
     "name": "stderr",
     "output_type": "stream",
     "text": [
      "100%|███████████████████████████████████████| 5593/5593 [02:35<00:00, 36.08it/s]\n"
     ]
    }
   ],
   "source": [
    "wr = []\n",
    "#wr_max = []\n",
    "for i in tqdm.tqdm(range(len(x_list))):\n",
    "    xs = x_list[i]\n",
    "    ys = y_list[i]\n",
    "    zs = z_list[i]\n",
    "    xyz = np.array([xs,ys,zs])\n",
    "    coords = np.swapaxes(xyz,0,1)\n",
    "    writhe = gausslink.linkage_integral(coords,coords)\n",
    "    #writhe_max = linkage_max(coords,coords)\n",
    "    wr.append(writhe)\n",
    "    #wr_max.append(writhe_max)\n",
    "\n",
    "X_test[\"writhe\"]=wr\n",
    "#X_test['writhe_max']=wr_max"
   ]
  },
  {
   "cell_type": "code",
   "execution_count": 89,
   "id": "a5569d1b",
   "metadata": {},
   "outputs": [],
   "source": [
    "X_train['abs_writhe']=np.abs(X_train[\"writhe\"])\n",
    "X_test['abs_writhe']=np.abs(X_test[\"writhe\"])\n",
    "\n",
    "X_train['log_writhe']=np.log10(X_train['abs_writhe'])\n",
    "X_test['log_writhe']=np.log10(X_test['abs_writhe'])"
   ]
  },
  {
   "cell_type": "code",
   "execution_count": 175,
   "id": "5addedae",
   "metadata": {},
   "outputs": [],
   "source": [
    "wds = 50 \n",
    "\n",
    "# converting the signals from time domain to frequency domain using FFT\n",
    "x_list_fft = pd.Series(x_list).apply(lambda x: np.abs(np.fft.fft(x))[1:wds+1])\n",
    "y_list_fft = pd.Series(y_list).apply(lambda x: np.abs(np.fft.fft(x))[1:wds+1])\n",
    "z_list_fft = pd.Series(z_list).apply(lambda x: np.abs(np.fft.fft(x))[1:wds+1])\n",
    "\n",
    "# Statistical Features on raw x, y and z in frequency domain\n",
    "# FFT mean\n",
    "X_test['x_mean_fft'] = pd.Series(x_list_fft).apply(lambda x: x.mean())\n",
    "X_test['y_mean_fft'] = pd.Series(y_list_fft).apply(lambda x: x.mean())\n",
    "X_test['z_mean_fft'] = pd.Series(z_list_fft).apply(lambda x: x.mean())\n",
    "\n",
    "# FFT std dev\n",
    "X_test['x_std_fft'] = pd.Series(x_list_fft).apply(lambda x: x.std())\n",
    "X_test['y_std_fft'] = pd.Series(y_list_fft).apply(lambda x: x.std())\n",
    "X_test['z_std_fft'] = pd.Series(z_list_fft).apply(lambda x: x.std())\n",
    "\n",
    "# FFT avg absolute diff\n",
    "X_test['x_aad_fft'] = pd.Series(x_list_fft).apply(lambda x: np.mean(np.absolute(x - np.mean(x))))\n",
    "X_test['y_aad_fft'] = pd.Series(y_list_fft).apply(lambda x: np.mean(np.absolute(x - np.mean(x))))\n",
    "X_test['z_aad_fft'] = pd.Series(z_list_fft).apply(lambda x: np.mean(np.absolute(x - np.mean(x))))\n",
    "\n",
    "# FFT min\n",
    "X_test['x_min_fft'] = pd.Series(x_list_fft).apply(lambda x: x.min())\n",
    "X_test['y_min_fft'] = pd.Series(y_list_fft).apply(lambda x: x.min())\n",
    "X_test['z_min_fft'] = pd.Series(z_list_fft).apply(lambda x: x.min())\n",
    "\n",
    "\n",
    "# FFT number of peaks\n",
    "X_test['x_peak_count_fft'] = pd.Series(x_list_fft).apply(lambda x: len(find_peaks(x)[0]))\n",
    "X_test['y_peak_count_fft'] = pd.Series(y_list_fft).apply(lambda x: len(find_peaks(x)[0]))\n",
    "X_test['z_peak_count_fft'] = pd.Series(z_list_fft).apply(lambda x: len(find_peaks(x)[0]))\n",
    "\n",
    "# FFT skewness\n",
    "X_test['x_skewness_fft'] = pd.Series(x_list_fft).apply(lambda x: stats.skew(x))\n",
    "X_test['y_skewness_fft'] = pd.Series(y_list_fft).apply(lambda x: stats.skew(x))\n",
    "X_test['z_skewness_fft'] = pd.Series(z_list_fft).apply(lambda x: stats.skew(x))\n",
    "\n",
    "# FFT kurtosis\n",
    "X_test['x_kurtosis_fft'] = pd.Series(x_list_fft).apply(lambda x: stats.kurtosis(x))\n",
    "X_test['y_kurtosis_fft'] = pd.Series(y_list_fft).apply(lambda x: stats.kurtosis(x))\n",
    "X_test['z_kurtosis_fft'] = pd.Series(z_list_fft).apply(lambda x: stats.kurtosis(x))\n",
    "\n",
    "# FFT energy\n",
    "X_test['x_energy_fft'] = pd.Series(x_list_fft).apply(lambda x: np.sum(x**2)/50)\n",
    "X_test['y_energy_fft'] = pd.Series(y_list_fft).apply(lambda x: np.sum(x**2)/50)\n",
    "X_test['z_energy_fft'] = pd.Series(z_list_fft).apply(lambda x: np.sum(x**2/50))\n",
    "\n",
    "# FFT avg resultant\n",
    "#X_train['avg_result_accl_fft'] = [i.mean() for i in ((pd.Series(x_list_fft)**2 + pd.Series(y_list_fft)**2 + pd.Series(z_list_fft)**2)**0.5)]\n",
    "\n",
    "# FFT Signal magnitude area\n",
    "X_test['sma_fft'] = pd.Series(x_list_fft).apply(lambda x: np.sum(abs(x)/50)) + pd.Series(y_list_fft).apply(lambda x: np.sum(abs(x)/50)) \\\n",
    "                     + pd.Series(z_list_fft).apply(lambda x: np.sum(abs(x)/50))"
   ]
  },
  {
   "cell_type": "code",
   "execution_count": 122,
   "id": "e2cd0264",
   "metadata": {},
   "outputs": [],
   "source": [
    "X_test['mean_aad']=(X_test['x_aad']+X_test['y_aad']+X_test['z_aad'])/3\n",
    "X_train['mean_aad']=(X_train['x_aad']+X_train['y_aad']+X_train['z_aad'])/3"
   ]
  },
  {
   "cell_type": "code",
   "execution_count": 349,
   "id": "10914396",
   "metadata": {},
   "outputs": [],
   "source": [
    "y_train = np.array(train_labels)\n",
    "y_test = np.array(test_labels)"
   ]
  },
  {
   "cell_type": "markdown",
   "id": "c31aae3a",
   "metadata": {},
   "source": [
    "## Under/Over Sampling "
   ]
  },
  {
   "cell_type": "code",
   "execution_count": null,
   "id": "03ccc859",
   "metadata": {},
   "outputs": [],
   "source": []
  },
  {
   "cell_type": "code",
   "execution_count": 278,
   "id": "808bd7db",
   "metadata": {},
   "outputs": [
    {
     "data": {
      "text/html": [
       "<div>\n",
       "<style scoped>\n",
       "    .dataframe tbody tr th:only-of-type {\n",
       "        vertical-align: middle;\n",
       "    }\n",
       "\n",
       "    .dataframe tbody tr th {\n",
       "        vertical-align: top;\n",
       "    }\n",
       "\n",
       "    .dataframe thead th {\n",
       "        text-align: right;\n",
       "    }\n",
       "</style>\n",
       "<table border=\"1\" class=\"dataframe\">\n",
       "  <thead>\n",
       "    <tr style=\"text-align: right;\">\n",
       "      <th></th>\n",
       "      <th>x_mean</th>\n",
       "      <th>y_mean</th>\n",
       "      <th>z_mean</th>\n",
       "      <th>mag_mean</th>\n",
       "      <th>x_argmin</th>\n",
       "      <th>y_argmin</th>\n",
       "      <th>z_argmin</th>\n",
       "      <th>mag_argmin</th>\n",
       "      <th>x_std</th>\n",
       "      <th>y_std</th>\n",
       "      <th>...</th>\n",
       "      <th>mag_max</th>\n",
       "      <th>x_skewness</th>\n",
       "      <th>y_skewness</th>\n",
       "      <th>z_skewness</th>\n",
       "      <th>mag_skewness</th>\n",
       "      <th>writhe</th>\n",
       "      <th>abs_writhe</th>\n",
       "      <th>log_writhe</th>\n",
       "      <th>y_train</th>\n",
       "      <th>user</th>\n",
       "    </tr>\n",
       "  </thead>\n",
       "  <tbody>\n",
       "    <tr>\n",
       "      <th>0</th>\n",
       "      <td>0.680149</td>\n",
       "      <td>-0.276499</td>\n",
       "      <td>0.604482</td>\n",
       "      <td>5.336098</td>\n",
       "      <td>22</td>\n",
       "      <td>12</td>\n",
       "      <td>15</td>\n",
       "      <td>0</td>\n",
       "      <td>4.297417</td>\n",
       "      <td>3.416470</td>\n",
       "      <td>...</td>\n",
       "      <td>10.724214</td>\n",
       "      <td>0.292639</td>\n",
       "      <td>-0.319312</td>\n",
       "      <td>0.237260</td>\n",
       "      <td>-0.071991</td>\n",
       "      <td>-76.065798</td>\n",
       "      <td>76.065798</td>\n",
       "      <td>1.881189</td>\n",
       "      <td>Walking</td>\n",
       "      <td>1</td>\n",
       "    </tr>\n",
       "    <tr>\n",
       "      <th>1</th>\n",
       "      <td>-0.460315</td>\n",
       "      <td>-0.100363</td>\n",
       "      <td>-0.293172</td>\n",
       "      <td>5.472234</td>\n",
       "      <td>11</td>\n",
       "      <td>18</td>\n",
       "      <td>11</td>\n",
       "      <td>22</td>\n",
       "      <td>4.413713</td>\n",
       "      <td>3.492008</td>\n",
       "      <td>...</td>\n",
       "      <td>10.604982</td>\n",
       "      <td>0.018148</td>\n",
       "      <td>-0.288933</td>\n",
       "      <td>0.232008</td>\n",
       "      <td>0.120250</td>\n",
       "      <td>714.634158</td>\n",
       "      <td>714.634158</td>\n",
       "      <td>2.854084</td>\n",
       "      <td>Walking</td>\n",
       "      <td>1</td>\n",
       "    </tr>\n",
       "    <tr>\n",
       "      <th>2</th>\n",
       "      <td>0.229178</td>\n",
       "      <td>0.366958</td>\n",
       "      <td>-0.057174</td>\n",
       "      <td>5.811668</td>\n",
       "      <td>7</td>\n",
       "      <td>3</td>\n",
       "      <td>24</td>\n",
       "      <td>20</td>\n",
       "      <td>4.600953</td>\n",
       "      <td>3.764024</td>\n",
       "      <td>...</td>\n",
       "      <td>10.612032</td>\n",
       "      <td>0.291689</td>\n",
       "      <td>-0.456470</td>\n",
       "      <td>0.472303</td>\n",
       "      <td>0.024094</td>\n",
       "      <td>128.530300</td>\n",
       "      <td>128.530300</td>\n",
       "      <td>2.109006</td>\n",
       "      <td>Walking</td>\n",
       "      <td>1</td>\n",
       "    </tr>\n",
       "    <tr>\n",
       "      <th>3</th>\n",
       "      <td>-0.291731</td>\n",
       "      <td>-0.080267</td>\n",
       "      <td>-0.034576</td>\n",
       "      <td>5.901594</td>\n",
       "      <td>13</td>\n",
       "      <td>10</td>\n",
       "      <td>19</td>\n",
       "      <td>5</td>\n",
       "      <td>4.816101</td>\n",
       "      <td>3.795644</td>\n",
       "      <td>...</td>\n",
       "      <td>10.833430</td>\n",
       "      <td>-0.174332</td>\n",
       "      <td>-0.587937</td>\n",
       "      <td>0.213665</td>\n",
       "      <td>0.337146</td>\n",
       "      <td>-87.519252</td>\n",
       "      <td>87.519252</td>\n",
       "      <td>1.942104</td>\n",
       "      <td>Walking</td>\n",
       "      <td>1</td>\n",
       "    </tr>\n",
       "    <tr>\n",
       "      <th>4</th>\n",
       "      <td>0.584484</td>\n",
       "      <td>0.004892</td>\n",
       "      <td>0.263112</td>\n",
       "      <td>5.869439</td>\n",
       "      <td>19</td>\n",
       "      <td>16</td>\n",
       "      <td>15</td>\n",
       "      <td>22</td>\n",
       "      <td>4.428475</td>\n",
       "      <td>3.848437</td>\n",
       "      <td>...</td>\n",
       "      <td>11.906145</td>\n",
       "      <td>-0.013895</td>\n",
       "      <td>-0.500930</td>\n",
       "      <td>0.283894</td>\n",
       "      <td>0.079651</td>\n",
       "      <td>60.848025</td>\n",
       "      <td>60.848025</td>\n",
       "      <td>1.784246</td>\n",
       "      <td>Walking</td>\n",
       "      <td>1</td>\n",
       "    </tr>\n",
       "    <tr>\n",
       "      <th>...</th>\n",
       "      <td>...</td>\n",
       "      <td>...</td>\n",
       "      <td>...</td>\n",
       "      <td>...</td>\n",
       "      <td>...</td>\n",
       "      <td>...</td>\n",
       "      <td>...</td>\n",
       "      <td>...</td>\n",
       "      <td>...</td>\n",
       "      <td>...</td>\n",
       "      <td>...</td>\n",
       "      <td>...</td>\n",
       "      <td>...</td>\n",
       "      <td>...</td>\n",
       "      <td>...</td>\n",
       "      <td>...</td>\n",
       "      <td>...</td>\n",
       "      <td>...</td>\n",
       "      <td>...</td>\n",
       "      <td>...</td>\n",
       "      <td>...</td>\n",
       "    </tr>\n",
       "    <tr>\n",
       "      <th>15785</th>\n",
       "      <td>-0.007346</td>\n",
       "      <td>0.011165</td>\n",
       "      <td>0.046427</td>\n",
       "      <td>0.115394</td>\n",
       "      <td>3</td>\n",
       "      <td>0</td>\n",
       "      <td>16</td>\n",
       "      <td>13</td>\n",
       "      <td>0.089721</td>\n",
       "      <td>0.044694</td>\n",
       "      <td>...</td>\n",
       "      <td>0.342271</td>\n",
       "      <td>0.370405</td>\n",
       "      <td>-2.399390</td>\n",
       "      <td>0.590298</td>\n",
       "      <td>1.478262</td>\n",
       "      <td>-6.179056</td>\n",
       "      <td>6.179056</td>\n",
       "      <td>0.790922</td>\n",
       "      <td>Standing</td>\n",
       "      <td>27</td>\n",
       "    </tr>\n",
       "    <tr>\n",
       "      <th>15786</th>\n",
       "      <td>0.034938</td>\n",
       "      <td>-0.015952</td>\n",
       "      <td>0.009937</td>\n",
       "      <td>0.328842</td>\n",
       "      <td>4</td>\n",
       "      <td>21</td>\n",
       "      <td>5</td>\n",
       "      <td>14</td>\n",
       "      <td>0.274850</td>\n",
       "      <td>0.115356</td>\n",
       "      <td>...</td>\n",
       "      <td>0.733894</td>\n",
       "      <td>-0.387912</td>\n",
       "      <td>0.814149</td>\n",
       "      <td>0.089714</td>\n",
       "      <td>0.504224</td>\n",
       "      <td>86.509249</td>\n",
       "      <td>86.509249</td>\n",
       "      <td>1.937063</td>\n",
       "      <td>Standing</td>\n",
       "      <td>27</td>\n",
       "    </tr>\n",
       "    <tr>\n",
       "      <th>15787</th>\n",
       "      <td>-0.051725</td>\n",
       "      <td>0.031288</td>\n",
       "      <td>0.033135</td>\n",
       "      <td>0.462991</td>\n",
       "      <td>12</td>\n",
       "      <td>8</td>\n",
       "      <td>12</td>\n",
       "      <td>9</td>\n",
       "      <td>0.462720</td>\n",
       "      <td>0.132344</td>\n",
       "      <td>...</td>\n",
       "      <td>1.372528</td>\n",
       "      <td>0.190073</td>\n",
       "      <td>-0.203249</td>\n",
       "      <td>0.568981</td>\n",
       "      <td>1.342401</td>\n",
       "      <td>144.776452</td>\n",
       "      <td>144.776452</td>\n",
       "      <td>2.160698</td>\n",
       "      <td>Standing</td>\n",
       "      <td>27</td>\n",
       "    </tr>\n",
       "    <tr>\n",
       "      <th>15788</th>\n",
       "      <td>0.044025</td>\n",
       "      <td>-0.016448</td>\n",
       "      <td>-0.020693</td>\n",
       "      <td>0.429535</td>\n",
       "      <td>21</td>\n",
       "      <td>17</td>\n",
       "      <td>13</td>\n",
       "      <td>15</td>\n",
       "      <td>0.364775</td>\n",
       "      <td>0.108671</td>\n",
       "      <td>...</td>\n",
       "      <td>1.328962</td>\n",
       "      <td>0.241847</td>\n",
       "      <td>0.799485</td>\n",
       "      <td>0.706782</td>\n",
       "      <td>1.939285</td>\n",
       "      <td>-107.096113</td>\n",
       "      <td>107.096113</td>\n",
       "      <td>2.029774</td>\n",
       "      <td>Standing</td>\n",
       "      <td>27</td>\n",
       "    </tr>\n",
       "    <tr>\n",
       "      <th>15789</th>\n",
       "      <td>-0.027033</td>\n",
       "      <td>0.016349</td>\n",
       "      <td>-0.042852</td>\n",
       "      <td>0.354660</td>\n",
       "      <td>8</td>\n",
       "      <td>24</td>\n",
       "      <td>0</td>\n",
       "      <td>18</td>\n",
       "      <td>0.315038</td>\n",
       "      <td>0.091711</td>\n",
       "      <td>...</td>\n",
       "      <td>0.774525</td>\n",
       "      <td>-0.188945</td>\n",
       "      <td>-0.835520</td>\n",
       "      <td>-0.677027</td>\n",
       "      <td>0.270692</td>\n",
       "      <td>-47.008791</td>\n",
       "      <td>47.008791</td>\n",
       "      <td>1.672179</td>\n",
       "      <td>Standing</td>\n",
       "      <td>27</td>\n",
       "    </tr>\n",
       "  </tbody>\n",
       "</table>\n",
       "<p>15790 rows × 33 columns</p>\n",
       "</div>"
      ],
      "text/plain": [
       "         x_mean    y_mean    z_mean  mag_mean  x_argmin  y_argmin  z_argmin  \\\n",
       "0      0.680149 -0.276499  0.604482  5.336098        22        12        15   \n",
       "1     -0.460315 -0.100363 -0.293172  5.472234        11        18        11   \n",
       "2      0.229178  0.366958 -0.057174  5.811668         7         3        24   \n",
       "3     -0.291731 -0.080267 -0.034576  5.901594        13        10        19   \n",
       "4      0.584484  0.004892  0.263112  5.869439        19        16        15   \n",
       "...         ...       ...       ...       ...       ...       ...       ...   \n",
       "15785 -0.007346  0.011165  0.046427  0.115394         3         0        16   \n",
       "15786  0.034938 -0.015952  0.009937  0.328842         4        21         5   \n",
       "15787 -0.051725  0.031288  0.033135  0.462991        12         8        12   \n",
       "15788  0.044025 -0.016448 -0.020693  0.429535        21        17        13   \n",
       "15789 -0.027033  0.016349 -0.042852  0.354660         8        24         0   \n",
       "\n",
       "       mag_argmin     x_std     y_std  ...    mag_max  x_skewness  y_skewness  \\\n",
       "0               0  4.297417  3.416470  ...  10.724214    0.292639   -0.319312   \n",
       "1              22  4.413713  3.492008  ...  10.604982    0.018148   -0.288933   \n",
       "2              20  4.600953  3.764024  ...  10.612032    0.291689   -0.456470   \n",
       "3               5  4.816101  3.795644  ...  10.833430   -0.174332   -0.587937   \n",
       "4              22  4.428475  3.848437  ...  11.906145   -0.013895   -0.500930   \n",
       "...           ...       ...       ...  ...        ...         ...         ...   \n",
       "15785          13  0.089721  0.044694  ...   0.342271    0.370405   -2.399390   \n",
       "15786          14  0.274850  0.115356  ...   0.733894   -0.387912    0.814149   \n",
       "15787           9  0.462720  0.132344  ...   1.372528    0.190073   -0.203249   \n",
       "15788          15  0.364775  0.108671  ...   1.328962    0.241847    0.799485   \n",
       "15789          18  0.315038  0.091711  ...   0.774525   -0.188945   -0.835520   \n",
       "\n",
       "       z_skewness  mag_skewness      writhe  abs_writhe  log_writhe   y_train  \\\n",
       "0        0.237260     -0.071991  -76.065798   76.065798    1.881189   Walking   \n",
       "1        0.232008      0.120250  714.634158  714.634158    2.854084   Walking   \n",
       "2        0.472303      0.024094  128.530300  128.530300    2.109006   Walking   \n",
       "3        0.213665      0.337146  -87.519252   87.519252    1.942104   Walking   \n",
       "4        0.283894      0.079651   60.848025   60.848025    1.784246   Walking   \n",
       "...           ...           ...         ...         ...         ...       ...   \n",
       "15785    0.590298      1.478262   -6.179056    6.179056    0.790922  Standing   \n",
       "15786    0.089714      0.504224   86.509249   86.509249    1.937063  Standing   \n",
       "15787    0.568981      1.342401  144.776452  144.776452    2.160698  Standing   \n",
       "15788    0.706782      1.939285 -107.096113  107.096113    2.029774  Standing   \n",
       "15789   -0.677027      0.270692  -47.008791   47.008791    1.672179  Standing   \n",
       "\n",
       "       user  \n",
       "0         1  \n",
       "1         1  \n",
       "2         1  \n",
       "3         1  \n",
       "4         1  \n",
       "...     ...  \n",
       "15785    27  \n",
       "15786    27  \n",
       "15787    27  \n",
       "15788    27  \n",
       "15789    27  \n",
       "\n",
       "[15790 rows x 33 columns]"
      ]
     },
     "execution_count": 278,
     "metadata": {},
     "output_type": "execute_result"
    }
   ],
   "source": [
    "X_train=X_train_y"
   ]
  },
  {
   "cell_type": "code",
   "execution_count": 351,
   "id": "63fc2999",
   "metadata": {},
   "outputs": [
    {
     "data": {
      "text/plain": [
       "0         \n",
       "Downstairs    103\n",
       "Jogging       103\n",
       "Sitting       103\n",
       "Standing      103\n",
       "Upstairs      103\n",
       "Walking       103\n",
       "Name: count, dtype: int64"
      ]
     },
     "execution_count": 351,
     "metadata": {},
     "output_type": "execute_result"
    }
   ],
   "source": [
    "# Test undersampler\n",
    "X_test_rus, y_test_rus = rus.fit_resample(X_test, y_test)\n",
    "pd.DataFrame(y_test_rus).value_counts()"
   ]
  },
  {
   "cell_type": "code",
   "execution_count": 338,
   "id": "b4d3c6af",
   "metadata": {},
   "outputs": [
    {
     "data": {
      "text/plain": [
       "0         \n",
       "Downstairs    208\n",
       "Jogging       208\n",
       "Sitting       208\n",
       "Standing      208\n",
       "Upstairs      208\n",
       "Walking       208\n",
       "Name: count, dtype: int64"
      ]
     },
     "execution_count": 338,
     "metadata": {},
     "output_type": "execute_result"
    }
   ],
   "source": [
    "from imblearn.under_sampling import RandomUnderSampler\n",
    "from imblearn.over_sampling import RandomOverSampler\n",
    "rus = RandomUnderSampler(random_state=42)\n",
    "ros = RandomOverSampler(random_state=42)\n",
    "X_res, y_res = ros.fit_resample(X_train, y_train)\n",
    "\n",
    "pd.DataFrame(y_res).value_counts()"
   ]
  },
  {
   "cell_type": "code",
   "execution_count": null,
   "id": "dd08c33d",
   "metadata": {},
   "outputs": [],
   "source": [
    "#X_train['y_train']=train_labels"
   ]
  },
  {
   "cell_type": "markdown",
   "id": "9ed9b91b",
   "metadata": {},
   "source": [
    "## Train Models"
   ]
  },
  {
   "cell_type": "code",
   "execution_count": 354,
   "id": "af2e119d",
   "metadata": {
    "scrolled": true
   },
   "outputs": [
    {
     "name": "stdout",
     "output_type": "stream",
     "text": [
      "Accuracy: 0.775974025974026\n",
      "\n",
      " -------------Classification Report-------------\n",
      "\n",
      "              precision    recall  f1-score   support\n",
      "\n",
      "  Downstairs       0.54      0.78      0.64       187\n",
      "     Jogging       0.86      0.88      0.87       503\n",
      "     Sitting       0.67      0.73      0.70       116\n",
      "    Standing       0.61      0.59      0.60       103\n",
      "    Upstairs       0.56      0.43      0.48       210\n",
      "     Walking       0.91      0.84      0.87       729\n",
      "\n",
      "    accuracy                           0.78      1848\n",
      "   macro avg       0.69      0.71      0.69      1848\n",
      "weighted avg       0.78      0.78      0.78      1848\n",
      "\n"
     ]
    }
   ],
   "source": [
    "from sklearn.preprocessing import StandardScaler\n",
    "from sklearn.linear_model import LogisticRegression\n",
    "from sklearn.metrics import accuracy_score\n",
    "from sklearn.metrics import classification_report\n",
    "from sklearn.metrics import confusion_matrix\n",
    "# standardization\n",
    "columns = X_train.columns\n",
    "\n",
    "scaler = StandardScaler()\n",
    "scaler.fit(X_res[columns])\n",
    "X_train_data_lr = scaler.transform(X_res[columns])\n",
    "X_test_data_lr = scaler.transform(X_test[columns])\n",
    "X_test_rus_lr = scaler.transform(X_test_rus[columns])\n",
    "\n",
    "# logistic regression model\n",
    "lr = LogisticRegression(random_state = 21)\n",
    "lr.fit(X_train_data_lr, y_res)\n",
    "y_pred_lr = lr.predict(X_test_data_lr)\n",
    "print(\"Accuracy:\", accuracy_score(y_test, y_pred_lr))\n",
    "print(\"\\n -------------Classification Report-------------\\n\")\n",
    "print(classification_report(y_test, y_pred_lr))"
   ]
  },
  {
   "cell_type": "code",
   "execution_count": 340,
   "id": "868392b2",
   "metadata": {},
   "outputs": [
    {
     "name": "stdout",
     "output_type": "stream",
     "text": [
      "Train Accuracy: 0.7908653846153846\n",
      "Test Accuracy: 0.775974025974026\n"
     ]
    }
   ],
   "source": [
    "y_pred_lr = lr.predict(X_train_data_lr)\n",
    "accuracy = accuracy_score(y_res, y_pred_lr)\n",
    "print(\"Train Accuracy:\", accuracy)\n",
    "\n",
    "y_pred_lr = lr.predict(X_test_data_lr)\n",
    "accuracy = accuracy_score(y_test, y_pred_lr)\n",
    "print(\"Test Accuracy:\", accuracy)"
   ]
  },
  {
   "cell_type": "code",
   "execution_count": 341,
   "id": "4f72c392",
   "metadata": {
    "scrolled": true
   },
   "outputs": [
    {
     "name": "stdout",
     "output_type": "stream",
     "text": [
      "         feature  coefficient\n",
      "16       mag_aad    -1.667042\n",
      "19         z_min    -1.656922\n",
      "18         y_min    -1.590151\n",
      "12       mag_std    -1.145627\n",
      "22         y_max     0.924705\n",
      "21         x_max     0.877341\n",
      "14         y_aad     0.651661\n",
      "17         x_min    -0.580170\n",
      "11         z_std    -0.563077\n",
      "15         z_aad     0.493548\n",
      "26    y_skewness     0.445430\n",
      "24       mag_max     0.300550\n",
      "13         x_aad     0.266295\n",
      "9          x_std    -0.207843\n",
      "0         x_mean    -0.180153\n",
      "5       x_argmin    -0.162543\n",
      "7       z_argmin    -0.146226\n",
      "1         y_mean    -0.139972\n",
      "2         z_mean     0.124026\n",
      "4      grav_mean     0.121742\n",
      "28  mag_skewness    -0.121714\n",
      "3       mag_mean    -0.084762\n",
      "10         y_std     0.084482\n",
      "25    x_skewness    -0.084301\n",
      "23         z_max     0.056848\n",
      "20       mag_min    -0.049681\n",
      "27    z_skewness     0.036350\n",
      "6       y_argmin    -0.032557\n",
      "8     mag_argmin    -0.031368\n"
     ]
    }
   ],
   "source": [
    "# Get the coefficients\n",
    "coefficients = lr.coef_[0]\n",
    "\n",
    "# Create a dataframe to display the coefficients\n",
    "feature_importance = pd.DataFrame({'feature': columns, 'coefficient': coefficients})\n",
    "\n",
    "# Sort the dataframe by the absolute value of the coefficients\n",
    "feature_importance = feature_importance.sort_values('coefficient', key=abs, ascending=False)\n",
    "\n",
    "print(feature_importance)"
   ]
  },
  {
   "cell_type": "code",
   "execution_count": 320,
   "id": "807c324e",
   "metadata": {},
   "outputs": [],
   "source": [
    "# Data Processing\n",
    "import pandas as pd\n",
    "import numpy as np\n",
    "\n",
    "# Modelling\n",
    "from sklearn.ensemble import RandomForestClassifier\n",
    "from sklearn.metrics import accuracy_score, confusion_matrix, precision_score, recall_score, ConfusionMatrixDisplay\n",
    "from sklearn.model_selection import RandomizedSearchCV, train_test_split\n",
    "from scipy.stats import randint"
   ]
  },
  {
   "cell_type": "code",
   "execution_count": 288,
   "id": "93672fe9",
   "metadata": {},
   "outputs": [
    {
     "data": {
      "text/plain": [
       "5593"
      ]
     },
     "execution_count": 288,
     "metadata": {},
     "output_type": "execute_result"
    }
   ],
   "source": [
    "len(test_labels)"
   ]
  },
  {
   "cell_type": "code",
   "execution_count": 342,
   "id": "cc4374fc",
   "metadata": {},
   "outputs": [
    {
     "name": "stdout",
     "output_type": "stream",
     "text": [
      "Train Accuracy: 0.9904\n",
      "Test Accuracy: 0.6742\n"
     ]
    }
   ],
   "source": [
    "# Initialise and fit model\n",
    "rf = RandomForestClassifier(max_depth=10)\n",
    "rf.fit(X_train_data_lr, y_res)\n",
    "\n",
    "y_pred_rf = rf.predict(X_train_data_lr)\n",
    "accuracy = accuracy_score(y_res, y_pred_rf)\n",
    "print(\"Train Accuracy:\", round(accuracy,4))\n",
    "\n",
    "\n",
    "y_pred_rf = rf.predict(X_test_data_lr)\n",
    "accuracy = accuracy_score(y_test, y_pred_rf)\n",
    "print(\"Test Accuracy:\", round(accuracy,4))"
   ]
  },
  {
   "cell_type": "code",
   "execution_count": 346,
   "id": "a13a0720",
   "metadata": {},
   "outputs": [
    {
     "data": {
      "text/plain": [
       "(618, 30)"
      ]
     },
     "execution_count": 346,
     "metadata": {},
     "output_type": "execute_result"
    }
   ],
   "source": [
    "X_test_rus.shape"
   ]
  },
  {
   "cell_type": "code",
   "execution_count": 358,
   "id": "2974b992",
   "metadata": {},
   "outputs": [
    {
     "name": "stdout",
     "output_type": "stream",
     "text": [
      "Train Accuracy: 1.0\n",
      "Unbalanced Test Accuracy: 0.6737\n",
      "Balanced Test Accuracy: 0.6942\n",
      "              precision    recall  f1-score   support\n",
      "\n",
      "  Downstairs       0.55      0.60      0.57       103\n",
      "     Jogging       0.86      0.87      0.87       103\n",
      "     Sitting       0.75      0.93      0.83       103\n",
      "    Standing       0.91      0.70      0.79       103\n",
      "    Upstairs       0.52      0.61      0.56       103\n",
      "     Walking       0.65      0.45      0.53       103\n",
      "\n",
      "    accuracy                           0.69       618\n",
      "   macro avg       0.71      0.69      0.69       618\n",
      "weighted avg       0.71      0.69      0.69       618\n",
      "\n"
     ]
    }
   ],
   "source": [
    "# Initialise and fit model\n",
    "rf = RandomForestClassifier()\n",
    "rf.fit(X_train_data_lr, y_res)\n",
    "\n",
    "y_pred_rf = rf.predict(X_train_data_lr)\n",
    "accuracy = accuracy_score(y_res, y_pred_rf)\n",
    "print(\"Train Accuracy:\", round(accuracy,4))\n",
    "\n",
    "\n",
    "y_pred_rf = rf.predict(X_test_data_lr)\n",
    "accuracy = accuracy_score(y_test, y_pred_rf)\n",
    "print(\"Unbalanced Test Accuracy:\", round(accuracy,4))\n",
    "\n",
    "y_pred_rf_rus = rf.predict(X_test_rus_lr)\n",
    "accuracy = accuracy_score(y_test_rus, y_pred_rf_rus)\n",
    "print(\"Balanced Test Accuracy:\", round(accuracy,4))\n",
    "\n",
    "print(classification_report(y_test_rus, y_pred_rf_rus))"
   ]
  },
  {
   "cell_type": "code",
   "execution_count": 332,
   "id": "25c63f02",
   "metadata": {},
   "outputs": [
    {
     "name": "stdout",
     "output_type": "stream",
     "text": [
      "Accuracy: 0.2721861471861472\n",
      "Precision: 0.07408529872003898\n",
      "Recall: 0.2721861471861472\n"
     ]
    }
   ],
   "source": [
    "from sklearn import metrics\n",
    "print(\"Accuracy:\",metrics.accuracy_score(y_test, y_pred))\n",
    "\n",
    "# Model Precision: what percentage of positive tuples are labeled as such?\n",
    "print(\"Precision:\",metrics.precision_score(y_test, y_pred, average='weighted'))\n",
    "\n",
    "# Model Recall: what percentage of positive tuples are labelled as such?\n",
    "print(\"Recall:\",metrics.recall_score(y_test, y_pred, average='weighted'))"
   ]
  },
  {
   "cell_type": "code",
   "execution_count": 359,
   "id": "67daa846",
   "metadata": {},
   "outputs": [
    {
     "data": {
      "image/png": "[encoded data removed]",
      "text/plain": [
       "<Figure size 432x288 with 2 Axes>"
      ]
     },
     "metadata": {
      "needs_background": "light"
     },
     "output_type": "display_data"
    },
    {
     "data": {
      "image/png": "[encoded data removed]",
      "text/plain": [
       "<Figure size 432x288 with 2 Axes>"
      ]
     },
     "metadata": {
      "needs_background": "light"
     },
     "output_type": "display_data"
    },
    {
     "data": {
      "image/png": "[encoded data removed]",
      "text/plain": [
       "<Figure size 432x288 with 2 Axes>"
      ]
     },
     "metadata": {
      "needs_background": "light"
     },
     "output_type": "display_data"
    }
   ],
   "source": [
    "# Create the confusion matrix\n",
    "cm = confusion_matrix(y_test, y_pred_rf)\n",
    "labels = ['Downstairs', 'Jogging', 'Sitting', 'Standing', 'Upstairs', 'Walking']\n",
    "sns.heatmap(cm, xticklabels=labels, yticklabels=labels, annot=True,linewidths = 0.1, fmt='d', cmap = 'YlGnBu')\n",
    "plt.title('CM Random Forest', fontsize = 15)\n",
    "plt.ylabel('True label')\n",
    "plt.xlabel('Predicted label')\n",
    "plt.show()\n",
    "\n",
    "cm = confusion_matrix(y_test, y_pred_lr)\n",
    "labels = ['Downstairs', 'Jogging', 'Sitting', 'Standing', 'Upstairs', 'Walking']\n",
    "sns.heatmap(cm, xticklabels=labels, yticklabels=labels, annot=True,linewidths = 0.1, fmt='d', cmap = 'YlGnBu')\n",
    "plt.title('CM Random Logistic Regression', fontsize = 15)\n",
    "plt.ylabel('True label')\n",
    "plt.xlabel('Predicted label')\n",
    "plt.show()\n",
    "\n",
    "\n",
    "cm = confusion_matrix(y_test_rus, y_pred_rf_rus)\n",
    "labels = ['Downstairs', 'Jogging', 'Sitting', 'Standing', 'Upstairs', 'Walking']\n",
    "sns.heatmap(cm, xticklabels=labels, yticklabels=labels, annot=True,linewidths = 0.1, fmt='d', cmap = 'YlGnBu')\n",
    "plt.title('CM Random Forest Balanced Test Set', fontsize = 15)\n",
    "plt.ylabel('True label')\n",
    "plt.xlabel('Predicted label')\n",
    "plt.show()\n"
   ]
  },
  {
   "cell_type": "code",
   "execution_count": null,
   "id": "f3e08236",
   "metadata": {},
   "outputs": [],
   "source": []
  },
  {
   "cell_type": "code",
   "execution_count": 294,
   "id": "9b1ac176",
   "metadata": {},
   "outputs": [
    {
     "data": {
      "image/png": "[encoded data removed]",
      "text/plain": [
       "<Figure size 432x288 with 1 Axes>"
      ]
     },
     "metadata": {
      "needs_background": "light"
     },
     "output_type": "display_data"
    }
   ],
   "source": [
    "# Create a series containing feature importances from the model and feature names from the training data\n",
    "feature_importances = pd.Series(rf.feature_importances_, index=columns).sort_values(ascending=False)\n",
    "\n",
    "# Plot a simple bar chart\n",
    "feature_importances.plot.bar();"
   ]
  },
  {
   "cell_type": "code",
   "execution_count": 131,
   "id": "eb90c4ee",
   "metadata": {},
   "outputs": [
    {
     "data": {
      "text/plain": [
       "Index(['x_mean', 'y_mean', 'z_mean', 'x_std', 'y_std', 'z_std', 'x_aad',\n",
       "       'y_aad', 'z_aad', 'x_min', 'y_min', 'z_min', 'x_max', 'y_max', 'z_max',\n",
       "       'x_skewness', 'y_skewness', 'z_skewness', 'writhe', 'x_mean_fft',\n",
       "       'y_mean_fft', 'z_mean_fft', 'x_std_fft', 'y_std_fft', 'z_std_fft',\n",
       "       'x_aad_fft', 'y_aad_fft', 'z_aad_fft', 'x_min_fft', 'y_min_fft',\n",
       "       'z_min_fft', 'x_peak_count_fft', 'y_peak_count_fft', 'z_peak_count_fft',\n",
       "       'x_skewness_fft', 'y_skewness_fft', 'z_skewness_fft', 'x_kurtosis_fft',\n",
       "       'y_kurtosis_fft', 'z_kurtosis_fft', 'x_energy_fft', 'y_energy_fft',\n",
       "       'z_energy_fft', 'sma_fft', 'abs_writhe', 'log_writhe', 'y_train',\n",
       "       'mean_aad'],\n",
       "      dtype='object')"
      ]
     },
     "execution_count": 131,
     "metadata": {},
     "output_type": "execute_result"
    }
   ],
   "source": [
    "X_train.columns"
   ]
  },
  {
   "cell_type": "markdown",
   "id": "54bd6b73",
   "metadata": {},
   "source": [
    "## Feature Correlation "
   ]
  },
  {
   "cell_type": "code",
   "execution_count": 146,
   "id": "d830df21",
   "metadata": {},
   "outputs": [
    {
     "data": {
      "image/png": "[encoded data removed]",
      "text/plain": [
       "<Figure size 864x864 with 2 Axes>"
      ]
     },
     "metadata": {
      "needs_background": "light"
     },
     "output_type": "display_data"
    }
   ],
   "source": [
    "plt.figure(figsize=(12, 12))\n",
    "\n",
    "corr_m = X_train.corr()\n",
    "sns.heatmap(corr_m)\n",
    "plt.show()"
   ]
  },
  {
   "cell_type": "code",
   "execution_count": null,
   "id": "7ce715b6",
   "metadata": {},
   "outputs": [],
   "source": []
  },
  {
   "cell_type": "code",
   "execution_count": 337,
   "id": "211f25b3",
   "metadata": {},
   "outputs": [
    {
     "data": {
      "image/png": "[encoded data removed]",
      "text/plain": [
       "<Figure size 432x288 with 2 Axes>"
      ]
     },
     "metadata": {
      "needs_background": "light"
     },
     "output_type": "display_data"
    }
   ],
   "source": [
    "labels = ['Downstairs', 'Jogging', 'Sitting', 'Standing', 'Upstairs', 'Walking']\n",
    "confusion_matrix = confusion_matrix(y_test, y_pred_lr)\n",
    "sns.heatmap(confusion_matrix, xticklabels=labels, yticklabels=labels, annot=True,linewidths = 0.1, fmt='d', cmap = 'YlGnBu')\n",
    "plt.title('Confusion matrix', fontsize = 15)\n",
    "plt.ylabel('True label')\n",
    "plt.xlabel('Predicted label')\n",
    "plt.show()"
   ]
  },
  {
   "cell_type": "markdown",
   "id": "4f166b33",
   "metadata": {},
   "source": [
    "## Writhe features by activity"
   ]
  },
  {
   "cell_type": "code",
   "execution_count": 100,
   "id": "13439133",
   "metadata": {},
   "outputs": [],
   "source": [
    "X_test['writhe']=np.abs(X_test['writhe'])"
   ]
  },
  {
   "cell_type": "code",
   "execution_count": 101,
   "id": "6abe76eb",
   "metadata": {},
   "outputs": [],
   "source": []
  },
  {
   "cell_type": "code",
   "execution_count": 241,
   "id": "5c85db33",
   "metadata": {},
   "outputs": [],
   "source": [
    "X_train['abs_writhe']=np.abs(X_train['writhe'])\n",
    "X_train['log_writhe'] = np.log10(X_train['abs_writhe'])\n",
    "#X_train['log_writhe_mean'] = np.log10(X_train['writhe_mean'])\n",
    "#X_train['writhe_mean']=X_train['abs_writhe']*np.abs(X_train['x_max'])"
   ]
  },
  {
   "cell_type": "code",
   "execution_count": 242,
   "id": "4e008c9f",
   "metadata": {},
   "outputs": [],
   "source": [
    "#X_train['logmax_writhe']=np.log10(X_train['writhe_max'])"
   ]
  },
  {
   "cell_type": "code",
   "execution_count": null,
   "id": "f830169b",
   "metadata": {},
   "outputs": [],
   "source": [
    "X_train['logmaxwr_mean']=X_train['logmax_writhe']/np.abs(X_train['x_max'])"
   ]
  },
  {
   "cell_type": "code",
   "execution_count": 299,
   "id": "97d009cf",
   "metadata": {},
   "outputs": [],
   "source": [
    "X_train_y=X_train\n",
    "X_train_y['y_train']=y_train\n",
    "X_train_y['user']=users\n",
    "X_train_y['grav']=X_train['grav_mean']"
   ]
  },
  {
   "cell_type": "code",
   "execution_count": null,
   "id": "97da31ed",
   "metadata": {},
   "outputs": [],
   "source": [
    "X_train_y.columns"
   ]
  },
  {
   "cell_type": "code",
   "execution_count": 305,
   "id": "ae9ddecf",
   "metadata": {
    "scrolled": true
   },
   "outputs": [
    {
     "data": {
      "text/plain": [
       "<seaborn.axisgrid.FacetGrid at 0x149993f70>"
      ]
     },
     "execution_count": 305,
     "metadata": {},
     "output_type": "execute_result"
    },
    {
     "data": {
      "image/png": "[encoded data removed]",
      "text/plain": [
       "<Figure size 451.75x360 with 1 Axes>"
      ]
     },
     "metadata": {
      "needs_background": "light"
     },
     "output_type": "display_data"
    }
   ],
   "source": [
    "import seaborn as sns\n",
    "sns.catplot(data=X_train_y, hue=\"y_train\", y='grav_mean', x='user')"
   ]
  },
  {
   "cell_type": "code",
   "execution_count": 106,
   "id": "2d112c68",
   "metadata": {},
   "outputs": [
    {
     "data": {
      "text/plain": [
       "<Axes: title={'center': 'abs_writhe'}, xlabel='y_train'>"
      ]
     },
     "execution_count": 106,
     "metadata": {},
     "output_type": "execute_result"
    },
    {
     "data": {
      "image/png": "[encoded data removed]",
      "text/plain": [
       "<Figure size 432x288 with 1 Axes>"
      ]
     },
     "metadata": {
      "needs_background": "light"
     },
     "output_type": "display_data"
    }
   ],
   "source": [
    "X_train['abs_writhe'] = np.abs(X_train['writhe'])\n",
    "X_train.boxplot(column='abs_writhe',by='y_train')"
   ]
  },
  {
   "cell_type": "code",
   "execution_count": null,
   "id": "b404f296",
   "metadata": {},
   "outputs": [],
   "source": [
    "X_train.boxplot(column='writhe_mean',by='y_train')"
   ]
  },
  {
   "cell_type": "code",
   "execution_count": null,
   "id": "47c88c0e",
   "metadata": {},
   "outputs": [],
   "source": [
    "X_train.boxplot(column='log_writhe',by='y_train')"
   ]
  },
  {
   "cell_type": "code",
   "execution_count": 108,
   "id": "eceeee66",
   "metadata": {},
   "outputs": [
    {
     "data": {
      "text/plain": [
       "<Axes: title={'center': 'writhe'}, xlabel='y_train'>"
      ]
     },
     "execution_count": 108,
     "metadata": {},
     "output_type": "execute_result"
    },
    {
     "data": {
      "image/png": "[encoded data removed]",
      "text/plain": [
       "<Figure size 432x288 with 1 Axes>"
      ]
     },
     "metadata": {
      "needs_background": "light"
     },
     "output_type": "display_data"
    }
   ],
   "source": [
    "X_train.boxplot(column='writhe',by='y_train')"
   ]
  },
  {
   "cell_type": "code",
   "execution_count": 439,
   "id": "163a48b0",
   "metadata": {},
   "outputs": [
    {
     "ename": "KeyError",
     "evalue": "'y_train'",
     "output_type": "error",
     "traceback": [
      "\u001b[0;31m---------------------------------------------------------------------------\u001b[0m",
      "\u001b[0;31mKeyError\u001b[0m                                  Traceback (most recent call last)",
      "\u001b[0;32m/var/folders/sl/s42h4v1x3lb1wkpyy7b8gsw80000gn/T/ipykernel_39596/1014714389.py\u001b[0m in \u001b[0;36m<module>\u001b[0;34m\u001b[0m\n\u001b[0;32m----> 1\u001b[0;31m \u001b[0mX_train\u001b[0m\u001b[0;34m.\u001b[0m\u001b[0mboxplot\u001b[0m\u001b[0;34m(\u001b[0m\u001b[0mcolumn\u001b[0m\u001b[0;34m=\u001b[0m\u001b[0;34m'x_mean'\u001b[0m\u001b[0;34m,\u001b[0m\u001b[0mby\u001b[0m\u001b[0;34m=\u001b[0m\u001b[0;34m'y_train'\u001b[0m\u001b[0;34m)\u001b[0m\u001b[0;34m\u001b[0m\u001b[0;34m\u001b[0m\u001b[0m\n\u001b[0m",
      "\u001b[0;32m/usr/local/lib/python3.9/site-packages/pandas/plotting/_core.py\u001b[0m in \u001b[0;36mboxplot_frame\u001b[0;34m(self, column, by, ax, fontsize, rot, grid, figsize, layout, return_type, backend, **kwargs)\u001b[0m\n\u001b[1;32m    531\u001b[0m ):\n\u001b[1;32m    532\u001b[0m     \u001b[0mplot_backend\u001b[0m \u001b[0;34m=\u001b[0m \u001b[0m_get_plot_backend\u001b[0m\u001b[0;34m(\u001b[0m\u001b[0mbackend\u001b[0m\u001b[0;34m)\u001b[0m\u001b[0;34m\u001b[0m\u001b[0;34m\u001b[0m\u001b[0m\n\u001b[0;32m--> 533\u001b[0;31m     return plot_backend.boxplot_frame(\n\u001b[0m\u001b[1;32m    534\u001b[0m         \u001b[0mself\u001b[0m\u001b[0;34m,\u001b[0m\u001b[0;34m\u001b[0m\u001b[0;34m\u001b[0m\u001b[0m\n\u001b[1;32m    535\u001b[0m         \u001b[0mcolumn\u001b[0m\u001b[0;34m=\u001b[0m\u001b[0mcolumn\u001b[0m\u001b[0;34m,\u001b[0m\u001b[0;34m\u001b[0m\u001b[0;34m\u001b[0m\u001b[0m\n",
      "\u001b[0;32m/usr/local/lib/python3.9/site-packages/pandas/plotting/_matplotlib/boxplot.py\u001b[0m in \u001b[0;36mboxplot_frame\u001b[0;34m(self, column, by, ax, fontsize, rot, grid, figsize, layout, return_type, **kwds)\u001b[0m\n\u001b[1;32m    490\u001b[0m     \u001b[0;32mimport\u001b[0m \u001b[0mmatplotlib\u001b[0m\u001b[0;34m.\u001b[0m\u001b[0mpyplot\u001b[0m \u001b[0;32mas\u001b[0m \u001b[0mplt\u001b[0m\u001b[0;34m\u001b[0m\u001b[0;34m\u001b[0m\u001b[0m\n\u001b[1;32m    491\u001b[0m \u001b[0;34m\u001b[0m\u001b[0m\n\u001b[0;32m--> 492\u001b[0;31m     ax = boxplot(\n\u001b[0m\u001b[1;32m    493\u001b[0m         \u001b[0mself\u001b[0m\u001b[0;34m,\u001b[0m\u001b[0;34m\u001b[0m\u001b[0;34m\u001b[0m\u001b[0m\n\u001b[1;32m    494\u001b[0m         \u001b[0mcolumn\u001b[0m\u001b[0;34m=\u001b[0m\u001b[0mcolumn\u001b[0m\u001b[0;34m,\u001b[0m\u001b[0;34m\u001b[0m\u001b[0;34m\u001b[0m\u001b[0m\n",
      "\u001b[0;32m/usr/local/lib/python3.9/site-packages/pandas/plotting/_matplotlib/boxplot.py\u001b[0m in \u001b[0;36mboxplot\u001b[0;34m(data, column, by, ax, fontsize, rot, grid, figsize, layout, return_type, **kwds)\u001b[0m\n\u001b[1;32m    436\u001b[0m         \u001b[0;31m# Prefer array return type for 2-D plots to match the subplot layout\u001b[0m\u001b[0;34m\u001b[0m\u001b[0;34m\u001b[0m\u001b[0m\n\u001b[1;32m    437\u001b[0m         \u001b[0;31m# https://github.com/pandas-dev/pandas/pull/12216#issuecomment-241175580\u001b[0m\u001b[0;34m\u001b[0m\u001b[0;34m\u001b[0m\u001b[0m\n\u001b[0;32m--> 438\u001b[0;31m         result = _grouped_plot_by_column(\n\u001b[0m\u001b[1;32m    439\u001b[0m             \u001b[0mplot_group\u001b[0m\u001b[0;34m,\u001b[0m\u001b[0;34m\u001b[0m\u001b[0;34m\u001b[0m\u001b[0m\n\u001b[1;32m    440\u001b[0m             \u001b[0mdata\u001b[0m\u001b[0;34m,\u001b[0m\u001b[0;34m\u001b[0m\u001b[0;34m\u001b[0m\u001b[0m\n",
      "\u001b[0;32m/usr/local/lib/python3.9/site-packages/pandas/plotting/_matplotlib/boxplot.py\u001b[0m in \u001b[0;36m_grouped_plot_by_column\u001b[0;34m(plotf, data, columns, by, numeric_only, grid, figsize, ax, layout, return_type, **kwargs)\u001b[0m\n\u001b[1;32m    297\u001b[0m     \u001b[0;34m**\u001b[0m\u001b[0mkwargs\u001b[0m\u001b[0;34m,\u001b[0m\u001b[0;34m\u001b[0m\u001b[0;34m\u001b[0m\u001b[0m\n\u001b[1;32m    298\u001b[0m ):\n\u001b[0;32m--> 299\u001b[0;31m     \u001b[0mgrouped\u001b[0m \u001b[0;34m=\u001b[0m \u001b[0mdata\u001b[0m\u001b[0;34m.\u001b[0m\u001b[0mgroupby\u001b[0m\u001b[0;34m(\u001b[0m\u001b[0mby\u001b[0m\u001b[0;34m,\u001b[0m \u001b[0mobserved\u001b[0m\u001b[0;34m=\u001b[0m\u001b[0;32mFalse\u001b[0m\u001b[0;34m)\u001b[0m\u001b[0;34m\u001b[0m\u001b[0;34m\u001b[0m\u001b[0m\n\u001b[0m\u001b[1;32m    300\u001b[0m     \u001b[0;32mif\u001b[0m \u001b[0mcolumns\u001b[0m \u001b[0;32mis\u001b[0m \u001b[0;32mNone\u001b[0m\u001b[0;34m:\u001b[0m\u001b[0;34m\u001b[0m\u001b[0;34m\u001b[0m\u001b[0m\n\u001b[1;32m    301\u001b[0m         \u001b[0;32mif\u001b[0m \u001b[0;32mnot\u001b[0m \u001b[0misinstance\u001b[0m\u001b[0;34m(\u001b[0m\u001b[0mby\u001b[0m\u001b[0;34m,\u001b[0m \u001b[0;34m(\u001b[0m\u001b[0mlist\u001b[0m\u001b[0;34m,\u001b[0m \u001b[0mtuple\u001b[0m\u001b[0;34m)\u001b[0m\u001b[0;34m)\u001b[0m\u001b[0;34m:\u001b[0m\u001b[0;34m\u001b[0m\u001b[0;34m\u001b[0m\u001b[0m\n",
      "\u001b[0;32m/usr/local/lib/python3.9/site-packages/pandas/core/frame.py\u001b[0m in \u001b[0;36mgroupby\u001b[0;34m(self, by, axis, level, as_index, sort, group_keys, observed, dropna)\u001b[0m\n\u001b[1;32m   9181\u001b[0m             \u001b[0;32mraise\u001b[0m \u001b[0mTypeError\u001b[0m\u001b[0;34m(\u001b[0m\u001b[0;34m\"You have to supply one of 'by' and 'level'\"\u001b[0m\u001b[0;34m)\u001b[0m\u001b[0;34m\u001b[0m\u001b[0;34m\u001b[0m\u001b[0m\n\u001b[1;32m   9182\u001b[0m \u001b[0;34m\u001b[0m\u001b[0m\n\u001b[0;32m-> 9183\u001b[0;31m         return DataFrameGroupBy(\n\u001b[0m\u001b[1;32m   9184\u001b[0m             \u001b[0mobj\u001b[0m\u001b[0;34m=\u001b[0m\u001b[0mself\u001b[0m\u001b[0;34m,\u001b[0m\u001b[0;34m\u001b[0m\u001b[0;34m\u001b[0m\u001b[0m\n\u001b[1;32m   9185\u001b[0m             \u001b[0mkeys\u001b[0m\u001b[0;34m=\u001b[0m\u001b[0mby\u001b[0m\u001b[0;34m,\u001b[0m\u001b[0;34m\u001b[0m\u001b[0;34m\u001b[0m\u001b[0m\n",
      "\u001b[0;32m/usr/local/lib/python3.9/site-packages/pandas/core/groupby/groupby.py\u001b[0m in \u001b[0;36m__init__\u001b[0;34m(self, obj, keys, axis, level, grouper, exclusions, selection, as_index, sort, group_keys, observed, dropna)\u001b[0m\n\u001b[1;32m   1327\u001b[0m \u001b[0;34m\u001b[0m\u001b[0m\n\u001b[1;32m   1328\u001b[0m         \u001b[0;32mif\u001b[0m \u001b[0mgrouper\u001b[0m \u001b[0;32mis\u001b[0m \u001b[0;32mNone\u001b[0m\u001b[0;34m:\u001b[0m\u001b[0;34m\u001b[0m\u001b[0;34m\u001b[0m\u001b[0m\n\u001b[0;32m-> 1329\u001b[0;31m             grouper, exclusions, obj = get_grouper(\n\u001b[0m\u001b[1;32m   1330\u001b[0m                 \u001b[0mobj\u001b[0m\u001b[0;34m,\u001b[0m\u001b[0;34m\u001b[0m\u001b[0;34m\u001b[0m\u001b[0m\n\u001b[1;32m   1331\u001b[0m                 \u001b[0mkeys\u001b[0m\u001b[0;34m,\u001b[0m\u001b[0;34m\u001b[0m\u001b[0;34m\u001b[0m\u001b[0m\n",
      "\u001b[0;32m/usr/local/lib/python3.9/site-packages/pandas/core/groupby/grouper.py\u001b[0m in \u001b[0;36mget_grouper\u001b[0;34m(obj, key, axis, level, sort, observed, validate, dropna)\u001b[0m\n\u001b[1;32m   1041\u001b[0m                 \u001b[0min_axis\u001b[0m\u001b[0;34m,\u001b[0m \u001b[0mlevel\u001b[0m\u001b[0;34m,\u001b[0m \u001b[0mgpr\u001b[0m \u001b[0;34m=\u001b[0m \u001b[0;32mFalse\u001b[0m\u001b[0;34m,\u001b[0m \u001b[0mgpr\u001b[0m\u001b[0;34m,\u001b[0m \u001b[0;32mNone\u001b[0m\u001b[0;34m\u001b[0m\u001b[0;34m\u001b[0m\u001b[0m\n\u001b[1;32m   1042\u001b[0m             \u001b[0;32melse\u001b[0m\u001b[0;34m:\u001b[0m\u001b[0;34m\u001b[0m\u001b[0;34m\u001b[0m\u001b[0m\n\u001b[0;32m-> 1043\u001b[0;31m                 \u001b[0;32mraise\u001b[0m \u001b[0mKeyError\u001b[0m\u001b[0;34m(\u001b[0m\u001b[0mgpr\u001b[0m\u001b[0;34m)\u001b[0m\u001b[0;34m\u001b[0m\u001b[0;34m\u001b[0m\u001b[0m\n\u001b[0m\u001b[1;32m   1044\u001b[0m         \u001b[0;32melif\u001b[0m \u001b[0misinstance\u001b[0m\u001b[0;34m(\u001b[0m\u001b[0mgpr\u001b[0m\u001b[0;34m,\u001b[0m \u001b[0mGrouper\u001b[0m\u001b[0;34m)\u001b[0m \u001b[0;32mand\u001b[0m \u001b[0mgpr\u001b[0m\u001b[0;34m.\u001b[0m\u001b[0mkey\u001b[0m \u001b[0;32mis\u001b[0m \u001b[0;32mnot\u001b[0m \u001b[0;32mNone\u001b[0m\u001b[0;34m:\u001b[0m\u001b[0;34m\u001b[0m\u001b[0;34m\u001b[0m\u001b[0m\n\u001b[1;32m   1045\u001b[0m             \u001b[0;31m# Add key to exclusions\u001b[0m\u001b[0;34m\u001b[0m\u001b[0;34m\u001b[0m\u001b[0m\n",
      "\u001b[0;31mKeyError\u001b[0m: 'y_train'"
     ]
    }
   ],
   "source": [
    "X_train.boxplot(column='x_mean',by='y_train')"
   ]
  },
  {
   "cell_type": "markdown",
   "id": "fa3daa43",
   "metadata": {},
   "source": [
    "## LSTM Version"
   ]
  },
  {
   "cell_type": "code",
   "execution_count": 362,
   "id": "7783a8ae",
   "metadata": {},
   "outputs": [
    {
     "name": "stderr",
     "output_type": "stream",
     "text": [
      "2025-02-13 21:59:12.635459: I tensorflow/core/platform/cpu_feature_guard.cc:182] This TensorFlow binary is optimized to use available CPU instructions in performance-critical operations.\n",
      "To enable the following instructions: AVX2 FMA, in other operations, rebuild TensorFlow with the appropriate compiler flags.\n"
     ]
    }
   ],
   "source": [
    "import numpy as np\n",
    "import matplotlib.pyplot as plt\n",
    "import pandas as pd\n",
    "import tensorflow as tf\n",
    "from tensorflow.keras.models import Sequential\n",
    "from tensorflow.keras.layers import Dense\n",
    "from tensorflow.keras.layers import LSTM\n",
    "from sklearn.preprocessing import MinMaxScaler\n",
    "from sklearn.metrics import mean_squared_error"
   ]
  },
  {
   "cell_type": "code",
   "execution_count": 506,
   "id": "99a9d3f1",
   "metadata": {},
   "outputs": [],
   "source": [
    "from sklearn.preprocessing import LabelBinarizer\n",
    "\n",
    "lb = LabelBinarizer()\n",
    "lb.fit(np.array(train_labels))\n",
    "onehot_trainlb = lb.transform(np.array(train_labels))"
   ]
  },
  {
   "cell_type": "code",
   "execution_count": 503,
   "id": "92f6e0c0",
   "metadata": {},
   "outputs": [
    {
     "data": {
      "text/plain": [
       "5495"
      ]
     },
     "execution_count": 503,
     "metadata": {},
     "output_type": "execute_result"
    }
   ],
   "source": [
    "len(Xte)"
   ]
  },
  {
   "cell_type": "code",
   "execution_count": 504,
   "id": "bed84a11",
   "metadata": {},
   "outputs": [
    {
     "data": {
      "text/plain": [
       "15530"
      ]
     },
     "execution_count": 504,
     "metadata": {},
     "output_type": "execute_result"
    }
   ],
   "source": [
    "len(Xtr)"
   ]
  },
  {
   "cell_type": "code",
   "execution_count": 505,
   "id": "e588727a",
   "metadata": {},
   "outputs": [
    {
     "data": {
      "text/plain": [
       "15530"
      ]
     },
     "execution_count": 505,
     "metadata": {},
     "output_type": "execute_result"
    }
   ],
   "source": [
    "len(train_labels)"
   ]
  },
  {
   "cell_type": "code",
   "execution_count": 373,
   "id": "0640d8f8",
   "metadata": {},
   "outputs": [],
   "source": [
    "#XXtr = list(zip(Xtr[0], Xtr[1], Xtr[2]))\n",
    "#XXte = list(zip(Xte[0], Xte[1], Xte[2]))"
   ]
  },
  {
   "cell_type": "code",
   "execution_count": null,
   "id": "0cdd7ed5",
   "metadata": {},
   "outputs": [],
   "source": [
    "rus"
   ]
  },
  {
   "cell_type": "code",
   "execution_count": 441,
   "id": "94c26c2e",
   "metadata": {},
   "outputs": [],
   "source": [
    "from tensorflow.keras.layers import Conv1D, LSTM, Dense"
   ]
  },
  {
   "cell_type": "code",
   "execution_count": 530,
   "id": "3804a5df",
   "metadata": {},
   "outputs": [
    {
     "name": "stdout",
     "output_type": "stream",
     "text": [
      "Epoch 1/20\n",
      "311/311 [==============================] - 4s 4ms/step - loss: 0.0548\n",
      "Epoch 2/20\n",
      "311/311 [==============================] - 1s 3ms/step - loss: 0.0386\n",
      "Epoch 3/20\n",
      "311/311 [==============================] - 1s 3ms/step - loss: 0.0332\n",
      "Epoch 4/20\n",
      "311/311 [==============================] - 1s 4ms/step - loss: 0.0289\n",
      "Epoch 5/20\n",
      "311/311 [==============================] - 1s 4ms/step - loss: 0.0257\n",
      "Epoch 6/20\n",
      "311/311 [==============================] - 1s 4ms/step - loss: 0.0231\n",
      "Epoch 7/20\n",
      "311/311 [==============================] - 1s 4ms/step - loss: 0.0209\n",
      "Epoch 8/20\n",
      "311/311 [==============================] - 1s 4ms/step - loss: 0.0182\n",
      "Epoch 9/20\n",
      "311/311 [==============================] - 1s 4ms/step - loss: 0.0161\n",
      "Epoch 10/20\n",
      "311/311 [==============================] - 1s 3ms/step - loss: 0.0152\n",
      "Epoch 11/20\n",
      "311/311 [==============================] - 1s 3ms/step - loss: 0.0129\n",
      "Epoch 12/20\n",
      "311/311 [==============================] - 1s 4ms/step - loss: 0.0124\n",
      "Epoch 13/20\n",
      "311/311 [==============================] - 1s 4ms/step - loss: 0.0113\n",
      "Epoch 14/20\n",
      "311/311 [==============================] - 1s 4ms/step - loss: 0.0105\n",
      "Epoch 15/20\n",
      "311/311 [==============================] - 1s 4ms/step - loss: 0.0097\n",
      "Epoch 16/20\n",
      "311/311 [==============================] - 1s 4ms/step - loss: 0.0090\n",
      "Epoch 17/20\n",
      "311/311 [==============================] - 1s 4ms/step - loss: 0.0082\n",
      "Epoch 18/20\n",
      "311/311 [==============================] - 1s 3ms/step - loss: 0.0077\n",
      "Epoch 19/20\n",
      "311/311 [==============================] - 1s 4ms/step - loss: 0.0072\n",
      "Epoch 20/20\n",
      "311/311 [==============================] - 1s 4ms/step - loss: 0.0069\n"
     ]
    },
    {
     "data": {
      "text/plain": [
       "<keras.src.callbacks.History at 0x1674904f0>"
      ]
     },
     "execution_count": 530,
     "metadata": {},
     "output_type": "execute_result"
    }
   ],
   "source": [
    "# design network\n",
    "\n",
    "XT = np.array(Xte)\n",
    "XT = np.reshape(XT, (XT.shape[0],XT.shape[1],  XT.shape[2]))\n",
    "\n",
    "X = np.array(Xtr)\n",
    "X = np.reshape(X, (X.shape[0], X.shape[1],  X.shape[2]))\n",
    "\n",
    "\n",
    "model = Sequential()\n",
    "# Build the LSTM model\n",
    "model = Sequential()\n",
    "model.add(Conv1D(filters=32, kernel_size=6, activation='relu', input_shape=(X.shape[1], X.shape[2])))\n",
    "model.add(LSTM(50, input_shape=(X.shape[1], X.shape[2])))\n",
    "#model.add(Dense(18, activation='relu'))\n",
    "model.add(Dense(6, activation='softmax'))\n",
    "\n",
    "model.compile(loss='mean_squared_error', optimizer='adam')\n",
    "\n",
    "# Train the model\n",
    "model.fit(X, onehot_trainlb, epochs=20, batch_size=50, validation_freq=10)\n"
   ]
  },
  {
   "cell_type": "code",
   "execution_count": 531,
   "id": "a8938768",
   "metadata": {},
   "outputs": [
    {
     "name": "stdout",
     "output_type": "stream",
     "text": [
      "172/172 [==============================] - 1s 2ms/step\n"
     ]
    }
   ],
   "source": [
    "# Make predictions\n",
    "predictions = model.predict(XT)\n",
    "#print(predictions)"
   ]
  },
  {
   "cell_type": "code",
   "execution_count": 532,
   "id": "5c47c058",
   "metadata": {
    "scrolled": true
   },
   "outputs": [
    {
     "name": "stdout",
     "output_type": "stream",
     "text": [
      "              precision    recall  f1-score   support\n",
      "\n",
      "  Downstairs       0.37      0.39      0.38       556\n",
      "     Jogging       0.81      0.84      0.82      1503\n",
      "     Sitting       0.88      0.91      0.89       339\n",
      "    Standing       1.00      0.80      0.89       302\n",
      "    Upstairs       0.34      0.63      0.45       618\n",
      "     Walking       0.90      0.67      0.77      2177\n",
      "\n",
      "    accuracy                           0.71      5495\n",
      "   macro avg       0.72      0.71      0.70      5495\n",
      "weighted avg       0.76      0.71      0.72      5495\n",
      "\n"
     ]
    }
   ],
   "source": [
    "from sklearn.metrics import confusion_matrix\n",
    "from sklearn.metrics import classification_report\n",
    "confusion_matrix(lb.inverse_transform(predictions), test_labels)\n",
    "\n",
    "print(classification_report(test_labels, lb.inverse_transform(predictions)))"
   ]
  },
  {
   "cell_type": "code",
   "execution_count": 519,
   "id": "0b09abc1",
   "metadata": {},
   "outputs": [
    {
     "data": {
      "image/png": "[encoded data removed]",
      "text/plain": [
       "<Figure size 432x288 with 2 Axes>"
      ]
     },
     "metadata": {
      "needs_background": "light"
     },
     "output_type": "display_data"
    }
   ],
   "source": [
    "cm = confusion_matrix(test_labels, lb.inverse_transform(predictions), normalize='true')\n",
    "labels = ['Downstairs', 'Jogging', 'Sitting', 'Standing', 'Upstairs', 'Walking']\n",
    "sns.heatmap(cm, xticklabels=labels, yticklabels=labels, annot=True,linewidths = 0.1, cmap = 'YlGnBu')\n",
    "plt.title('LSTM', fontsize = 15)\n",
    "plt.ylabel('True label')\n",
    "plt.xlabel('Predicted label')\n",
    "plt.show()\n"
   ]
  },
  {
   "cell_type": "code",
   "execution_count": 433,
   "id": "6b486ea7",
   "metadata": {},
   "outputs": [
    {
     "data": {
      "text/plain": [
       "0.8132344019066925"
      ]
     },
     "execution_count": 433,
     "metadata": {},
     "output_type": "execute_result"
    }
   ],
   "source": [
    "metrics.f1_score(test_labels, lb.inverse_transform(predictions), average='weighted')"
   ]
  },
  {
   "cell_type": "code",
   "execution_count": 434,
   "id": "7677df2b",
   "metadata": {},
   "outputs": [],
   "source": [
    "from imblearn.under_sampling import RandomUnderSampler\n",
    "from imblearn.over_sampling import RandomOverSampler\n",
    "rus = RandomUnderSampler(random_state=42)\n",
    "ros = RandomOverSampler(random_state=42)\n",
    "xl_res, test_lab = rus.fit_resample(x_list, test_labels)"
   ]
  },
  {
   "cell_type": "code",
   "execution_count": 435,
   "id": "0f3bab1a",
   "metadata": {},
   "outputs": [],
   "source": [
    "ros = RandomOverSampler(random_state=42)\n",
    "yl_res, test_laby = rus.fit_resample(y_list, test_labels)"
   ]
  },
  {
   "cell_type": "code",
   "execution_count": 436,
   "id": "0d2ca8ec",
   "metadata": {},
   "outputs": [],
   "source": [
    "ros = RandomOverSampler(random_state=42)\n",
    "zl_res, test_labz = rus.fit_resample(z_list, test_labels)"
   ]
  },
  {
   "cell_type": "code",
   "execution_count": 437,
   "id": "a9d5a29b",
   "metadata": {},
   "outputs": [
    {
     "name": "stdout",
     "output_type": "stream",
     "text": [
      "20/20 [==============================] - 0s 1ms/step\n"
     ]
    }
   ],
   "source": [
    "xtest_res = list(zip(xl_res, yl_res, zl_res))\n",
    "Xtestres = np.array(xtest_res)\n",
    "Xtestres = np.reshape(Xtestres, (Xtestres.shape[0],Xtestres.shape[1],  Xtestres.shape[2]))\n",
    "predictions = model.predict(Xtestres)\n"
   ]
  },
  {
   "cell_type": "code",
   "execution_count": 438,
   "id": "da685630",
   "metadata": {},
   "outputs": [
    {
     "data": {
      "image/png": "[encoded data removed]",
      "text/plain": [
       "<Figure size 432x288 with 2 Axes>"
      ]
     },
     "metadata": {
      "needs_background": "light"
     },
     "output_type": "display_data"
    }
   ],
   "source": [
    "\n",
    "cm = confusion_matrix(test_lab, lb.inverse_transform(predictions))\n",
    "labels = ['Downstairs', 'Jogging', 'Sitting', 'Standing', 'Upstairs', 'Walking']\n",
    "sns.heatmap(cm, xticklabels=labels, yticklabels=labels, annot=True,linewidths = 0.1, fmt='d', cmap = 'YlGnBu')\n",
    "plt.title('CM LSTM', fontsize = 15)\n",
    "plt.ylabel('True label')\n",
    "plt.xlabel('Predicted label')\n",
    "plt.show()"
   ]
  },
  {
   "cell_type": "code",
   "execution_count": 252,
   "id": "9fb752e4",
   "metadata": {},
   "outputs": [
    {
     "data": {
      "text/plain": [
       "array([28, 29, 30, 31, 32, 33, 34, 35, 36])"
      ]
     },
     "execution_count": 252,
     "metadata": {},
     "output_type": "execute_result"
    }
   ],
   "source": [
    "user_list"
   ]
  },
  {
   "cell_type": "code",
   "execution_count": 253,
   "id": "64ef5506",
   "metadata": {},
   "outputs": [],
   "source": [
    "user_list = df_train.user.unique()\n",
    "activity_list = df_train.activity.unique()\n",
    "\n",
    "for j in user_list:\n",
    "    for k in activity_list:\n",
    "        df_sub = df_train.query(f\"activity=='{k}'\").query(f\"user=={j}\")\n",
    "        df_sub=df_sub.reset_index()\n",
    "        if df_sub.shape[0]>50:\n",
    "            df_sub['x-axis'] = highpass_filter(df_sub['x-axis'], cutoff_freq, sampling_rate)\n",
    "            df_sub['y-axis'] = highpass_filter(df_sub['y-axis'], cutoff_freq, sampling_rate)\n",
    "            df_sub['z-axis'] = highpass_filter(df_sub['z-axis'], cutoff_freq, sampling_rate)\n",
    "        #df_train.query(\"activity=='Walking'\").query(\"user==1\")\n",
    "        for i in range(0, df_sub.shape[0] - window_size, step_size):\n",
    "            users.append(j)"
   ]
  },
  {
   "cell_type": "code",
   "execution_count": 254,
   "id": "bc02e353",
   "metadata": {},
   "outputs": [
    {
     "data": {
      "text/plain": [
       "[1,\n",
       " 1,\n",
       " 1,\n",
       " 1,\n",
       " 1,\n",
       " 1,\n",
       " 1,\n",
       " 1,\n",
       " 1,\n",
       " 1,\n",
       " 1,\n",
       " 1,\n",
       " 1,\n",
       " 1,\n",
       " 1,\n",
       " 1,\n",
       " 1,\n",
       " 1,\n",
       " 1,\n",
       " 1,\n",
       " 1,\n",
       " 1,\n",
       " 1,\n",
       " 1,\n",
       " 1,\n",
       " 1,\n",
       " 1,\n",
       " 1,\n",
       " 1,\n",
       " 1,\n",
       " 1,\n",
       " 1,\n",
       " 1,\n",
       " 1,\n",
       " 1,\n",
       " 1,\n",
       " 1,\n",
       " 1,\n",
       " 1,\n",
       " 1,\n",
       " 1,\n",
       " 1,\n",
       " 1,\n",
       " 1,\n",
       " 1,\n",
       " 1,\n",
       " 1,\n",
       " 1,\n",
       " 1,\n",
       " 1,\n",
       " 1,\n",
       " 1,\n",
       " 1,\n",
       " 1,\n",
       " 1,\n",
       " 1,\n",
       " 1,\n",
       " 1,\n",
       " 1,\n",
       " 1,\n",
       " 1,\n",
       " 1,\n",
       " 1,\n",
       " 1,\n",
       " 1,\n",
       " 1,\n",
       " 1,\n",
       " 1,\n",
       " 1,\n",
       " 1,\n",
       " 1,\n",
       " 1,\n",
       " 1,\n",
       " 1,\n",
       " 1,\n",
       " 1,\n",
       " 1,\n",
       " 1,\n",
       " 1,\n",
       " 1,\n",
       " 1,\n",
       " 1,\n",
       " 1,\n",
       " 1,\n",
       " 1,\n",
       " 1,\n",
       " 1,\n",
       " 1,\n",
       " 1,\n",
       " 1,\n",
       " 1,\n",
       " 1,\n",
       " 1,\n",
       " 1,\n",
       " 1,\n",
       " 1,\n",
       " 1,\n",
       " 1,\n",
       " 1,\n",
       " 1,\n",
       " 1,\n",
       " 1,\n",
       " 1,\n",
       " 1,\n",
       " 1,\n",
       " 1,\n",
       " 1,\n",
       " 1,\n",
       " 1,\n",
       " 1,\n",
       " 1,\n",
       " 1,\n",
       " 1,\n",
       " 1,\n",
       " 1,\n",
       " 1,\n",
       " 1,\n",
       " 1,\n",
       " 1,\n",
       " 1,\n",
       " 1,\n",
       " 1,\n",
       " 1,\n",
       " 1,\n",
       " 1,\n",
       " 1,\n",
       " 1,\n",
       " 1,\n",
       " 1,\n",
       " 1,\n",
       " 1,\n",
       " 1,\n",
       " 1,\n",
       " 1,\n",
       " 1,\n",
       " 1,\n",
       " 1,\n",
       " 1,\n",
       " 1,\n",
       " 1,\n",
       " 1,\n",
       " 1,\n",
       " 1,\n",
       " 1,\n",
       " 1,\n",
       " 1,\n",
       " 1,\n",
       " 1,\n",
       " 1,\n",
       " 1,\n",
       " 1,\n",
       " 1,\n",
       " 1,\n",
       " 1,\n",
       " 1,\n",
       " 1,\n",
       " 1,\n",
       " 1,\n",
       " 1,\n",
       " 1,\n",
       " 1,\n",
       " 1,\n",
       " 1,\n",
       " 1,\n",
       " 1,\n",
       " 1,\n",
       " 1,\n",
       " 1,\n",
       " 1,\n",
       " 1,\n",
       " 1,\n",
       " 1,\n",
       " 1,\n",
       " 1,\n",
       " 1,\n",
       " 1,\n",
       " 1,\n",
       " 1,\n",
       " 1,\n",
       " 1,\n",
       " 1,\n",
       " 1,\n",
       " 1,\n",
       " 1,\n",
       " 1,\n",
       " 1,\n",
       " 1,\n",
       " 1,\n",
       " 1,\n",
       " 1,\n",
       " 1,\n",
       " 1,\n",
       " 1,\n",
       " 1,\n",
       " 1,\n",
       " 1,\n",
       " 1,\n",
       " 1,\n",
       " 1,\n",
       " 1,\n",
       " 1,\n",
       " 1,\n",
       " 1,\n",
       " 1,\n",
       " 1,\n",
       " 1,\n",
       " 1,\n",
       " 1,\n",
       " 1,\n",
       " 1,\n",
       " 1,\n",
       " 1,\n",
       " 1,\n",
       " 1,\n",
       " 1,\n",
       " 1,\n",
       " 1,\n",
       " 1,\n",
       " 1,\n",
       " 1,\n",
       " 1,\n",
       " 1,\n",
       " 1,\n",
       " 1,\n",
       " 1,\n",
       " 1,\n",
       " 1,\n",
       " 1,\n",
       " 1,\n",
       " 1,\n",
       " 1,\n",
       " 1,\n",
       " 1,\n",
       " 1,\n",
       " 1,\n",
       " 1,\n",
       " 1,\n",
       " 1,\n",
       " 1,\n",
       " 1,\n",
       " 1,\n",
       " 1,\n",
       " 1,\n",
       " 1,\n",
       " 1,\n",
       " 1,\n",
       " 1,\n",
       " 1,\n",
       " 1,\n",
       " 1,\n",
       " 1,\n",
       " 1,\n",
       " 1,\n",
       " 1,\n",
       " 1,\n",
       " 1,\n",
       " 1,\n",
       " 1,\n",
       " 1,\n",
       " 1,\n",
       " 1,\n",
       " 1,\n",
       " 1,\n",
       " 1,\n",
       " 1,\n",
       " 1,\n",
       " 1,\n",
       " 1,\n",
       " 1,\n",
       " 1,\n",
       " 1,\n",
       " 1,\n",
       " 1,\n",
       " 1,\n",
       " 1,\n",
       " 1,\n",
       " 1,\n",
       " 1,\n",
       " 1,\n",
       " 1,\n",
       " 1,\n",
       " 1,\n",
       " 1,\n",
       " 1,\n",
       " 1,\n",
       " 1,\n",
       " 1,\n",
       " 1,\n",
       " 1,\n",
       " 1,\n",
       " 1,\n",
       " 1,\n",
       " 1,\n",
       " 1,\n",
       " 1,\n",
       " 1,\n",
       " 1,\n",
       " 1,\n",
       " 1,\n",
       " 1,\n",
       " 1,\n",
       " 1,\n",
       " 1,\n",
       " 1,\n",
       " 1,\n",
       " 1,\n",
       " 1,\n",
       " 1,\n",
       " 1,\n",
       " 1,\n",
       " 1,\n",
       " 1,\n",
       " 1,\n",
       " 1,\n",
       " 1,\n",
       " 1,\n",
       " 1,\n",
       " 1,\n",
       " 1,\n",
       " 1,\n",
       " 1,\n",
       " 1,\n",
       " 1,\n",
       " 1,\n",
       " 1,\n",
       " 1,\n",
       " 1,\n",
       " 1,\n",
       " 1,\n",
       " 1,\n",
       " 1,\n",
       " 1,\n",
       " 1,\n",
       " 1,\n",
       " 1,\n",
       " 1,\n",
       " 1,\n",
       " 1,\n",
       " 1,\n",
       " 1,\n",
       " 1,\n",
       " 1,\n",
       " 1,\n",
       " 1,\n",
       " 1,\n",
       " 1,\n",
       " 1,\n",
       " 1,\n",
       " 1,\n",
       " 1,\n",
       " 1,\n",
       " 1,\n",
       " 1,\n",
       " 1,\n",
       " 1,\n",
       " 1,\n",
       " 1,\n",
       " 1,\n",
       " 1,\n",
       " 1,\n",
       " 1,\n",
       " 1,\n",
       " 1,\n",
       " 1,\n",
       " 1,\n",
       " 1,\n",
       " 1,\n",
       " 1,\n",
       " 1,\n",
       " 1,\n",
       " 1,\n",
       " 1,\n",
       " 1,\n",
       " 1,\n",
       " 1,\n",
       " 1,\n",
       " 1,\n",
       " 1,\n",
       " 1,\n",
       " 1,\n",
       " 1,\n",
       " 1,\n",
       " 1,\n",
       " 1,\n",
       " 1,\n",
       " 1,\n",
       " 1,\n",
       " 1,\n",
       " 1,\n",
       " 1,\n",
       " 1,\n",
       " 1,\n",
       " 1,\n",
       " 1,\n",
       " 1,\n",
       " 1,\n",
       " 1,\n",
       " 1,\n",
       " 1,\n",
       " 1,\n",
       " 1,\n",
       " 1,\n",
       " 1,\n",
       " 1,\n",
       " 1,\n",
       " 1,\n",
       " 1,\n",
       " 1,\n",
       " 1,\n",
       " 1,\n",
       " 1,\n",
       " 1,\n",
       " 1,\n",
       " 1,\n",
       " 1,\n",
       " 1,\n",
       " 1,\n",
       " 1,\n",
       " 1,\n",
       " 1,\n",
       " 1,\n",
       " 1,\n",
       " 1,\n",
       " 1,\n",
       " 1,\n",
       " 1,\n",
       " 1,\n",
       " 1,\n",
       " 1,\n",
       " 1,\n",
       " 1,\n",
       " 1,\n",
       " 1,\n",
       " 1,\n",
       " 1,\n",
       " 1,\n",
       " 1,\n",
       " 1,\n",
       " 1,\n",
       " 1,\n",
       " 1,\n",
       " 1,\n",
       " 1,\n",
       " 1,\n",
       " 1,\n",
       " 1,\n",
       " 1,\n",
       " 1,\n",
       " 1,\n",
       " 1,\n",
       " 1,\n",
       " 1,\n",
       " 1,\n",
       " 1,\n",
       " 1,\n",
       " 1,\n",
       " 1,\n",
       " 1,\n",
       " 1,\n",
       " 1,\n",
       " 1,\n",
       " 1,\n",
       " 1,\n",
       " 1,\n",
       " 1,\n",
       " 1,\n",
       " 1,\n",
       " 1,\n",
       " 1,\n",
       " 1,\n",
       " 1,\n",
       " 1,\n",
       " 1,\n",
       " 1,\n",
       " 1,\n",
       " 1,\n",
       " 1,\n",
       " 1,\n",
       " 1,\n",
       " 1,\n",
       " 1,\n",
       " 1,\n",
       " 1,\n",
       " 1,\n",
       " 1,\n",
       " 1,\n",
       " 1,\n",
       " 1,\n",
       " 1,\n",
       " 1,\n",
       " 1,\n",
       " 1,\n",
       " 1,\n",
       " 1,\n",
       " 1,\n",
       " 1,\n",
       " 1,\n",
       " 1,\n",
       " 1,\n",
       " 1,\n",
       " 1,\n",
       " 1,\n",
       " 1,\n",
       " 1,\n",
       " 1,\n",
       " 1,\n",
       " 1,\n",
       " 1,\n",
       " 1,\n",
       " 1,\n",
       " 1,\n",
       " 1,\n",
       " 1,\n",
       " 1,\n",
       " 1,\n",
       " 1,\n",
       " 1,\n",
       " 1,\n",
       " 1,\n",
       " 1,\n",
       " 1,\n",
       " 1,\n",
       " 1,\n",
       " 1,\n",
       " 1,\n",
       " 1,\n",
       " 1,\n",
       " 1,\n",
       " 1,\n",
       " 1,\n",
       " 1,\n",
       " 1,\n",
       " 1,\n",
       " 1,\n",
       " 1,\n",
       " 1,\n",
       " 1,\n",
       " 1,\n",
       " 1,\n",
       " 1,\n",
       " 1,\n",
       " 1,\n",
       " 1,\n",
       " 1,\n",
       " 1,\n",
       " 1,\n",
       " 1,\n",
       " 1,\n",
       " 1,\n",
       " 1,\n",
       " 1,\n",
       " 1,\n",
       " 1,\n",
       " 1,\n",
       " 1,\n",
       " 1,\n",
       " 1,\n",
       " 1,\n",
       " 1,\n",
       " 1,\n",
       " 1,\n",
       " 1,\n",
       " 1,\n",
       " 1,\n",
       " 1,\n",
       " 1,\n",
       " 1,\n",
       " 1,\n",
       " 1,\n",
       " 1,\n",
       " 1,\n",
       " 1,\n",
       " 1,\n",
       " 1,\n",
       " 1,\n",
       " 1,\n",
       " 1,\n",
       " 1,\n",
       " 1,\n",
       " 1,\n",
       " 1,\n",
       " 1,\n",
       " 1,\n",
       " 1,\n",
       " 1,\n",
       " 1,\n",
       " 1,\n",
       " 1,\n",
       " 1,\n",
       " 1,\n",
       " 1,\n",
       " 1,\n",
       " 1,\n",
       " 1,\n",
       " 1,\n",
       " 1,\n",
       " 1,\n",
       " 1,\n",
       " 2,\n",
       " 2,\n",
       " 2,\n",
       " 2,\n",
       " 2,\n",
       " 2,\n",
       " 2,\n",
       " 2,\n",
       " 2,\n",
       " 2,\n",
       " 2,\n",
       " 2,\n",
       " 2,\n",
       " 2,\n",
       " 2,\n",
       " 2,\n",
       " 2,\n",
       " 2,\n",
       " 2,\n",
       " 2,\n",
       " 2,\n",
       " 2,\n",
       " 2,\n",
       " 2,\n",
       " 2,\n",
       " 2,\n",
       " 2,\n",
       " 2,\n",
       " 2,\n",
       " 2,\n",
       " 2,\n",
       " 2,\n",
       " 2,\n",
       " 2,\n",
       " 2,\n",
       " 2,\n",
       " 2,\n",
       " 2,\n",
       " 2,\n",
       " 2,\n",
       " 2,\n",
       " 2,\n",
       " 2,\n",
       " 2,\n",
       " 2,\n",
       " 2,\n",
       " 2,\n",
       " 2,\n",
       " 2,\n",
       " 2,\n",
       " 2,\n",
       " 2,\n",
       " 2,\n",
       " 2,\n",
       " 2,\n",
       " 2,\n",
       " 2,\n",
       " 2,\n",
       " 2,\n",
       " 2,\n",
       " 2,\n",
       " 2,\n",
       " 2,\n",
       " 2,\n",
       " 2,\n",
       " 2,\n",
       " 2,\n",
       " 2,\n",
       " 2,\n",
       " 2,\n",
       " 2,\n",
       " 2,\n",
       " 2,\n",
       " 2,\n",
       " 2,\n",
       " 2,\n",
       " 2,\n",
       " 2,\n",
       " 2,\n",
       " 2,\n",
       " 2,\n",
       " 2,\n",
       " 2,\n",
       " 2,\n",
       " 2,\n",
       " 2,\n",
       " 2,\n",
       " 2,\n",
       " 2,\n",
       " 2,\n",
       " 2,\n",
       " 2,\n",
       " 2,\n",
       " 2,\n",
       " 2,\n",
       " 2,\n",
       " 2,\n",
       " 2,\n",
       " 2,\n",
       " 2,\n",
       " 2,\n",
       " 2,\n",
       " 2,\n",
       " 2,\n",
       " 2,\n",
       " 2,\n",
       " 2,\n",
       " 2,\n",
       " 2,\n",
       " 2,\n",
       " 2,\n",
       " 2,\n",
       " 2,\n",
       " 2,\n",
       " 2,\n",
       " 2,\n",
       " 2,\n",
       " 2,\n",
       " 2,\n",
       " 2,\n",
       " 2,\n",
       " 2,\n",
       " 2,\n",
       " 2,\n",
       " 2,\n",
       " 2,\n",
       " 2,\n",
       " 2,\n",
       " 2,\n",
       " 2,\n",
       " 2,\n",
       " 2,\n",
       " 2,\n",
       " 2,\n",
       " 2,\n",
       " 2,\n",
       " 2,\n",
       " 2,\n",
       " 2,\n",
       " 2,\n",
       " 2,\n",
       " 2,\n",
       " 2,\n",
       " 2,\n",
       " 2,\n",
       " 2,\n",
       " 2,\n",
       " 2,\n",
       " 2,\n",
       " 2,\n",
       " 2,\n",
       " 2,\n",
       " 2,\n",
       " 2,\n",
       " 2,\n",
       " 2,\n",
       " 2,\n",
       " 2,\n",
       " 2,\n",
       " 2,\n",
       " 2,\n",
       " 2,\n",
       " 2,\n",
       " 2,\n",
       " 2,\n",
       " 2,\n",
       " 2,\n",
       " 2,\n",
       " 2,\n",
       " 2,\n",
       " 2,\n",
       " 2,\n",
       " 2,\n",
       " 2,\n",
       " 2,\n",
       " 2,\n",
       " 2,\n",
       " 2,\n",
       " 2,\n",
       " 2,\n",
       " 2,\n",
       " 2,\n",
       " 2,\n",
       " 2,\n",
       " 2,\n",
       " 2,\n",
       " 2,\n",
       " 2,\n",
       " 2,\n",
       " 2,\n",
       " 2,\n",
       " 2,\n",
       " 2,\n",
       " 2,\n",
       " 2,\n",
       " 2,\n",
       " 2,\n",
       " 2,\n",
       " 2,\n",
       " 2,\n",
       " 2,\n",
       " 2,\n",
       " 2,\n",
       " 2,\n",
       " 2,\n",
       " 2,\n",
       " 2,\n",
       " 2,\n",
       " 2,\n",
       " 2,\n",
       " 2,\n",
       " 2,\n",
       " 2,\n",
       " 2,\n",
       " 2,\n",
       " 2,\n",
       " 2,\n",
       " 2,\n",
       " 2,\n",
       " 2,\n",
       " 2,\n",
       " 2,\n",
       " 2,\n",
       " 2,\n",
       " 2,\n",
       " 2,\n",
       " 2,\n",
       " 2,\n",
       " 2,\n",
       " 2,\n",
       " 2,\n",
       " 2,\n",
       " 2,\n",
       " 2,\n",
       " 2,\n",
       " 2,\n",
       " 2,\n",
       " 2,\n",
       " 2,\n",
       " 2,\n",
       " 2,\n",
       " 2,\n",
       " 2,\n",
       " 2,\n",
       " 2,\n",
       " 2,\n",
       " 2,\n",
       " 2,\n",
       " 2,\n",
       " 2,\n",
       " 2,\n",
       " 2,\n",
       " 2,\n",
       " 2,\n",
       " 2,\n",
       " 2,\n",
       " 2,\n",
       " 2,\n",
       " 2,\n",
       " 2,\n",
       " 2,\n",
       " 2,\n",
       " 2,\n",
       " 2,\n",
       " 2,\n",
       " 2,\n",
       " 2,\n",
       " 2,\n",
       " 2,\n",
       " 2,\n",
       " 2,\n",
       " 2,\n",
       " 2,\n",
       " 2,\n",
       " 2,\n",
       " 2,\n",
       " 2,\n",
       " 2,\n",
       " 2,\n",
       " 2,\n",
       " 2,\n",
       " 2,\n",
       " 2,\n",
       " 2,\n",
       " 2,\n",
       " 2,\n",
       " 2,\n",
       " 2,\n",
       " 2,\n",
       " 2,\n",
       " 2,\n",
       " 2,\n",
       " 2,\n",
       " 2,\n",
       " 2,\n",
       " 2,\n",
       " 2,\n",
       " 2,\n",
       " 2,\n",
       " 2,\n",
       " 2,\n",
       " 2,\n",
       " 2,\n",
       " 2,\n",
       " 2,\n",
       " 2,\n",
       " 2,\n",
       " 2,\n",
       " 2,\n",
       " 2,\n",
       " 2,\n",
       " 2,\n",
       " 2,\n",
       " 2,\n",
       " 2,\n",
       " 2,\n",
       " 2,\n",
       " 2,\n",
       " 2,\n",
       " 2,\n",
       " 2,\n",
       " 2,\n",
       " 2,\n",
       " 2,\n",
       " 2,\n",
       " 2,\n",
       " 2,\n",
       " 2,\n",
       " 2,\n",
       " 2,\n",
       " 2,\n",
       " 2,\n",
       " 2,\n",
       " 2,\n",
       " 2,\n",
       " 2,\n",
       " 2,\n",
       " 2,\n",
       " 2,\n",
       " 2,\n",
       " 2,\n",
       " 2,\n",
       " 2,\n",
       " 2,\n",
       " 2,\n",
       " 2,\n",
       " 2,\n",
       " 2,\n",
       " 2,\n",
       " 2,\n",
       " 2,\n",
       " 2,\n",
       " 2,\n",
       " 2,\n",
       " 2,\n",
       " 2,\n",
       " 2,\n",
       " 2,\n",
       " 2,\n",
       " 2,\n",
       " 2,\n",
       " 2,\n",
       " 2,\n",
       " 2,\n",
       " 2,\n",
       " 2,\n",
       " 2,\n",
       " 2,\n",
       " 2,\n",
       " 2,\n",
       " 2,\n",
       " 2,\n",
       " 2,\n",
       " 2,\n",
       " 2,\n",
       " 2,\n",
       " 2,\n",
       " 2,\n",
       " 2,\n",
       " 2,\n",
       " 2,\n",
       " 2,\n",
       " 2,\n",
       " 2,\n",
       " 2,\n",
       " 2,\n",
       " 2,\n",
       " 2,\n",
       " 2,\n",
       " 2,\n",
       " 2,\n",
       " 2,\n",
       " 2,\n",
       " 2,\n",
       " 2,\n",
       " 2,\n",
       " 2,\n",
       " 2,\n",
       " 2,\n",
       " 2,\n",
       " 2,\n",
       " 2,\n",
       " ...]"
      ]
     },
     "execution_count": 254,
     "metadata": {},
     "output_type": "execute_result"
    }
   ],
   "source": [
    "users"
   ]
  }
 ],
 "metadata": {
  "kernelspec": {
   "display_name": "Python 3 (ipykernel)",
   "language": "python",
   "name": "python3"
  },
  "language_info": {
   "codemirror_mode": {
    "name": "ipython",
    "version": 3
   },
   "file_extension": ".py",
   "mimetype": "text/x-python",
   "name": "python",
   "nbconvert_exporter": "python",
   "pygments_lexer": "ipython3",
   "version": "3.9.18"
  }
 },
 "nbformat": 4,
 "nbformat_minor": 5
}
